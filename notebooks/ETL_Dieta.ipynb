{
 "cells": [
  {
   "cell_type": "code",
   "execution_count": 39,
   "metadata": {},
   "outputs": [],
   "source": [
    "import pandas as pd \n",
    "import numpy as np\n",
    "import matplotlib.pyplot as plt\n",
    "import seaborn as sns\n",
    "import os\n",
    "import plotly.express as px\n",
    "import plotly.graph_objects as go\n",
    "import re\n",
    "\n",
    "from sklearn.linear_model import LogisticRegression\n",
    "from sklearn.model_selection import train_test_split\n",
    "\n",
    "\n",
    "import warnings"
   ]
  },
  {
   "cell_type": "code",
   "execution_count": 40,
   "metadata": {},
   "outputs": [],
   "source": [
    "# Omitir FutureWarnings\n",
    "warnings.simplefilter(action='ignore', category=FutureWarning)"
   ]
  },
  {
   "cell_type": "code",
   "execution_count": 41,
   "metadata": {},
   "outputs": [
    {
     "data": {
      "text/html": [
       "<div>\n",
       "<style scoped>\n",
       "    .dataframe tbody tr th:only-of-type {\n",
       "        vertical-align: middle;\n",
       "    }\n",
       "\n",
       "    .dataframe tbody tr th {\n",
       "        vertical-align: top;\n",
       "    }\n",
       "\n",
       "    .dataframe thead th {\n",
       "        text-align: right;\n",
       "    }\n",
       "</style>\n",
       "<table border=\"1\" class=\"dataframe\">\n",
       "  <thead>\n",
       "    <tr style=\"text-align: right;\">\n",
       "      <th></th>\n",
       "      <th>edad</th>\n",
       "      <th>sexo</th>\n",
       "      <th>estado</th>\n",
       "      <th>peso total</th>\n",
       "      <th>Oxalis</th>\n",
       "      <th>Quercus</th>\n",
       "      <th>Cyp.bulb</th>\n",
       "      <th>Phaseolus</th>\n",
       "      <th>Tephoria</th>\n",
       "      <th>Caracoles</th>\n",
       "      <th>...</th>\n",
       "      <th>covey</th>\n",
       "      <th>dist camino</th>\n",
       "      <th>ppanual17</th>\n",
       "      <th>tmedia17</th>\n",
       "      <th>altitud</th>\n",
       "      <th>lat</th>\n",
       "      <th>lon</th>\n",
       "      <th>hcrop</th>\n",
       "      <th>hland</th>\n",
       "      <th>gap</th>\n",
       "    </tr>\n",
       "    <tr>\n",
       "      <th>id</th>\n",
       "      <th></th>\n",
       "      <th></th>\n",
       "      <th></th>\n",
       "      <th></th>\n",
       "      <th></th>\n",
       "      <th></th>\n",
       "      <th></th>\n",
       "      <th></th>\n",
       "      <th></th>\n",
       "      <th></th>\n",
       "      <th></th>\n",
       "      <th></th>\n",
       "      <th></th>\n",
       "      <th></th>\n",
       "      <th></th>\n",
       "      <th></th>\n",
       "      <th></th>\n",
       "      <th></th>\n",
       "      <th></th>\n",
       "      <th></th>\n",
       "      <th></th>\n",
       "    </tr>\n",
       "  </thead>\n",
       "  <tbody>\n",
       "    <tr>\n",
       "      <th>2014-104</th>\n",
       "      <td>J</td>\n",
       "      <td>Female</td>\n",
       "      <td>NM</td>\n",
       "      <td>9.7584</td>\n",
       "      <td>9.7584</td>\n",
       "      <td>0.0</td>\n",
       "      <td>0.000</td>\n",
       "      <td>0.0000</td>\n",
       "      <td>0.0000</td>\n",
       "      <td>0.0</td>\n",
       "      <td>...</td>\n",
       "      <td>6.0</td>\n",
       "      <td>251.86</td>\n",
       "      <td>462.0</td>\n",
       "      <td>7.054167</td>\n",
       "      <td>2518.0</td>\n",
       "      <td>34.037969</td>\n",
       "      <td>-108.963777</td>\n",
       "      <td>0.000000</td>\n",
       "      <td>0.798600</td>\n",
       "      <td>Rocky Mountain Ponderosa Pine Woodland</td>\n",
       "    </tr>\n",
       "    <tr>\n",
       "      <th>2014-105</th>\n",
       "      <td>J</td>\n",
       "      <td>Male</td>\n",
       "      <td>NM</td>\n",
       "      <td>3.9632</td>\n",
       "      <td>3.9632</td>\n",
       "      <td>0.0</td>\n",
       "      <td>0.000</td>\n",
       "      <td>0.0000</td>\n",
       "      <td>0.0000</td>\n",
       "      <td>0.0</td>\n",
       "      <td>...</td>\n",
       "      <td>6.0</td>\n",
       "      <td>251.86</td>\n",
       "      <td>462.0</td>\n",
       "      <td>7.054167</td>\n",
       "      <td>2518.0</td>\n",
       "      <td>34.037969</td>\n",
       "      <td>-108.963777</td>\n",
       "      <td>0.000000</td>\n",
       "      <td>0.798600</td>\n",
       "      <td>Rocky Mountain Ponderosa Pine Woodland</td>\n",
       "    </tr>\n",
       "    <tr>\n",
       "      <th>2016-133</th>\n",
       "      <td>A</td>\n",
       "      <td>Female</td>\n",
       "      <td>AZ</td>\n",
       "      <td>5.4562</td>\n",
       "      <td>3.8238</td>\n",
       "      <td>0.0</td>\n",
       "      <td>0.000</td>\n",
       "      <td>0.6148</td>\n",
       "      <td>0.0726</td>\n",
       "      <td>0.0</td>\n",
       "      <td>...</td>\n",
       "      <td>10.0</td>\n",
       "      <td>574.06</td>\n",
       "      <td>515.0</td>\n",
       "      <td>15.954167</td>\n",
       "      <td>1527.0</td>\n",
       "      <td>31.375725</td>\n",
       "      <td>-110.530491</td>\n",
       "      <td>0.785803</td>\n",
       "      <td>1.245916</td>\n",
       "      <td>Madrean Encinal</td>\n",
       "    </tr>\n",
       "    <tr>\n",
       "      <th>2014-28</th>\n",
       "      <td>J</td>\n",
       "      <td>Female</td>\n",
       "      <td>NM</td>\n",
       "      <td>4.4976</td>\n",
       "      <td>3.7076</td>\n",
       "      <td>0.0</td>\n",
       "      <td>0.000</td>\n",
       "      <td>0.0000</td>\n",
       "      <td>0.0000</td>\n",
       "      <td>0.0</td>\n",
       "      <td>...</td>\n",
       "      <td>8.0</td>\n",
       "      <td>23.07</td>\n",
       "      <td>385.0</td>\n",
       "      <td>10.979167</td>\n",
       "      <td>1952.0</td>\n",
       "      <td>33.176791</td>\n",
       "      <td>-107.735593</td>\n",
       "      <td>0.464732</td>\n",
       "      <td>0.764466</td>\n",
       "      <td>Colorado Plateau Pinyon-Juniper Woodland</td>\n",
       "    </tr>\n",
       "    <tr>\n",
       "      <th>2016-132</th>\n",
       "      <td>J</td>\n",
       "      <td>Male</td>\n",
       "      <td>AZ</td>\n",
       "      <td>5.4630</td>\n",
       "      <td>2.2011</td>\n",
       "      <td>0.0</td>\n",
       "      <td>0.778</td>\n",
       "      <td>0.3908</td>\n",
       "      <td>0.0000</td>\n",
       "      <td>0.0</td>\n",
       "      <td>...</td>\n",
       "      <td>8.0</td>\n",
       "      <td>236.76</td>\n",
       "      <td>521.0</td>\n",
       "      <td>16.133333</td>\n",
       "      <td>1507.0</td>\n",
       "      <td>31.353053</td>\n",
       "      <td>-110.531060</td>\n",
       "      <td>1.680150</td>\n",
       "      <td>1.541562</td>\n",
       "      <td>Apacherian-Chihuahuan Mesquite Upland Scrub</td>\n",
       "    </tr>\n",
       "  </tbody>\n",
       "</table>\n",
       "<p>5 rows × 145 columns</p>\n",
       "</div>"
      ],
      "text/plain": [
       "         edad    sexo estado  peso total  Oxalis  Quercus  Cyp.bulb  \\\n",
       "id                                                                    \n",
       "2014-104    J  Female     NM      9.7584  9.7584      0.0     0.000   \n",
       "2014-105    J    Male     NM      3.9632  3.9632      0.0     0.000   \n",
       "2016-133    A  Female     AZ      5.4562  3.8238      0.0     0.000   \n",
       "2014-28     J  Female     NM      4.4976  3.7076      0.0     0.000   \n",
       "2016-132    J    Male     AZ      5.4630  2.2011      0.0     0.778   \n",
       "\n",
       "          Phaseolus  Tephoria  Caracoles  ...  covey  dist camino  ppanual17  \\\n",
       "id                                        ...                                  \n",
       "2014-104     0.0000    0.0000        0.0  ...    6.0       251.86      462.0   \n",
       "2014-105     0.0000    0.0000        0.0  ...    6.0       251.86      462.0   \n",
       "2016-133     0.6148    0.0726        0.0  ...   10.0       574.06      515.0   \n",
       "2014-28      0.0000    0.0000        0.0  ...    8.0        23.07      385.0   \n",
       "2016-132     0.3908    0.0000        0.0  ...    8.0       236.76      521.0   \n",
       "\n",
       "           tmedia17  altitud        lat         lon     hcrop     hland  \\\n",
       "id                                                                        \n",
       "2014-104   7.054167   2518.0  34.037969 -108.963777  0.000000  0.798600   \n",
       "2014-105   7.054167   2518.0  34.037969 -108.963777  0.000000  0.798600   \n",
       "2016-133  15.954167   1527.0  31.375725 -110.530491  0.785803  1.245916   \n",
       "2014-28   10.979167   1952.0  33.176791 -107.735593  0.464732  0.764466   \n",
       "2016-132  16.133333   1507.0  31.353053 -110.531060  1.680150  1.541562   \n",
       "\n",
       "                                                  gap  \n",
       "id                                                     \n",
       "2014-104       Rocky Mountain Ponderosa Pine Woodland  \n",
       "2014-105       Rocky Mountain Ponderosa Pine Woodland  \n",
       "2016-133                              Madrean Encinal  \n",
       "2014-28      Colorado Plateau Pinyon-Juniper Woodland  \n",
       "2016-132  Apacherian-Chihuahuan Mesquite Upland Scrub  \n",
       "\n",
       "[5 rows x 145 columns]"
      ]
     },
     "execution_count": 41,
     "metadata": {},
     "output_type": "execute_result"
    }
   ],
   "source": [
    "directorio = '../data'\n",
    "\n",
    "df_original = pd.read_excel(os.path.join(directorio,\"dieta_oscar_MCD.xlsx\"), index_col=0)\n",
    "\n",
    "df_original.head()"
   ]
  },
  {
   "cell_type": "code",
   "execution_count": 42,
   "metadata": {},
   "outputs": [
    {
     "name": "stdout",
     "output_type": "stream",
     "text": [
      "Index(['edad', 'sexo', 'estado', 'peso total', 'Oxalis', 'Quercus', 'Cyp.bulb',\n",
      "       'Phaseolus', 'Tephoria', 'Caracoles',\n",
      "       ...\n",
      "       'covey', 'dist camino', 'ppanual17', 'tmedia17', 'altitud', 'lat',\n",
      "       'lon', 'hcrop', 'hland', 'gap'],\n",
      "      dtype='object', length=145)\n"
     ]
    }
   ],
   "source": [
    "print(df_original.columns)"
   ]
  },
  {
   "cell_type": "code",
   "execution_count": 43,
   "metadata": {},
   "outputs": [
    {
     "data": {
      "text/plain": [
       "(319, 145)"
      ]
     },
     "execution_count": 43,
     "metadata": {},
     "output_type": "execute_result"
    }
   ],
   "source": [
    "df_original.shape"
   ]
  },
  {
   "cell_type": "markdown",
   "metadata": {},
   "source": [
    "Eliminamos los registros donde ambas columnas 'sexo' y 'edad' tienen valores nulos, esto para ir descartando registros que no aporten a nuestro modelo estadistico por falta de información."
   ]
  },
  {
   "cell_type": "code",
   "execution_count": 44,
   "metadata": {},
   "outputs": [],
   "source": [
    "df = df_original.dropna(subset=['edad', 'sexo'], how='all')"
   ]
  },
  {
   "cell_type": "code",
   "execution_count": 45,
   "metadata": {},
   "outputs": [
    {
     "data": {
      "text/plain": [
       "(277, 145)"
      ]
     },
     "execution_count": 45,
     "metadata": {},
     "output_type": "execute_result"
    }
   ],
   "source": [
    "df.shape"
   ]
  },
  {
   "cell_type": "code",
   "execution_count": 46,
   "metadata": {},
   "outputs": [
    {
     "name": "stdout",
     "output_type": "stream",
     "text": [
      "edad              45\n",
      "Quercus            1\n",
      "Cyp.bulb           2\n",
      "Lotus.wrightii     1\n",
      "Fabacea            1\n",
      "SP34               1\n",
      "SPA33              1\n",
      "SPA55              2\n",
      "time              46\n",
      "covey             87\n",
      "dist camino       56\n",
      "ppanual17         56\n",
      "tmedia17          56\n",
      "altitud           56\n",
      "lat               56\n",
      "lon               56\n",
      "hland             57\n",
      "gap               56\n",
      "dtype: int64\n"
     ]
    }
   ],
   "source": [
    "null_columns = df.columns[df.isnull().sum() > 0]\n",
    "print(df[null_columns].isnull().sum())"
   ]
  },
  {
   "cell_type": "markdown",
   "metadata": {},
   "source": [
    "Mostramos una grafica de como se distribuye el peso total entre los distintos sexos."
   ]
  },
  {
   "cell_type": "code",
   "execution_count": 47,
   "metadata": {},
   "outputs": [
    {
     "data": {
      "image/png": "[encoded data removed]",
      "text/plain": [
       "<Figure size 1000x600 with 1 Axes>"
      ]
     },
     "metadata": {},
     "output_type": "display_data"
    }
   ],
   "source": [
    "plt.figure(figsize=(10, 6))\n",
    "sns.boxplot(x='edad', y='peso total', hue='sexo', data=df)\n",
    "plt.title('Distribución de Peso total del buche por Edad y Sexo')\n",
    "plt.show()"
   ]
  },
  {
   "cell_type": "markdown",
   "metadata": {},
   "source": [
    "Aplicaremos una serie de pasos, que nos permitira realizar imputación a la variable sexo, asi con eso apoyar en encontrar un valor adecuado para los datos faltantes en esta variable"
   ]
  },
  {
   "cell_type": "code",
   "execution_count": 48,
   "metadata": {},
   "outputs": [],
   "source": [
    "with warnings.catch_warnings():\n",
    "    warnings.simplefilter(action='ignore', category=pd.errors.SettingWithCopyWarning)\n",
    "    df['sexo'].fillna('Desconocido', inplace=True)"
   ]
  },
  {
   "cell_type": "code",
   "execution_count": 49,
   "metadata": {},
   "outputs": [],
   "source": [
    "df_sexo_known = df[df['sexo'] != 'Desconocido']\n",
    "df_sexo_unknown = df[df['sexo'] == 'Desconocido']"
   ]
  },
  {
   "cell_type": "code",
   "execution_count": 50,
   "metadata": {},
   "outputs": [],
   "source": [
    "X = df_sexo_known[['peso total', 'estado']]\n",
    "y = df_sexo_known['sexo']"
   ]
  },
  {
   "cell_type": "markdown",
   "metadata": {},
   "source": [
    "Usamos regresión logistica, para encontrar el sexo, esto a partir del peso y el estado para encontrar la relación y por lo tanto estimar si puede pertenecer a un macho o hembra."
   ]
  },
  {
   "cell_type": "code",
   "execution_count": 51,
   "metadata": {},
   "outputs": [],
   "source": [
    "if not df_sexo_unknown.empty:\n",
    "    X = pd.get_dummies(X)\n",
    "\n",
    "    feature_names = X.columns.tolist()\n",
    "\n",
    "    X_train, X_test, y_train, y_test = train_test_split(X, y, test_size=0.2, random_state=42)\n",
    "\n",
    "    model_sexo = LogisticRegression()\n",
    "    model_sexo.fit(X_train, y_train)\n",
    "\n",
    "    X_sexo_unknown = pd.get_dummies(df_sexo_unknown[['peso total', 'estado']])\n",
    "\n",
    "    X_sexo_unknown = X_sexo_unknown.reindex(columns=feature_names, fill_value=0)\n",
    "\n",
    "    predicted_sex = model_sexo.predict(X_sexo_unknown)\n",
    "\n",
    "    df.loc[df['sexo'] == 'Desconocido', 'sexo'] = predicted_sex"
   ]
  },
  {
   "cell_type": "code",
   "execution_count": 52,
   "metadata": {},
   "outputs": [],
   "source": [
    "with warnings.catch_warnings():\n",
    "    warnings.simplefilter(action='ignore', category=pd.errors.SettingWithCopyWarning)\n",
    "    df['sexo'] = df['sexo'].str.lower()\n",
    "    df['sexo'] = df['sexo'].apply(lambda x: 'Female' if re.search(r'female', x) else 'Male' if re.search(r'male', x) else None)\n",
    "    df = df.dropna(subset=['sexo'])"
   ]
  },
  {
   "cell_type": "markdown",
   "metadata": {},
   "source": [
    "Aplicaremos una serie de pasos, que nos permitira realizar imputación a la variable edad, asi con eso apoyar en encontrar un valor adecuado para los datos faltantes en esta variable"
   ]
  },
  {
   "cell_type": "code",
   "execution_count": 53,
   "metadata": {},
   "outputs": [],
   "source": [
    "known_age_df = df[df['edad'].notnull()]\n",
    "unknown_age_df = df[df['edad'].isnull()]"
   ]
  },
  {
   "cell_type": "code",
   "execution_count": 54,
   "metadata": {},
   "outputs": [],
   "source": [
    "with warnings.catch_warnings():\n",
    "    warnings.simplefilter(action='ignore', category=pd.errors.SettingWithCopyWarning)\n",
    "\n",
    "    known_age_df['edad'] = known_age_df['edad'].map({'J': 0, 'A': 1})\n",
    "\n",
    "    X_known = known_age_df[['sexo', 'peso total']]\n",
    "    X_known = pd.get_dummies(X_known, drop_first=True)\n",
    "    y_known = known_age_df['edad']\n",
    "\n",
    "    X_unknown = unknown_age_df[['sexo', 'peso total']]\n",
    "    X_unknown = pd.get_dummies(X_unknown, drop_first=True) "
   ]
  },
  {
   "cell_type": "code",
   "execution_count": 55,
   "metadata": {},
   "outputs": [],
   "source": [
    "X_unknown = X_unknown.reindex(columns=X_known.columns, fill_value=0)"
   ]
  },
  {
   "cell_type": "markdown",
   "metadata": {},
   "source": [
    "Usamos regresión logistica, para encontrar la edad, esto a partir del peso y el sexo para encontrar la relación y por lo tanto estimar si puede pertenecer a un adulto o joven."
   ]
  },
  {
   "cell_type": "code",
   "execution_count": 56,
   "metadata": {},
   "outputs": [],
   "source": [
    "with warnings.catch_warnings():\n",
    "    warnings.simplefilter(action='ignore', category=pd.errors.SettingWithCopyWarning)\n",
    "\n",
    "    logreg = LogisticRegression()\n",
    "    logreg.fit(X_known, y_known)\n",
    "\n",
    "    predicted_ages = logreg.predict(X_unknown)\n",
    "\n",
    "    unknown_age_df['edad'] = predicted_ages\n",
    "\n",
    "    unknown_age_df['edad'] = unknown_age_df['edad'].map({0: 'J', 1: 'A'})"
   ]
  },
  {
   "cell_type": "code",
   "execution_count": 57,
   "metadata": {},
   "outputs": [],
   "source": [
    "df.update(unknown_age_df)"
   ]
  },
  {
   "cell_type": "code",
   "execution_count": 58,
   "metadata": {},
   "outputs": [],
   "source": [
    "df['edad'] = df['edad'].str.lower()\n",
    "df['edad'] = df['edad'].apply(lambda x: 'J' if re.search(r'j', x) else 'A' if re.search(r'a', x) else None)\n",
    "df = df.dropna(subset=['edad'])"
   ]
  },
  {
   "cell_type": "code",
   "execution_count": 59,
   "metadata": {},
   "outputs": [
    {
     "name": "stdout",
     "output_type": "stream",
     "text": [
      "Quercus            1\n",
      "Cyp.bulb           2\n",
      "Lotus.wrightii     1\n",
      "Fabacea            1\n",
      "SP34               1\n",
      "SPA33              1\n",
      "SPA55              2\n",
      "time              46\n",
      "covey             87\n",
      "dist camino       56\n",
      "ppanual17         56\n",
      "tmedia17          56\n",
      "altitud           56\n",
      "lat               56\n",
      "lon               56\n",
      "hland             57\n",
      "gap               56\n",
      "dtype: int64\n"
     ]
    }
   ],
   "source": [
    "null_columns = df.columns[df.isnull().sum() > 0]\n",
    "print(df[null_columns].isnull().sum())"
   ]
  },
  {
   "cell_type": "markdown",
   "metadata": {},
   "source": [
    "Mostramos otra vez la grafica de como se distribuye el peso total entre los distintos sexos, despues de haber realizado un proceso de depuración de los datos."
   ]
  },
  {
   "cell_type": "code",
   "execution_count": 60,
   "metadata": {},
   "outputs": [
    {
     "data": {
      "image/png": "[encoded data removed]",
      "text/plain": [
       "<Figure size 1000x600 with 1 Axes>"
      ]
     },
     "metadata": {},
     "output_type": "display_data"
    }
   ],
   "source": [
    "plt.figure(figsize=(10, 6))\n",
    "sns.boxplot(x='edad', y='peso total', hue='sexo', data=df)\n",
    "plt.title('Distribución de Peso total del buche por Edad y Sexo')\n",
    "plt.show()"
   ]
  },
  {
   "cell_type": "markdown",
   "metadata": {},
   "source": [
    "Ponemos en 0 los nulos o vacios en los datos de la dieta."
   ]
  },
  {
   "cell_type": "code",
   "execution_count": 61,
   "metadata": {},
   "outputs": [],
   "source": [
    "null_columns = ['Quercus', 'Cyp.bulb', 'Lotus.wrightii', 'Fabacea', 'SP34', 'SPA33', 'SPA55', 'Bothriochloa.1']\n",
    "df[null_columns] = df[null_columns].fillna(0)"
   ]
  },
  {
   "cell_type": "code",
   "execution_count": 62,
   "metadata": {},
   "outputs": [
    {
     "name": "stdout",
     "output_type": "stream",
     "text": [
      "time           46\n",
      "covey          87\n",
      "dist camino    56\n",
      "ppanual17      56\n",
      "tmedia17       56\n",
      "altitud        56\n",
      "lat            56\n",
      "lon            56\n",
      "hland          57\n",
      "gap            56\n",
      "dtype: int64\n"
     ]
    }
   ],
   "source": [
    "null_columns = df.columns[df.isnull().sum() > 0]\n",
    "print(df[null_columns].isnull().sum())"
   ]
  },
  {
   "cell_type": "markdown",
   "metadata": {},
   "source": [
    "Ahora haremos imputación de datos de la variable time, para que tome un promedio de las ultimos 10 registros a partir de ordenar el id."
   ]
  },
  {
   "cell_type": "code",
   "execution_count": 63,
   "metadata": {},
   "outputs": [],
   "source": [
    "# Ordena el DataFrame por el ID, lo que efectivamente ordenará por año y número\n",
    "df.sort_values(by='id', inplace=True)"
   ]
  },
  {
   "cell_type": "code",
   "execution_count": 64,
   "metadata": {},
   "outputs": [],
   "source": [
    "df['time'] = df['time'].astype(str)\n",
    "\n",
    "# Función para convertir los valores de tiempo en minutos\n",
    "def time_to_minutes(time_str):\n",
    "    hour = int(time_str[:2])\n",
    "    minute = int(time_str[2:])\n",
    "    return hour * 60 + minute\n",
    "\n",
    "# Función para calcular el promedio de los últimos 10 registros no nulos\n",
    "def calculate_average_last_10(index):\n",
    "    # Extrayendo el número del índice y conviértelo a un entero\n",
    "    index_number = int(index.split('-')[1])\n",
    "    # Seleccionando las últimas 10 filas y filtra aquellas con valores de tiempo no nulos\n",
    "    last_10 = df.iloc[max(0, index_number - 10):index_number]\n",
    "    last_10 = last_10[last_10['time'].notnull()]\n",
    "    # Si hay al menos una fila no nula en las últimas 10 filas, calcula el promedio\n",
    "    if not last_10.empty:\n",
    "        return last_10['time'].apply(time_to_minutes).mean()\n",
    "    else:\n",
    "        return None\n",
    "\n",
    "# Iterando sobre las filas y rellena los valores nulos en 'time' con el promedio de los últimos 10 registros no nulos\n",
    "for index, row in df.iterrows():\n",
    "    if pd.isnull(row['time']):\n",
    "        average_last_10 = calculate_average_last_10(index)\n",
    "        if average_last_10 is not None:\n",
    "            hours = int(average_last_10 / 60)\n",
    "            minutes = int(average_last_10 % 60)\n",
    "            df.at[index, 'time'] = f\"{hours:02d}{minutes:02d}\""
   ]
  },
  {
   "cell_type": "code",
   "execution_count": 65,
   "metadata": {},
   "outputs": [
    {
     "name": "stdout",
     "output_type": "stream",
     "text": [
      "covey          87\n",
      "dist camino    56\n",
      "ppanual17      56\n",
      "tmedia17       56\n",
      "altitud        56\n",
      "lat            56\n",
      "lon            56\n",
      "hland          57\n",
      "gap            56\n",
      "dtype: int64\n"
     ]
    }
   ],
   "source": [
    "null_columns = df.columns[df.isnull().sum() > 0]\n",
    "print(df[null_columns].isnull().sum())"
   ]
  },
  {
   "cell_type": "markdown",
   "metadata": {},
   "source": [
    "Inputamos los datos de la variable covey poniendo 1 a los valores nulos, pues seria como avistar solo uno sin un grupo."
   ]
  },
  {
   "cell_type": "code",
   "execution_count": 66,
   "metadata": {},
   "outputs": [],
   "source": [
    "# Ordenar el DataFrame por estado\n",
    "#df.sort_values(by=['estado'], inplace=True)\n",
    "\n",
    "# Función para calcular el promedio de los últimos n valores no nulos\n",
    "#def calculate_average_last_n(group, current_index, n=10):\n",
    "#    previous_values = group.loc[:current_index, 'covey'].dropna().tail(n)\n",
    "#    if not previous_values.empty:\n",
    "#        return previous_values.mean()\n",
    "#    else:\n",
    "#        return np.nan\n",
    "\n",
    "# Iterar sobre las filas y rellenar los valores nulos en 'covey' con el promedio de los últimos valores no nulos del mismo estado\n",
    "#for index, row in df.iterrows():\n",
    "#    if pd.isnull(row['covey']):\n",
    "#        estado = row['estado']\n",
    "        \n",
    "        # Filtrar el DataFrame para el mismo estado\n",
    "#        same_state_group = df[df['estado'] == estado]\n",
    "        \n",
    "        # Calcular el promedio de los últimos 10 valores no nulos en 'covey'\n",
    "#        average_covey = calculate_average_last_n(same_state_group, index, n=10)\n",
    "        \n",
    "#        if not np.isnan(average_covey):\n",
    "#            df.at[index, 'covey'] = average_covey\n",
    "\n",
    "# Opcional: Llenar cualquier valor nulo restante con una estrategia alternativa (e.g., promedio global, mediana, etc.)\n",
    "#df['covey'].fillna(df['covey'].mean(), inplace=True)\n",
    "\n",
    "df['covey'] = df['covey'].fillna(1)\n",
    "df['covey'] = df['covey'].replace('', 1)\n",
    "df['covey'] = df['covey'].replace(r'^\\s*$', 1, regex=True)\n"
   ]
  },
  {
   "cell_type": "code",
   "execution_count": 67,
   "metadata": {},
   "outputs": [
    {
     "name": "stdout",
     "output_type": "stream",
     "text": [
      "dist camino    56\n",
      "ppanual17      56\n",
      "tmedia17       56\n",
      "altitud        56\n",
      "lat            56\n",
      "lon            56\n",
      "hland          57\n",
      "gap            56\n",
      "dtype: int64\n"
     ]
    }
   ],
   "source": [
    "null_columns = df.columns[df.isnull().sum() > 0]\n",
    "print(df[null_columns].isnull().sum())"
   ]
  },
  {
   "cell_type": "markdown",
   "metadata": {},
   "source": [
    "Realizamos la imputación de los datos de las variables lat , lon y altitud, basandonos en la variable estado, dependiendo del promedio de los ultimos 10 datos registrados y asi obtener un valor aproximado."
   ]
  },
  {
   "cell_type": "code",
   "execution_count": 68,
   "metadata": {},
   "outputs": [],
   "source": [
    "# Ordenar el DataFrame por estado\n",
    "df.sort_values(by=['estado'], inplace=True)\n",
    "\n",
    "# Función para calcular el promedio de los últimos n valores no nulos de una columna\n",
    "def calculate_average_last_n(group, column, current_index, n=10):\n",
    "    previous_values = group.loc[:current_index, column].dropna().tail(n)\n",
    "    if not previous_values.empty:\n",
    "        return previous_values.mean()\n",
    "    else:\n",
    "        return np.nan\n",
    "\n",
    "# Iterar sobre las filas y rellenar los valores nulos en 'lat', 'lon' y 'altitud' con el promedio de los últimos valores no nulos del mismo estado\n",
    "for index, row in df.iterrows():\n",
    "    estado = row['estado']\n",
    "    same_state_group = df[df['estado'] == estado]\n",
    "    \n",
    "    # Rellenar valores nulos en 'lat'\n",
    "    if pd.isnull(row['lat']):\n",
    "        average_lat = calculate_average_last_n(same_state_group, 'lat', index, n=10)\n",
    "        if not np.isnan(average_lat):\n",
    "            df.at[index, 'lat'] = average_lat\n",
    "    \n",
    "    # Rellenar valores nulos en 'lon'\n",
    "    if pd.isnull(row['lon']):\n",
    "        average_lon = calculate_average_last_n(same_state_group, 'lon', index, n=10)\n",
    "        if not np.isnan(average_lon):\n",
    "            df.at[index, 'lon'] = average_lon\n",
    "    \n",
    "    # Rellenar valores nulos en 'altitud'\n",
    "    if pd.isnull(row['altitud']):\n",
    "        average_altitude = calculate_average_last_n(same_state_group, 'altitud', index, n=10)\n",
    "        if not np.isnan(average_altitude):\n",
    "            df.at[index, 'altitud'] = average_altitude\n",
    "\n",
    "# Opcional: Llenar cualquier valor nulo restante con una estrategia alternativa (e.g., promedio global, mediana, etc.)\n",
    "df['lat'].fillna(df['lat'].mean(), inplace=True)\n",
    "df['lon'].fillna(df['lon'].mean(), inplace=True)\n",
    "df['altitud'].fillna(df['altitud'].mean(), inplace=True)"
   ]
  },
  {
   "cell_type": "code",
   "execution_count": 69,
   "metadata": {},
   "outputs": [
    {
     "name": "stdout",
     "output_type": "stream",
     "text": [
      "dist camino    56\n",
      "ppanual17      56\n",
      "tmedia17       56\n",
      "hland          57\n",
      "gap            56\n",
      "dtype: int64\n"
     ]
    }
   ],
   "source": [
    "null_columns = df.columns[df.isnull().sum() > 0]\n",
    "print(df[null_columns].isnull().sum())"
   ]
  },
  {
   "cell_type": "markdown",
   "metadata": {},
   "source": [
    "Realizamos una de las ultima imputaciones de datos usando el metodo ffill para obtener valores de la columna previa."
   ]
  },
  {
   "cell_type": "code",
   "execution_count": 70,
   "metadata": {},
   "outputs": [],
   "source": [
    "df.fillna(method='ffill', inplace=True)"
   ]
  },
  {
   "cell_type": "code",
   "execution_count": 71,
   "metadata": {},
   "outputs": [
    {
     "name": "stdout",
     "output_type": "stream",
     "text": [
      "dist camino    1\n",
      "ppanual17      1\n",
      "tmedia17       1\n",
      "hland          1\n",
      "gap            1\n",
      "dtype: int64\n",
      "(277, 145)\n"
     ]
    }
   ],
   "source": [
    "null_columns = df.columns[df.isnull().sum() > 0]\n",
    "print(df[null_columns].isnull().sum())\n",
    "print(df.shape)"
   ]
  },
  {
   "cell_type": "markdown",
   "metadata": {},
   "source": [
    "Realizamos la eliminación de registros donde en las tres variables mostradas abajo tienden a ser nulos, para evitar agregarla a nuestro analisis si no cuentan con estos datos."
   ]
  },
  {
   "cell_type": "code",
   "execution_count": 72,
   "metadata": {},
   "outputs": [],
   "source": [
    "df = df.dropna(subset=['ppanual17', 'tmedia17', 'gap'], how='all')"
   ]
  },
  {
   "cell_type": "code",
   "execution_count": 73,
   "metadata": {},
   "outputs": [
    {
     "name": "stdout",
     "output_type": "stream",
     "text": [
      "(276, 145)\n"
     ]
    }
   ],
   "source": [
    "print(df.shape)"
   ]
  },
  {
   "cell_type": "code",
   "execution_count": 74,
   "metadata": {},
   "outputs": [],
   "source": [
    "df['estado'] = df['estado'].str.upper()"
   ]
  },
  {
   "cell_type": "markdown",
   "metadata": {},
   "source": [
    "Realizamos las ultimas transformaciones de los datos para ayudar con el analisis estadistico."
   ]
  },
  {
   "cell_type": "code",
   "execution_count": 75,
   "metadata": {},
   "outputs": [],
   "source": [
    "with warnings.catch_warnings():\n",
    "    warnings.simplefilter(action='ignore', category=pd.errors.SettingWithCopyWarning)\n",
    "\n",
    "    #Empecemos convirierndo variables categoricas a numéricas\n",
    "    df['Adulto'] = df['edad'].map({'J': 0, 'A': 1})\n",
    "    df['Male'] = df['sexo'].map({'Female': 0, 'Male': 1})\n",
    "    df = pd.get_dummies(df, columns=['estado', 'gap'])\n",
    "\n",
    "    df.drop(['edad', 'sexo'], axis=1, inplace=True)\n",
    "\n",
    "    #Procederemos a normalizar los pesos de alimentos.\n",
    "    from sklearn.preprocessing import StandardScaler\n",
    "\n",
    "    #Seleccionando las columnas de la dieta con los pesos.\n",
    "    columns_pesos = df.columns[df.columns.get_loc(\"Oxalis\"):df.columns.get_loc(\"Juniperus prob. deppeana\") + 1]\n",
    "    scaler = StandardScaler()\n",
    "    df[columns_pesos] = scaler.fit_transform(df[columns_pesos])\n",
    "\n",
    "    df.head()"
   ]
  },
  {
   "cell_type": "code",
   "execution_count": 76,
   "metadata": {},
   "outputs": [],
   "source": [
    "df['covey'] = df['covey'].fillna(1)\n",
    "df['covey'] = df['covey'].replace('', 1)\n",
    "df['covey'] = df['covey'].replace(r'^\\s*$', 1, regex=True)"
   ]
  },
  {
   "cell_type": "code",
   "execution_count": 77,
   "metadata": {},
   "outputs": [
    {
     "name": "stdout",
     "output_type": "stream",
     "text": [
      "Series([], dtype: float64)\n",
      "(276, 159)\n"
     ]
    }
   ],
   "source": [
    "null_columns = df.columns[df.isnull().sum() > 0]\n",
    "print(df[null_columns].isnull().sum())\n",
    "print(df.shape)"
   ]
  },
  {
   "cell_type": "code",
   "execution_count": 78,
   "metadata": {},
   "outputs": [],
   "source": [
    "df.to_csv('../data/data_procesada.csv', index=False)"
   ]
  }
 ],
 "metadata": {
  "kernelspec": {
   "display_name": "Python 3",
   "language": "python",
   "name": "python3"
  },
  "language_info": {
   "codemirror_mode": {
    "name": "ipython",
    "version": 3
   },
   "file_extension": ".py",
   "mimetype": "text/x-python",
   "name": "python",
   "nbconvert_exporter": "python",
   "pygments_lexer": "ipython3",
   "version": "3.12.0"
  }
 },
 "nbformat": 4,
 "nbformat_minor": 2
}
