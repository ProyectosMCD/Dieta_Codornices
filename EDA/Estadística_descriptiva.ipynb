{
 "cells": [
  {
   "cell_type": "markdown",
   "metadata": {},
   "source": [
    "# Estadística descriptiva para datos de dieta de la codorniz moctezuma"
   ]
  },
  {
   "cell_type": "markdown",
   "metadata": {},
   "source": [
    "### Importando librerías"
   ]
  },
  {
   "cell_type": "code",
   "execution_count": 17,
   "metadata": {},
   "outputs": [],
   "source": [
    "import pandas as pd \n",
    "import numpy as np\n",
    "import matplotlib.pyplot as plt\n",
    "import seaborn as sns\n",
    "import os\n",
    "from ydata_profiling import ProfileReport\n",
    "\n",
    "import plotly.express as px\n",
    "import plotly.graph_objects as go\n"
   ]
  },
  {
   "cell_type": "markdown",
   "metadata": {},
   "source": [
    "### Cargando los datos"
   ]
  },
  {
   "cell_type": "code",
   "execution_count": 4,
   "metadata": {},
   "outputs": [
    {
     "data": {
      "text/html": [
       "<div>\n",
       "<style scoped>\n",
       "    .dataframe tbody tr th:only-of-type {\n",
       "        vertical-align: middle;\n",
       "    }\n",
       "\n",
       "    .dataframe tbody tr th {\n",
       "        vertical-align: top;\n",
       "    }\n",
       "\n",
       "    .dataframe thead th {\n",
       "        text-align: right;\n",
       "    }\n",
       "</style>\n",
       "<table border=\"1\" class=\"dataframe\">\n",
       "  <thead>\n",
       "    <tr style=\"text-align: right;\">\n",
       "      <th></th>\n",
       "      <th>edad</th>\n",
       "      <th>sexo</th>\n",
       "      <th>estado</th>\n",
       "      <th>peso total</th>\n",
       "      <th>Oxalis</th>\n",
       "      <th>Quercus</th>\n",
       "      <th>Cyp.bulb</th>\n",
       "      <th>Phaseolus</th>\n",
       "      <th>Tephoria</th>\n",
       "      <th>Caracoles</th>\n",
       "      <th>...</th>\n",
       "      <th>covey</th>\n",
       "      <th>dist camino</th>\n",
       "      <th>ppanual17</th>\n",
       "      <th>tmedia17</th>\n",
       "      <th>altitud</th>\n",
       "      <th>lat</th>\n",
       "      <th>lon</th>\n",
       "      <th>hcrop</th>\n",
       "      <th>hland</th>\n",
       "      <th>gap</th>\n",
       "    </tr>\n",
       "    <tr>\n",
       "      <th>id</th>\n",
       "      <th></th>\n",
       "      <th></th>\n",
       "      <th></th>\n",
       "      <th></th>\n",
       "      <th></th>\n",
       "      <th></th>\n",
       "      <th></th>\n",
       "      <th></th>\n",
       "      <th></th>\n",
       "      <th></th>\n",
       "      <th></th>\n",
       "      <th></th>\n",
       "      <th></th>\n",
       "      <th></th>\n",
       "      <th></th>\n",
       "      <th></th>\n",
       "      <th></th>\n",
       "      <th></th>\n",
       "      <th></th>\n",
       "      <th></th>\n",
       "      <th></th>\n",
       "    </tr>\n",
       "  </thead>\n",
       "  <tbody>\n",
       "    <tr>\n",
       "      <th>2014-104</th>\n",
       "      <td>J</td>\n",
       "      <td>Female</td>\n",
       "      <td>NM</td>\n",
       "      <td>9.7584</td>\n",
       "      <td>9.7584</td>\n",
       "      <td>0.0</td>\n",
       "      <td>0.000</td>\n",
       "      <td>0.0000</td>\n",
       "      <td>0.0000</td>\n",
       "      <td>0.0</td>\n",
       "      <td>...</td>\n",
       "      <td>6.0</td>\n",
       "      <td>251.86</td>\n",
       "      <td>462.0</td>\n",
       "      <td>7.054167</td>\n",
       "      <td>2518.0</td>\n",
       "      <td>34.037969</td>\n",
       "      <td>-108.963777</td>\n",
       "      <td>0.000000</td>\n",
       "      <td>0.798600</td>\n",
       "      <td>Rocky Mountain Ponderosa Pine Woodland</td>\n",
       "    </tr>\n",
       "    <tr>\n",
       "      <th>2014-105</th>\n",
       "      <td>J</td>\n",
       "      <td>Male</td>\n",
       "      <td>NM</td>\n",
       "      <td>3.9632</td>\n",
       "      <td>3.9632</td>\n",
       "      <td>0.0</td>\n",
       "      <td>0.000</td>\n",
       "      <td>0.0000</td>\n",
       "      <td>0.0000</td>\n",
       "      <td>0.0</td>\n",
       "      <td>...</td>\n",
       "      <td>6.0</td>\n",
       "      <td>251.86</td>\n",
       "      <td>462.0</td>\n",
       "      <td>7.054167</td>\n",
       "      <td>2518.0</td>\n",
       "      <td>34.037969</td>\n",
       "      <td>-108.963777</td>\n",
       "      <td>0.000000</td>\n",
       "      <td>0.798600</td>\n",
       "      <td>Rocky Mountain Ponderosa Pine Woodland</td>\n",
       "    </tr>\n",
       "    <tr>\n",
       "      <th>2016-133</th>\n",
       "      <td>A</td>\n",
       "      <td>Female</td>\n",
       "      <td>AZ</td>\n",
       "      <td>5.4562</td>\n",
       "      <td>3.8238</td>\n",
       "      <td>0.0</td>\n",
       "      <td>0.000</td>\n",
       "      <td>0.6148</td>\n",
       "      <td>0.0726</td>\n",
       "      <td>0.0</td>\n",
       "      <td>...</td>\n",
       "      <td>10.0</td>\n",
       "      <td>574.06</td>\n",
       "      <td>515.0</td>\n",
       "      <td>15.954167</td>\n",
       "      <td>1527.0</td>\n",
       "      <td>31.375725</td>\n",
       "      <td>-110.530491</td>\n",
       "      <td>0.785803</td>\n",
       "      <td>1.245916</td>\n",
       "      <td>Madrean Encinal</td>\n",
       "    </tr>\n",
       "    <tr>\n",
       "      <th>2014-28</th>\n",
       "      <td>J</td>\n",
       "      <td>Female</td>\n",
       "      <td>NM</td>\n",
       "      <td>4.4976</td>\n",
       "      <td>3.7076</td>\n",
       "      <td>0.0</td>\n",
       "      <td>0.000</td>\n",
       "      <td>0.0000</td>\n",
       "      <td>0.0000</td>\n",
       "      <td>0.0</td>\n",
       "      <td>...</td>\n",
       "      <td>8.0</td>\n",
       "      <td>23.07</td>\n",
       "      <td>385.0</td>\n",
       "      <td>10.979167</td>\n",
       "      <td>1952.0</td>\n",
       "      <td>33.176791</td>\n",
       "      <td>-107.735593</td>\n",
       "      <td>0.464732</td>\n",
       "      <td>0.764466</td>\n",
       "      <td>Colorado Plateau Pinyon-Juniper Woodland</td>\n",
       "    </tr>\n",
       "    <tr>\n",
       "      <th>2016-132</th>\n",
       "      <td>J</td>\n",
       "      <td>Male</td>\n",
       "      <td>AZ</td>\n",
       "      <td>5.4630</td>\n",
       "      <td>2.2011</td>\n",
       "      <td>0.0</td>\n",
       "      <td>0.778</td>\n",
       "      <td>0.3908</td>\n",
       "      <td>0.0000</td>\n",
       "      <td>0.0</td>\n",
       "      <td>...</td>\n",
       "      <td>8.0</td>\n",
       "      <td>236.76</td>\n",
       "      <td>521.0</td>\n",
       "      <td>16.133333</td>\n",
       "      <td>1507.0</td>\n",
       "      <td>31.353053</td>\n",
       "      <td>-110.531060</td>\n",
       "      <td>1.680150</td>\n",
       "      <td>1.541562</td>\n",
       "      <td>Apacherian-Chihuahuan Mesquite Upland Scrub</td>\n",
       "    </tr>\n",
       "  </tbody>\n",
       "</table>\n",
       "<p>5 rows × 145 columns</p>\n",
       "</div>"
      ],
      "text/plain": [
       "         edad    sexo estado  peso total  Oxalis  Quercus  Cyp.bulb  \\\n",
       "id                                                                    \n",
       "2014-104    J  Female     NM      9.7584  9.7584      0.0     0.000   \n",
       "2014-105    J    Male     NM      3.9632  3.9632      0.0     0.000   \n",
       "2016-133    A  Female     AZ      5.4562  3.8238      0.0     0.000   \n",
       "2014-28     J  Female     NM      4.4976  3.7076      0.0     0.000   \n",
       "2016-132    J    Male     AZ      5.4630  2.2011      0.0     0.778   \n",
       "\n",
       "          Phaseolus  Tephoria  Caracoles  ...  covey  dist camino  ppanual17  \\\n",
       "id                                        ...                                  \n",
       "2014-104     0.0000    0.0000        0.0  ...    6.0       251.86      462.0   \n",
       "2014-105     0.0000    0.0000        0.0  ...    6.0       251.86      462.0   \n",
       "2016-133     0.6148    0.0726        0.0  ...   10.0       574.06      515.0   \n",
       "2014-28      0.0000    0.0000        0.0  ...    8.0        23.07      385.0   \n",
       "2016-132     0.3908    0.0000        0.0  ...    8.0       236.76      521.0   \n",
       "\n",
       "           tmedia17  altitud        lat         lon     hcrop     hland  \\\n",
       "id                                                                        \n",
       "2014-104   7.054167   2518.0  34.037969 -108.963777  0.000000  0.798600   \n",
       "2014-105   7.054167   2518.0  34.037969 -108.963777  0.000000  0.798600   \n",
       "2016-133  15.954167   1527.0  31.375725 -110.530491  0.785803  1.245916   \n",
       "2014-28   10.979167   1952.0  33.176791 -107.735593  0.464732  0.764466   \n",
       "2016-132  16.133333   1507.0  31.353053 -110.531060  1.680150  1.541562   \n",
       "\n",
       "                                                  gap  \n",
       "id                                                     \n",
       "2014-104       Rocky Mountain Ponderosa Pine Woodland  \n",
       "2014-105       Rocky Mountain Ponderosa Pine Woodland  \n",
       "2016-133                              Madrean Encinal  \n",
       "2014-28      Colorado Plateau Pinyon-Juniper Woodland  \n",
       "2016-132  Apacherian-Chihuahuan Mesquite Upland Scrub  \n",
       "\n",
       "[5 rows x 145 columns]"
      ]
     },
     "execution_count": 4,
     "metadata": {},
     "output_type": "execute_result"
    }
   ],
   "source": [
    "directorio = '../data'\n",
    "\n",
    "df = pd.read_excel(os.path.join(directorio,\"dieta_oscar_MCD.xlsx\"), index_col=0)\n",
    "\n",
    "df.head()"
   ]
  },
  {
   "cell_type": "markdown",
   "metadata": {},
   "source": [
    "### Extrayendo algunas estadísticas básicas descriptivas de los datos"
   ]
  },
  {
   "cell_type": "code",
   "execution_count": 5,
   "metadata": {},
   "outputs": [
    {
     "name": "stdout",
     "output_type": "stream",
     "text": [
      "<class 'pandas.core.frame.DataFrame'>\n",
      "Index: 319 entries, 2014-104 to 2015-63\n",
      "Columns: 145 entries, edad to gap\n",
      "dtypes: float64(137), int64(4), object(4)\n",
      "memory usage: 363.9+ KB\n"
     ]
    }
   ],
   "source": [
    "df.info()"
   ]
  },
  {
   "cell_type": "markdown",
   "metadata": {},
   "source": [
    "##### Analizando las variables categóricas:"
   ]
  },
  {
   "cell_type": "code",
   "execution_count": 14,
   "metadata": {},
   "outputs": [
    {
     "data": {
      "text/html": [
       "<div>\n",
       "<style scoped>\n",
       "    .dataframe tbody tr th:only-of-type {\n",
       "        vertical-align: middle;\n",
       "    }\n",
       "\n",
       "    .dataframe tbody tr th {\n",
       "        vertical-align: top;\n",
       "    }\n",
       "\n",
       "    .dataframe thead th {\n",
       "        text-align: right;\n",
       "    }\n",
       "</style>\n",
       "<table border=\"1\" class=\"dataframe\">\n",
       "  <thead>\n",
       "    <tr style=\"text-align: right;\">\n",
       "      <th></th>\n",
       "      <th>edad</th>\n",
       "      <th>sexo</th>\n",
       "      <th>estado</th>\n",
       "      <th>gap</th>\n",
       "    </tr>\n",
       "  </thead>\n",
       "  <tbody>\n",
       "    <tr>\n",
       "      <th>count</th>\n",
       "      <td>232</td>\n",
       "      <td>277</td>\n",
       "      <td>319</td>\n",
       "      <td>221</td>\n",
       "    </tr>\n",
       "    <tr>\n",
       "      <th>unique</th>\n",
       "      <td>2</td>\n",
       "      <td>4</td>\n",
       "      <td>3</td>\n",
       "      <td>14</td>\n",
       "    </tr>\n",
       "    <tr>\n",
       "      <th>top</th>\n",
       "      <td>J</td>\n",
       "      <td>Male</td>\n",
       "      <td>AZ</td>\n",
       "      <td>Apacherian-Chihuahuan Piedmont Semi-Desert Gra...</td>\n",
       "    </tr>\n",
       "    <tr>\n",
       "      <th>freq</th>\n",
       "      <td>165</td>\n",
       "      <td>171</td>\n",
       "      <td>176</td>\n",
       "      <td>52</td>\n",
       "    </tr>\n",
       "  </tbody>\n",
       "</table>\n",
       "</div>"
      ],
      "text/plain": [
       "       edad  sexo estado                                                gap\n",
       "count   232   277    319                                                221\n",
       "unique    2     4      3                                                 14\n",
       "top       J  Male     AZ  Apacherian-Chihuahuan Piedmont Semi-Desert Gra...\n",
       "freq    165   171    176                                                 52"
      ]
     },
     "execution_count": 14,
     "metadata": {},
     "output_type": "execute_result"
    }
   ],
   "source": [
    "df.describe(include=['object'])"
   ]
  },
  {
   "cell_type": "markdown",
   "metadata": {},
   "source": [
    "##### Analizando las variables numéricas:"
   ]
  },
  {
   "cell_type": "code",
   "execution_count": 15,
   "metadata": {},
   "outputs": [
    {
     "data": {
      "text/html": [
       "<div>\n",
       "<style scoped>\n",
       "    .dataframe tbody tr th:only-of-type {\n",
       "        vertical-align: middle;\n",
       "    }\n",
       "\n",
       "    .dataframe tbody tr th {\n",
       "        vertical-align: top;\n",
       "    }\n",
       "\n",
       "    .dataframe thead th {\n",
       "        text-align: right;\n",
       "    }\n",
       "</style>\n",
       "<table border=\"1\" class=\"dataframe\">\n",
       "  <thead>\n",
       "    <tr style=\"text-align: right;\">\n",
       "      <th></th>\n",
       "      <th>peso total</th>\n",
       "      <th>Oxalis</th>\n",
       "      <th>Quercus</th>\n",
       "      <th>Cyp.bulb</th>\n",
       "      <th>Phaseolus</th>\n",
       "      <th>Tephoria</th>\n",
       "      <th>Caracoles</th>\n",
       "      <th>Insectos</th>\n",
       "      <th>Physalis</th>\n",
       "      <th>Vitis.arizonica</th>\n",
       "      <th>Lupinus</th>\n",
       "      <th>Lotus.wrightii</th>\n",
       "      <th>Cyp.rizo</th>\n",
       "      <th>Commelina.dianthifolia</th>\n",
       "      <th>Kallstroemia.parviflora</th>\n",
       "      <th>Fabacea</th>\n",
       "      <th>Ipomoea</th>\n",
       "      <th>Desmodium</th>\n",
       "      <th>Euphorbia probably E. bilobata</th>\n",
       "      <th>Talinum.aurantiacum</th>\n",
       "      <th>SP17</th>\n",
       "      <th>Heterosperma.pinnatum</th>\n",
       "      <th>SP19</th>\n",
       "      <th>Desmanthus cooleyi</th>\n",
       "      <th>Celtis.reticulata</th>\n",
       "      <th>Panicum.hirticaule</th>\n",
       "      <th>Setaria</th>\n",
       "      <th>Malvacea</th>\n",
       "      <th>Cyperus.fendlerianus</th>\n",
       "      <th>SP26</th>\n",
       "      <th>Setaria.1</th>\n",
       "      <th>SP28</th>\n",
       "      <th>Cryptantha.cinerea</th>\n",
       "      <th>Sphaeralcea.fendleri</th>\n",
       "      <th>Hymenopappus.flavescens</th>\n",
       "      <th>Solaneaceae</th>\n",
       "      <th>Euphorbia</th>\n",
       "      <th>SP34</th>\n",
       "      <th>Piptochaetium.fimbriatum</th>\n",
       "      <th>Acalypha.neomexiacana</th>\n",
       "      <th>Fabaceae</th>\n",
       "      <th>Lupinus.neomexicanus</th>\n",
       "      <th>Mirabilis.longiflora</th>\n",
       "      <th>SP44</th>\n",
       "      <th>Prunus.virginiana</th>\n",
       "      <th>SP46</th>\n",
       "      <th>Urochloa</th>\n",
       "      <th>Cyperaceae</th>\n",
       "      <th>Pinus.edulis</th>\n",
       "      <th>Fabacea.1</th>\n",
       "      <th>SP51</th>\n",
       "      <th>SP52</th>\n",
       "      <th>Calliandra.humilis</th>\n",
       "      <th>Fabaceae.1</th>\n",
       "      <th>Solanum</th>\n",
       "      <th>Calliandra.eriophylla</th>\n",
       "      <th>Desmanthus.cooleyi</th>\n",
       "      <th>Sp59</th>\n",
       "      <th>Croton.pottsii</th>\n",
       "      <th>Lupinus.1</th>\n",
       "      <th>Polygonaceae</th>\n",
       "      <th>Euphorbia.1</th>\n",
       "      <th>Calliandra</th>\n",
       "      <th>Solanum.1</th>\n",
       "      <th>SPA1</th>\n",
       "      <th>SPA2</th>\n",
       "      <th>Lotus</th>\n",
       "      <th>Bidens.leptocephala</th>\n",
       "      <th>SPA5</th>\n",
       "      <th>SPA6</th>\n",
       "      <th>Tephrosia</th>\n",
       "      <th>Asteraceae.Uropappus lindleyi</th>\n",
       "      <th>SPA9</th>\n",
       "      <th>SPA10</th>\n",
       "      <th>Ziziphus.obtisufolia</th>\n",
       "      <th>Aristida</th>\n",
       "      <th>Diodia.teres</th>\n",
       "      <th>Bothriochloa</th>\n",
       "      <th>Pinus.dulis</th>\n",
       "      <th>Paspalum.distichum</th>\n",
       "      <th>SPA17</th>\n",
       "      <th>SPA18</th>\n",
       "      <th>SPA19</th>\n",
       "      <th>Euphorbia.exstipulata</th>\n",
       "      <th>SPA21</th>\n",
       "      <th>Asteracea</th>\n",
       "      <th>SPA23</th>\n",
       "      <th>SPA24</th>\n",
       "      <th>Chilopsis.linearis</th>\n",
       "      <th>Sorghum.halepense</th>\n",
       "      <th>Amaranthus</th>\n",
       "      <th>Setaria nigricans</th>\n",
       "      <th>SPA29</th>\n",
       "      <th>SPA30</th>\n",
       "      <th>SPA31</th>\n",
       "      <th>SPA32</th>\n",
       "      <th>SPA33</th>\n",
       "      <th>SPA34</th>\n",
       "      <th>SPA35</th>\n",
       "      <th>SPA36</th>\n",
       "      <th>SPA37</th>\n",
       "      <th>SPA38</th>\n",
       "      <th>SPA39</th>\n",
       "      <th>SPA40</th>\n",
       "      <th>Agave.or.Yucca</th>\n",
       "      <th>SPA42</th>\n",
       "      <th>SPA43</th>\n",
       "      <th>SPA44</th>\n",
       "      <th>Sida</th>\n",
       "      <th>SPA46</th>\n",
       "      <th>SPA47</th>\n",
       "      <th>Tragia</th>\n",
       "      <th>Lupinus.2</th>\n",
       "      <th>SPA50</th>\n",
       "      <th>SPA51</th>\n",
       "      <th>SPA52</th>\n",
       "      <th>SPA53</th>\n",
       "      <th>SPA54</th>\n",
       "      <th>SPA55</th>\n",
       "      <th>Amaranthus.1</th>\n",
       "      <th>Desmodium.1</th>\n",
       "      <th>Bothriochloa.1</th>\n",
       "      <th>Euphorbia.2</th>\n",
       "      <th>SPA60</th>\n",
       "      <th>SPA61</th>\n",
       "      <th>SPA62</th>\n",
       "      <th>Phaseolus.1</th>\n",
       "      <th>SPA64</th>\n",
       "      <th>SPA65</th>\n",
       "      <th>Arachnida</th>\n",
       "      <th>Juniperus prob. deppeana</th>\n",
       "      <th>time</th>\n",
       "      <th>covey</th>\n",
       "      <th>dist camino</th>\n",
       "      <th>ppanual17</th>\n",
       "      <th>tmedia17</th>\n",
       "      <th>altitud</th>\n",
       "      <th>lat</th>\n",
       "      <th>lon</th>\n",
       "      <th>hcrop</th>\n",
       "      <th>hland</th>\n",
       "    </tr>\n",
       "  </thead>\n",
       "  <tbody>\n",
       "    <tr>\n",
       "      <th>count</th>\n",
       "      <td>319.000000</td>\n",
       "      <td>319.000000</td>\n",
       "      <td>318.000000</td>\n",
       "      <td>317.000000</td>\n",
       "      <td>319.000000</td>\n",
       "      <td>319.000000</td>\n",
       "      <td>319.000000</td>\n",
       "      <td>319.000000</td>\n",
       "      <td>319.000000</td>\n",
       "      <td>319.000000</td>\n",
       "      <td>319.000000</td>\n",
       "      <td>318.000000</td>\n",
       "      <td>319.000000</td>\n",
       "      <td>319.000000</td>\n",
       "      <td>319.000000</td>\n",
       "      <td>318.000000</td>\n",
       "      <td>319.000000</td>\n",
       "      <td>319.000000</td>\n",
       "      <td>319.000000</td>\n",
       "      <td>319.000000</td>\n",
       "      <td>319.000000</td>\n",
       "      <td>319.000000</td>\n",
       "      <td>319.000000</td>\n",
       "      <td>319.000000</td>\n",
       "      <td>319.000000</td>\n",
       "      <td>319.000000</td>\n",
       "      <td>319.000000</td>\n",
       "      <td>319.000000</td>\n",
       "      <td>319.000000</td>\n",
       "      <td>319.000000</td>\n",
       "      <td>319.000000</td>\n",
       "      <td>319.000000</td>\n",
       "      <td>319.000000</td>\n",
       "      <td>319.00000</td>\n",
       "      <td>319.000000</td>\n",
       "      <td>319.000000</td>\n",
       "      <td>319.000000</td>\n",
       "      <td>318.000000</td>\n",
       "      <td>319.000000</td>\n",
       "      <td>319.000000</td>\n",
       "      <td>319.000000</td>\n",
       "      <td>319.000000</td>\n",
       "      <td>319.000000</td>\n",
       "      <td>319.000000</td>\n",
       "      <td>319.000000</td>\n",
       "      <td>319.000000</td>\n",
       "      <td>319.000000</td>\n",
       "      <td>319.000000</td>\n",
       "      <td>319.000000</td>\n",
       "      <td>319.000000</td>\n",
       "      <td>319.000000</td>\n",
       "      <td>319.000000</td>\n",
       "      <td>319.000000</td>\n",
       "      <td>319.000000</td>\n",
       "      <td>319.000000</td>\n",
       "      <td>319.000000</td>\n",
       "      <td>319.000000</td>\n",
       "      <td>319.0</td>\n",
       "      <td>319.000000</td>\n",
       "      <td>319.000000</td>\n",
       "      <td>319.000000</td>\n",
       "      <td>319.000000</td>\n",
       "      <td>319.000000</td>\n",
       "      <td>319.000000</td>\n",
       "      <td>319.000000</td>\n",
       "      <td>319.000000</td>\n",
       "      <td>319.000000</td>\n",
       "      <td>319.000000</td>\n",
       "      <td>319.000000</td>\n",
       "      <td>319.000000</td>\n",
       "      <td>319.000000</td>\n",
       "      <td>319.000000</td>\n",
       "      <td>319.000000</td>\n",
       "      <td>319.000000</td>\n",
       "      <td>319.00000</td>\n",
       "      <td>3.190000e+02</td>\n",
       "      <td>319.000000</td>\n",
       "      <td>319.000000</td>\n",
       "      <td>319.000000</td>\n",
       "      <td>319.000000</td>\n",
       "      <td>319.000000</td>\n",
       "      <td>319.000000</td>\n",
       "      <td>319.0</td>\n",
       "      <td>319.000000</td>\n",
       "      <td>319.000000</td>\n",
       "      <td>319.000000</td>\n",
       "      <td>319.000000</td>\n",
       "      <td>319.000000</td>\n",
       "      <td>319.000000</td>\n",
       "      <td>319.000000</td>\n",
       "      <td>319.000000</td>\n",
       "      <td>319.000000</td>\n",
       "      <td>319.000000</td>\n",
       "      <td>319.000000</td>\n",
       "      <td>319.000000</td>\n",
       "      <td>319.0</td>\n",
       "      <td>318.000000</td>\n",
       "      <td>319.000000</td>\n",
       "      <td>319.000000</td>\n",
       "      <td>319.000000</td>\n",
       "      <td>319.000000</td>\n",
       "      <td>319.000000</td>\n",
       "      <td>319.000000</td>\n",
       "      <td>319.000000</td>\n",
       "      <td>319.000000</td>\n",
       "      <td>319.000000</td>\n",
       "      <td>319.000000</td>\n",
       "      <td>319.000000</td>\n",
       "      <td>319.0</td>\n",
       "      <td>319.000000</td>\n",
       "      <td>319.000000</td>\n",
       "      <td>319.000000</td>\n",
       "      <td>319.000000</td>\n",
       "      <td>319.000000</td>\n",
       "      <td>319.000000</td>\n",
       "      <td>319.000000</td>\n",
       "      <td>319.000000</td>\n",
       "      <td>319.000000</td>\n",
       "      <td>317.000000</td>\n",
       "      <td>319.000000</td>\n",
       "      <td>319.000000</td>\n",
       "      <td>318.000000</td>\n",
       "      <td>319.000000</td>\n",
       "      <td>319.000000</td>\n",
       "      <td>319.000000</td>\n",
       "      <td>319.000000</td>\n",
       "      <td>319.000000</td>\n",
       "      <td>319.000000</td>\n",
       "      <td>319.000000</td>\n",
       "      <td>319.000000</td>\n",
       "      <td>319.000000</td>\n",
       "      <td>232.000000</td>\n",
       "      <td>190.000000</td>\n",
       "      <td>221.000000</td>\n",
       "      <td>221.000000</td>\n",
       "      <td>221.000000</td>\n",
       "      <td>221.000000</td>\n",
       "      <td>221.000000</td>\n",
       "      <td>221.000000</td>\n",
       "      <td>319.000000</td>\n",
       "      <td>220.000000</td>\n",
       "    </tr>\n",
       "    <tr>\n",
       "      <th>mean</th>\n",
       "      <td>2.084231</td>\n",
       "      <td>0.097181</td>\n",
       "      <td>0.391575</td>\n",
       "      <td>0.194748</td>\n",
       "      <td>0.319146</td>\n",
       "      <td>0.014456</td>\n",
       "      <td>0.000230</td>\n",
       "      <td>0.113014</td>\n",
       "      <td>0.035234</td>\n",
       "      <td>0.008553</td>\n",
       "      <td>0.000138</td>\n",
       "      <td>0.000005</td>\n",
       "      <td>0.512206</td>\n",
       "      <td>0.035145</td>\n",
       "      <td>0.005528</td>\n",
       "      <td>0.000017</td>\n",
       "      <td>0.010252</td>\n",
       "      <td>0.004383</td>\n",
       "      <td>0.047299</td>\n",
       "      <td>0.000392</td>\n",
       "      <td>0.008701</td>\n",
       "      <td>0.002931</td>\n",
       "      <td>0.001678</td>\n",
       "      <td>0.000765</td>\n",
       "      <td>0.000377</td>\n",
       "      <td>0.005072</td>\n",
       "      <td>0.022155</td>\n",
       "      <td>0.000031</td>\n",
       "      <td>0.019694</td>\n",
       "      <td>0.000059</td>\n",
       "      <td>0.002730</td>\n",
       "      <td>0.000007</td>\n",
       "      <td>0.000012</td>\n",
       "      <td>0.00089</td>\n",
       "      <td>0.000034</td>\n",
       "      <td>0.000002</td>\n",
       "      <td>0.000392</td>\n",
       "      <td>0.000021</td>\n",
       "      <td>0.027008</td>\n",
       "      <td>0.009103</td>\n",
       "      <td>0.000020</td>\n",
       "      <td>0.000110</td>\n",
       "      <td>0.003145</td>\n",
       "      <td>0.000106</td>\n",
       "      <td>0.000108</td>\n",
       "      <td>0.000013</td>\n",
       "      <td>0.039640</td>\n",
       "      <td>0.000679</td>\n",
       "      <td>0.007397</td>\n",
       "      <td>0.000071</td>\n",
       "      <td>0.000007</td>\n",
       "      <td>0.000124</td>\n",
       "      <td>0.003862</td>\n",
       "      <td>0.000055</td>\n",
       "      <td>0.001578</td>\n",
       "      <td>0.000007</td>\n",
       "      <td>0.001058</td>\n",
       "      <td>0.0</td>\n",
       "      <td>0.000105</td>\n",
       "      <td>0.000668</td>\n",
       "      <td>0.000207</td>\n",
       "      <td>0.000453</td>\n",
       "      <td>0.000397</td>\n",
       "      <td>0.001531</td>\n",
       "      <td>0.000388</td>\n",
       "      <td>0.000068</td>\n",
       "      <td>0.000679</td>\n",
       "      <td>0.000069</td>\n",
       "      <td>0.000019</td>\n",
       "      <td>0.000076</td>\n",
       "      <td>0.008066</td>\n",
       "      <td>0.008287</td>\n",
       "      <td>0.002403</td>\n",
       "      <td>0.000731</td>\n",
       "      <td>0.00011</td>\n",
       "      <td>3.134796e-07</td>\n",
       "      <td>0.006287</td>\n",
       "      <td>0.001234</td>\n",
       "      <td>0.000036</td>\n",
       "      <td>0.069161</td>\n",
       "      <td>0.000154</td>\n",
       "      <td>0.000015</td>\n",
       "      <td>0.0</td>\n",
       "      <td>0.000184</td>\n",
       "      <td>0.000082</td>\n",
       "      <td>0.004871</td>\n",
       "      <td>0.000002</td>\n",
       "      <td>0.000032</td>\n",
       "      <td>0.002182</td>\n",
       "      <td>0.000568</td>\n",
       "      <td>0.000008</td>\n",
       "      <td>0.001721</td>\n",
       "      <td>0.001865</td>\n",
       "      <td>0.000005</td>\n",
       "      <td>0.000029</td>\n",
       "      <td>0.0</td>\n",
       "      <td>0.000070</td>\n",
       "      <td>0.000041</td>\n",
       "      <td>0.000009</td>\n",
       "      <td>0.000077</td>\n",
       "      <td>0.000091</td>\n",
       "      <td>0.000005</td>\n",
       "      <td>0.000014</td>\n",
       "      <td>0.000467</td>\n",
       "      <td>0.000790</td>\n",
       "      <td>0.000020</td>\n",
       "      <td>0.000145</td>\n",
       "      <td>0.002365</td>\n",
       "      <td>0.0</td>\n",
       "      <td>0.000029</td>\n",
       "      <td>0.000005</td>\n",
       "      <td>0.001771</td>\n",
       "      <td>0.012866</td>\n",
       "      <td>0.000294</td>\n",
       "      <td>0.000055</td>\n",
       "      <td>0.000221</td>\n",
       "      <td>0.000012</td>\n",
       "      <td>0.000025</td>\n",
       "      <td>0.000021</td>\n",
       "      <td>0.000131</td>\n",
       "      <td>0.000086</td>\n",
       "      <td>0.000004</td>\n",
       "      <td>0.002021</td>\n",
       "      <td>0.000029</td>\n",
       "      <td>0.000471</td>\n",
       "      <td>0.000219</td>\n",
       "      <td>0.000291</td>\n",
       "      <td>0.001678</td>\n",
       "      <td>0.000022</td>\n",
       "      <td>0.000483</td>\n",
       "      <td>0.000013</td>\n",
       "      <td>1327.995690</td>\n",
       "      <td>9.178947</td>\n",
       "      <td>207.466742</td>\n",
       "      <td>436.755656</td>\n",
       "      <td>13.860351</td>\n",
       "      <td>1709.475113</td>\n",
       "      <td>32.221751</td>\n",
       "      <td>-108.935298</td>\n",
       "      <td>0.645314</td>\n",
       "      <td>1.044265</td>\n",
       "    </tr>\n",
       "    <tr>\n",
       "      <th>std</th>\n",
       "      <td>1.718818</td>\n",
       "      <td>0.681455</td>\n",
       "      <td>0.873040</td>\n",
       "      <td>0.626539</td>\n",
       "      <td>1.021837</td>\n",
       "      <td>0.054934</td>\n",
       "      <td>0.002218</td>\n",
       "      <td>0.384408</td>\n",
       "      <td>0.303878</td>\n",
       "      <td>0.094990</td>\n",
       "      <td>0.002000</td>\n",
       "      <td>0.000095</td>\n",
       "      <td>0.960916</td>\n",
       "      <td>0.130415</td>\n",
       "      <td>0.042060</td>\n",
       "      <td>0.000308</td>\n",
       "      <td>0.046634</td>\n",
       "      <td>0.023972</td>\n",
       "      <td>0.269442</td>\n",
       "      <td>0.005261</td>\n",
       "      <td>0.066253</td>\n",
       "      <td>0.039037</td>\n",
       "      <td>0.022028</td>\n",
       "      <td>0.008389</td>\n",
       "      <td>0.004781</td>\n",
       "      <td>0.022131</td>\n",
       "      <td>0.193490</td>\n",
       "      <td>0.000323</td>\n",
       "      <td>0.075140</td>\n",
       "      <td>0.001036</td>\n",
       "      <td>0.037641</td>\n",
       "      <td>0.000129</td>\n",
       "      <td>0.000207</td>\n",
       "      <td>0.00766</td>\n",
       "      <td>0.000399</td>\n",
       "      <td>0.000028</td>\n",
       "      <td>0.006697</td>\n",
       "      <td>0.000381</td>\n",
       "      <td>0.152136</td>\n",
       "      <td>0.096234</td>\n",
       "      <td>0.000364</td>\n",
       "      <td>0.001157</td>\n",
       "      <td>0.027592</td>\n",
       "      <td>0.001887</td>\n",
       "      <td>0.001920</td>\n",
       "      <td>0.000224</td>\n",
       "      <td>0.343485</td>\n",
       "      <td>0.005939</td>\n",
       "      <td>0.097788</td>\n",
       "      <td>0.001271</td>\n",
       "      <td>0.000129</td>\n",
       "      <td>0.002217</td>\n",
       "      <td>0.020194</td>\n",
       "      <td>0.000980</td>\n",
       "      <td>0.019917</td>\n",
       "      <td>0.000129</td>\n",
       "      <td>0.012879</td>\n",
       "      <td>0.0</td>\n",
       "      <td>0.001369</td>\n",
       "      <td>0.011523</td>\n",
       "      <td>0.003701</td>\n",
       "      <td>0.008085</td>\n",
       "      <td>0.007094</td>\n",
       "      <td>0.027345</td>\n",
       "      <td>0.006692</td>\n",
       "      <td>0.001221</td>\n",
       "      <td>0.006065</td>\n",
       "      <td>0.000521</td>\n",
       "      <td>0.000342</td>\n",
       "      <td>0.001349</td>\n",
       "      <td>0.057484</td>\n",
       "      <td>0.044480</td>\n",
       "      <td>0.042921</td>\n",
       "      <td>0.013051</td>\n",
       "      <td>0.00196</td>\n",
       "      <td>5.598925e-06</td>\n",
       "      <td>0.072842</td>\n",
       "      <td>0.013015</td>\n",
       "      <td>0.000638</td>\n",
       "      <td>0.456589</td>\n",
       "      <td>0.002749</td>\n",
       "      <td>0.000269</td>\n",
       "      <td>0.0</td>\n",
       "      <td>0.002339</td>\n",
       "      <td>0.001145</td>\n",
       "      <td>0.031324</td>\n",
       "      <td>0.000034</td>\n",
       "      <td>0.000577</td>\n",
       "      <td>0.034066</td>\n",
       "      <td>0.010151</td>\n",
       "      <td>0.000140</td>\n",
       "      <td>0.030738</td>\n",
       "      <td>0.033308</td>\n",
       "      <td>0.000095</td>\n",
       "      <td>0.000526</td>\n",
       "      <td>0.0</td>\n",
       "      <td>0.001251</td>\n",
       "      <td>0.000728</td>\n",
       "      <td>0.000157</td>\n",
       "      <td>0.001377</td>\n",
       "      <td>0.001178</td>\n",
       "      <td>0.000090</td>\n",
       "      <td>0.000246</td>\n",
       "      <td>0.007037</td>\n",
       "      <td>0.008873</td>\n",
       "      <td>0.000364</td>\n",
       "      <td>0.002592</td>\n",
       "      <td>0.038351</td>\n",
       "      <td>0.0</td>\n",
       "      <td>0.000515</td>\n",
       "      <td>0.000084</td>\n",
       "      <td>0.013947</td>\n",
       "      <td>0.086706</td>\n",
       "      <td>0.003195</td>\n",
       "      <td>0.000985</td>\n",
       "      <td>0.003380</td>\n",
       "      <td>0.000218</td>\n",
       "      <td>0.000448</td>\n",
       "      <td>0.000371</td>\n",
       "      <td>0.001478</td>\n",
       "      <td>0.001151</td>\n",
       "      <td>0.000067</td>\n",
       "      <td>0.015414</td>\n",
       "      <td>0.000418</td>\n",
       "      <td>0.004995</td>\n",
       "      <td>0.002126</td>\n",
       "      <td>0.004302</td>\n",
       "      <td>0.027182</td>\n",
       "      <td>0.000392</td>\n",
       "      <td>0.008622</td>\n",
       "      <td>0.000230</td>\n",
       "      <td>227.468822</td>\n",
       "      <td>3.779586</td>\n",
       "      <td>178.331358</td>\n",
       "      <td>78.965781</td>\n",
       "      <td>2.093009</td>\n",
       "      <td>224.818989</td>\n",
       "      <td>0.815692</td>\n",
       "      <td>1.534481</td>\n",
       "      <td>0.528932</td>\n",
       "      <td>0.360545</td>\n",
       "    </tr>\n",
       "    <tr>\n",
       "      <th>min</th>\n",
       "      <td>0.000000</td>\n",
       "      <td>0.000000</td>\n",
       "      <td>0.000000</td>\n",
       "      <td>0.000000</td>\n",
       "      <td>0.000000</td>\n",
       "      <td>0.000000</td>\n",
       "      <td>0.000000</td>\n",
       "      <td>0.000000</td>\n",
       "      <td>0.000000</td>\n",
       "      <td>0.000000</td>\n",
       "      <td>0.000000</td>\n",
       "      <td>0.000000</td>\n",
       "      <td>0.000000</td>\n",
       "      <td>0.000000</td>\n",
       "      <td>0.000000</td>\n",
       "      <td>0.000000</td>\n",
       "      <td>0.000000</td>\n",
       "      <td>0.000000</td>\n",
       "      <td>0.000000</td>\n",
       "      <td>0.000000</td>\n",
       "      <td>0.000000</td>\n",
       "      <td>0.000000</td>\n",
       "      <td>0.000000</td>\n",
       "      <td>0.000000</td>\n",
       "      <td>0.000000</td>\n",
       "      <td>0.000000</td>\n",
       "      <td>0.000000</td>\n",
       "      <td>0.000000</td>\n",
       "      <td>0.000000</td>\n",
       "      <td>0.000000</td>\n",
       "      <td>0.000000</td>\n",
       "      <td>0.000000</td>\n",
       "      <td>0.000000</td>\n",
       "      <td>0.00000</td>\n",
       "      <td>0.000000</td>\n",
       "      <td>0.000000</td>\n",
       "      <td>0.000000</td>\n",
       "      <td>0.000000</td>\n",
       "      <td>0.000000</td>\n",
       "      <td>0.000000</td>\n",
       "      <td>0.000000</td>\n",
       "      <td>0.000000</td>\n",
       "      <td>0.000000</td>\n",
       "      <td>0.000000</td>\n",
       "      <td>0.000000</td>\n",
       "      <td>0.000000</td>\n",
       "      <td>0.000000</td>\n",
       "      <td>0.000000</td>\n",
       "      <td>0.000000</td>\n",
       "      <td>0.000000</td>\n",
       "      <td>0.000000</td>\n",
       "      <td>0.000000</td>\n",
       "      <td>0.000000</td>\n",
       "      <td>0.000000</td>\n",
       "      <td>0.000000</td>\n",
       "      <td>0.000000</td>\n",
       "      <td>0.000000</td>\n",
       "      <td>0.0</td>\n",
       "      <td>0.000000</td>\n",
       "      <td>0.000000</td>\n",
       "      <td>0.000000</td>\n",
       "      <td>0.000000</td>\n",
       "      <td>0.000000</td>\n",
       "      <td>0.000000</td>\n",
       "      <td>0.000000</td>\n",
       "      <td>0.000000</td>\n",
       "      <td>0.000000</td>\n",
       "      <td>0.000000</td>\n",
       "      <td>0.000000</td>\n",
       "      <td>0.000000</td>\n",
       "      <td>0.000000</td>\n",
       "      <td>0.000000</td>\n",
       "      <td>0.000000</td>\n",
       "      <td>0.000000</td>\n",
       "      <td>0.00000</td>\n",
       "      <td>0.000000e+00</td>\n",
       "      <td>0.000000</td>\n",
       "      <td>0.000000</td>\n",
       "      <td>0.000000</td>\n",
       "      <td>0.000000</td>\n",
       "      <td>0.000000</td>\n",
       "      <td>0.000000</td>\n",
       "      <td>0.0</td>\n",
       "      <td>0.000000</td>\n",
       "      <td>0.000000</td>\n",
       "      <td>0.000000</td>\n",
       "      <td>0.000000</td>\n",
       "      <td>0.000000</td>\n",
       "      <td>0.000000</td>\n",
       "      <td>0.000000</td>\n",
       "      <td>0.000000</td>\n",
       "      <td>0.000000</td>\n",
       "      <td>0.000000</td>\n",
       "      <td>0.000000</td>\n",
       "      <td>0.000000</td>\n",
       "      <td>0.0</td>\n",
       "      <td>0.000000</td>\n",
       "      <td>0.000000</td>\n",
       "      <td>0.000000</td>\n",
       "      <td>0.000000</td>\n",
       "      <td>0.000000</td>\n",
       "      <td>0.000000</td>\n",
       "      <td>0.000000</td>\n",
       "      <td>0.000000</td>\n",
       "      <td>0.000000</td>\n",
       "      <td>0.000000</td>\n",
       "      <td>0.000000</td>\n",
       "      <td>0.000000</td>\n",
       "      <td>0.0</td>\n",
       "      <td>0.000000</td>\n",
       "      <td>0.000000</td>\n",
       "      <td>0.000000</td>\n",
       "      <td>0.000000</td>\n",
       "      <td>0.000000</td>\n",
       "      <td>0.000000</td>\n",
       "      <td>0.000000</td>\n",
       "      <td>0.000000</td>\n",
       "      <td>0.000000</td>\n",
       "      <td>0.000000</td>\n",
       "      <td>0.000000</td>\n",
       "      <td>0.000000</td>\n",
       "      <td>0.000000</td>\n",
       "      <td>0.000000</td>\n",
       "      <td>0.000000</td>\n",
       "      <td>0.000000</td>\n",
       "      <td>0.000000</td>\n",
       "      <td>0.000000</td>\n",
       "      <td>0.000000</td>\n",
       "      <td>0.000000</td>\n",
       "      <td>0.000000</td>\n",
       "      <td>0.000000</td>\n",
       "      <td>835.000000</td>\n",
       "      <td>1.000000</td>\n",
       "      <td>6.400000</td>\n",
       "      <td>235.000000</td>\n",
       "      <td>7.054167</td>\n",
       "      <td>1206.000000</td>\n",
       "      <td>31.343850</td>\n",
       "      <td>-111.072099</td>\n",
       "      <td>0.000000</td>\n",
       "      <td>0.222691</td>\n",
       "    </tr>\n",
       "    <tr>\n",
       "      <th>25%</th>\n",
       "      <td>0.704350</td>\n",
       "      <td>0.000000</td>\n",
       "      <td>0.000000</td>\n",
       "      <td>0.000000</td>\n",
       "      <td>0.000000</td>\n",
       "      <td>0.000000</td>\n",
       "      <td>0.000000</td>\n",
       "      <td>0.000000</td>\n",
       "      <td>0.000000</td>\n",
       "      <td>0.000000</td>\n",
       "      <td>0.000000</td>\n",
       "      <td>0.000000</td>\n",
       "      <td>0.000000</td>\n",
       "      <td>0.000000</td>\n",
       "      <td>0.000000</td>\n",
       "      <td>0.000000</td>\n",
       "      <td>0.000000</td>\n",
       "      <td>0.000000</td>\n",
       "      <td>0.000000</td>\n",
       "      <td>0.000000</td>\n",
       "      <td>0.000000</td>\n",
       "      <td>0.000000</td>\n",
       "      <td>0.000000</td>\n",
       "      <td>0.000000</td>\n",
       "      <td>0.000000</td>\n",
       "      <td>0.000000</td>\n",
       "      <td>0.000000</td>\n",
       "      <td>0.000000</td>\n",
       "      <td>0.000000</td>\n",
       "      <td>0.000000</td>\n",
       "      <td>0.000000</td>\n",
       "      <td>0.000000</td>\n",
       "      <td>0.000000</td>\n",
       "      <td>0.00000</td>\n",
       "      <td>0.000000</td>\n",
       "      <td>0.000000</td>\n",
       "      <td>0.000000</td>\n",
       "      <td>0.000000</td>\n",
       "      <td>0.000000</td>\n",
       "      <td>0.000000</td>\n",
       "      <td>0.000000</td>\n",
       "      <td>0.000000</td>\n",
       "      <td>0.000000</td>\n",
       "      <td>0.000000</td>\n",
       "      <td>0.000000</td>\n",
       "      <td>0.000000</td>\n",
       "      <td>0.000000</td>\n",
       "      <td>0.000000</td>\n",
       "      <td>0.000000</td>\n",
       "      <td>0.000000</td>\n",
       "      <td>0.000000</td>\n",
       "      <td>0.000000</td>\n",
       "      <td>0.000000</td>\n",
       "      <td>0.000000</td>\n",
       "      <td>0.000000</td>\n",
       "      <td>0.000000</td>\n",
       "      <td>0.000000</td>\n",
       "      <td>0.0</td>\n",
       "      <td>0.000000</td>\n",
       "      <td>0.000000</td>\n",
       "      <td>0.000000</td>\n",
       "      <td>0.000000</td>\n",
       "      <td>0.000000</td>\n",
       "      <td>0.000000</td>\n",
       "      <td>0.000000</td>\n",
       "      <td>0.000000</td>\n",
       "      <td>0.000000</td>\n",
       "      <td>0.000000</td>\n",
       "      <td>0.000000</td>\n",
       "      <td>0.000000</td>\n",
       "      <td>0.000000</td>\n",
       "      <td>0.000000</td>\n",
       "      <td>0.000000</td>\n",
       "      <td>0.000000</td>\n",
       "      <td>0.00000</td>\n",
       "      <td>0.000000e+00</td>\n",
       "      <td>0.000000</td>\n",
       "      <td>0.000000</td>\n",
       "      <td>0.000000</td>\n",
       "      <td>0.000000</td>\n",
       "      <td>0.000000</td>\n",
       "      <td>0.000000</td>\n",
       "      <td>0.0</td>\n",
       "      <td>0.000000</td>\n",
       "      <td>0.000000</td>\n",
       "      <td>0.000000</td>\n",
       "      <td>0.000000</td>\n",
       "      <td>0.000000</td>\n",
       "      <td>0.000000</td>\n",
       "      <td>0.000000</td>\n",
       "      <td>0.000000</td>\n",
       "      <td>0.000000</td>\n",
       "      <td>0.000000</td>\n",
       "      <td>0.000000</td>\n",
       "      <td>0.000000</td>\n",
       "      <td>0.0</td>\n",
       "      <td>0.000000</td>\n",
       "      <td>0.000000</td>\n",
       "      <td>0.000000</td>\n",
       "      <td>0.000000</td>\n",
       "      <td>0.000000</td>\n",
       "      <td>0.000000</td>\n",
       "      <td>0.000000</td>\n",
       "      <td>0.000000</td>\n",
       "      <td>0.000000</td>\n",
       "      <td>0.000000</td>\n",
       "      <td>0.000000</td>\n",
       "      <td>0.000000</td>\n",
       "      <td>0.0</td>\n",
       "      <td>0.000000</td>\n",
       "      <td>0.000000</td>\n",
       "      <td>0.000000</td>\n",
       "      <td>0.000000</td>\n",
       "      <td>0.000000</td>\n",
       "      <td>0.000000</td>\n",
       "      <td>0.000000</td>\n",
       "      <td>0.000000</td>\n",
       "      <td>0.000000</td>\n",
       "      <td>0.000000</td>\n",
       "      <td>0.000000</td>\n",
       "      <td>0.000000</td>\n",
       "      <td>0.000000</td>\n",
       "      <td>0.000000</td>\n",
       "      <td>0.000000</td>\n",
       "      <td>0.000000</td>\n",
       "      <td>0.000000</td>\n",
       "      <td>0.000000</td>\n",
       "      <td>0.000000</td>\n",
       "      <td>0.000000</td>\n",
       "      <td>0.000000</td>\n",
       "      <td>0.000000</td>\n",
       "      <td>1130.000000</td>\n",
       "      <td>6.000000</td>\n",
       "      <td>81.820000</td>\n",
       "      <td>376.000000</td>\n",
       "      <td>12.379167</td>\n",
       "      <td>1567.000000</td>\n",
       "      <td>31.479233</td>\n",
       "      <td>-110.585248</td>\n",
       "      <td>0.181204</td>\n",
       "      <td>0.783493</td>\n",
       "    </tr>\n",
       "    <tr>\n",
       "      <th>50%</th>\n",
       "      <td>1.776000</td>\n",
       "      <td>0.000000</td>\n",
       "      <td>0.000000</td>\n",
       "      <td>0.000000</td>\n",
       "      <td>0.000000</td>\n",
       "      <td>0.000000</td>\n",
       "      <td>0.000000</td>\n",
       "      <td>0.000000</td>\n",
       "      <td>0.000000</td>\n",
       "      <td>0.000000</td>\n",
       "      <td>0.000000</td>\n",
       "      <td>0.000000</td>\n",
       "      <td>0.000000</td>\n",
       "      <td>0.000000</td>\n",
       "      <td>0.000000</td>\n",
       "      <td>0.000000</td>\n",
       "      <td>0.000000</td>\n",
       "      <td>0.000000</td>\n",
       "      <td>0.000000</td>\n",
       "      <td>0.000000</td>\n",
       "      <td>0.000000</td>\n",
       "      <td>0.000000</td>\n",
       "      <td>0.000000</td>\n",
       "      <td>0.000000</td>\n",
       "      <td>0.000000</td>\n",
       "      <td>0.000000</td>\n",
       "      <td>0.000000</td>\n",
       "      <td>0.000000</td>\n",
       "      <td>0.000000</td>\n",
       "      <td>0.000000</td>\n",
       "      <td>0.000000</td>\n",
       "      <td>0.000000</td>\n",
       "      <td>0.000000</td>\n",
       "      <td>0.00000</td>\n",
       "      <td>0.000000</td>\n",
       "      <td>0.000000</td>\n",
       "      <td>0.000000</td>\n",
       "      <td>0.000000</td>\n",
       "      <td>0.000000</td>\n",
       "      <td>0.000000</td>\n",
       "      <td>0.000000</td>\n",
       "      <td>0.000000</td>\n",
       "      <td>0.000000</td>\n",
       "      <td>0.000000</td>\n",
       "      <td>0.000000</td>\n",
       "      <td>0.000000</td>\n",
       "      <td>0.000000</td>\n",
       "      <td>0.000000</td>\n",
       "      <td>0.000000</td>\n",
       "      <td>0.000000</td>\n",
       "      <td>0.000000</td>\n",
       "      <td>0.000000</td>\n",
       "      <td>0.000000</td>\n",
       "      <td>0.000000</td>\n",
       "      <td>0.000000</td>\n",
       "      <td>0.000000</td>\n",
       "      <td>0.000000</td>\n",
       "      <td>0.0</td>\n",
       "      <td>0.000000</td>\n",
       "      <td>0.000000</td>\n",
       "      <td>0.000000</td>\n",
       "      <td>0.000000</td>\n",
       "      <td>0.000000</td>\n",
       "      <td>0.000000</td>\n",
       "      <td>0.000000</td>\n",
       "      <td>0.000000</td>\n",
       "      <td>0.000000</td>\n",
       "      <td>0.000000</td>\n",
       "      <td>0.000000</td>\n",
       "      <td>0.000000</td>\n",
       "      <td>0.000000</td>\n",
       "      <td>0.000000</td>\n",
       "      <td>0.000000</td>\n",
       "      <td>0.000000</td>\n",
       "      <td>0.00000</td>\n",
       "      <td>0.000000e+00</td>\n",
       "      <td>0.000000</td>\n",
       "      <td>0.000000</td>\n",
       "      <td>0.000000</td>\n",
       "      <td>0.000000</td>\n",
       "      <td>0.000000</td>\n",
       "      <td>0.000000</td>\n",
       "      <td>0.0</td>\n",
       "      <td>0.000000</td>\n",
       "      <td>0.000000</td>\n",
       "      <td>0.000000</td>\n",
       "      <td>0.000000</td>\n",
       "      <td>0.000000</td>\n",
       "      <td>0.000000</td>\n",
       "      <td>0.000000</td>\n",
       "      <td>0.000000</td>\n",
       "      <td>0.000000</td>\n",
       "      <td>0.000000</td>\n",
       "      <td>0.000000</td>\n",
       "      <td>0.000000</td>\n",
       "      <td>0.0</td>\n",
       "      <td>0.000000</td>\n",
       "      <td>0.000000</td>\n",
       "      <td>0.000000</td>\n",
       "      <td>0.000000</td>\n",
       "      <td>0.000000</td>\n",
       "      <td>0.000000</td>\n",
       "      <td>0.000000</td>\n",
       "      <td>0.000000</td>\n",
       "      <td>0.000000</td>\n",
       "      <td>0.000000</td>\n",
       "      <td>0.000000</td>\n",
       "      <td>0.000000</td>\n",
       "      <td>0.0</td>\n",
       "      <td>0.000000</td>\n",
       "      <td>0.000000</td>\n",
       "      <td>0.000000</td>\n",
       "      <td>0.000000</td>\n",
       "      <td>0.000000</td>\n",
       "      <td>0.000000</td>\n",
       "      <td>0.000000</td>\n",
       "      <td>0.000000</td>\n",
       "      <td>0.000000</td>\n",
       "      <td>0.000000</td>\n",
       "      <td>0.000000</td>\n",
       "      <td>0.000000</td>\n",
       "      <td>0.000000</td>\n",
       "      <td>0.000000</td>\n",
       "      <td>0.000000</td>\n",
       "      <td>0.000000</td>\n",
       "      <td>0.000000</td>\n",
       "      <td>0.000000</td>\n",
       "      <td>0.000000</td>\n",
       "      <td>0.000000</td>\n",
       "      <td>0.000000</td>\n",
       "      <td>0.000000</td>\n",
       "      <td>1365.000000</td>\n",
       "      <td>10.000000</td>\n",
       "      <td>171.920000</td>\n",
       "      <td>422.000000</td>\n",
       "      <td>14.354167</td>\n",
       "      <td>1658.000000</td>\n",
       "      <td>31.791366</td>\n",
       "      <td>-108.940734</td>\n",
       "      <td>0.579030</td>\n",
       "      <td>1.057318</td>\n",
       "    </tr>\n",
       "    <tr>\n",
       "      <th>75%</th>\n",
       "      <td>3.001150</td>\n",
       "      <td>0.000000</td>\n",
       "      <td>0.134650</td>\n",
       "      <td>0.000000</td>\n",
       "      <td>0.091750</td>\n",
       "      <td>0.000000</td>\n",
       "      <td>0.000000</td>\n",
       "      <td>0.030000</td>\n",
       "      <td>0.000000</td>\n",
       "      <td>0.000000</td>\n",
       "      <td>0.000000</td>\n",
       "      <td>0.000000</td>\n",
       "      <td>0.695200</td>\n",
       "      <td>0.000000</td>\n",
       "      <td>0.000000</td>\n",
       "      <td>0.000000</td>\n",
       "      <td>0.000000</td>\n",
       "      <td>0.000000</td>\n",
       "      <td>0.000000</td>\n",
       "      <td>0.000000</td>\n",
       "      <td>0.000000</td>\n",
       "      <td>0.000000</td>\n",
       "      <td>0.000000</td>\n",
       "      <td>0.000000</td>\n",
       "      <td>0.000000</td>\n",
       "      <td>0.000000</td>\n",
       "      <td>0.000000</td>\n",
       "      <td>0.000000</td>\n",
       "      <td>0.000550</td>\n",
       "      <td>0.000000</td>\n",
       "      <td>0.000000</td>\n",
       "      <td>0.000000</td>\n",
       "      <td>0.000000</td>\n",
       "      <td>0.00000</td>\n",
       "      <td>0.000000</td>\n",
       "      <td>0.000000</td>\n",
       "      <td>0.000000</td>\n",
       "      <td>0.000000</td>\n",
       "      <td>0.000000</td>\n",
       "      <td>0.000000</td>\n",
       "      <td>0.000000</td>\n",
       "      <td>0.000000</td>\n",
       "      <td>0.000000</td>\n",
       "      <td>0.000000</td>\n",
       "      <td>0.000000</td>\n",
       "      <td>0.000000</td>\n",
       "      <td>0.000000</td>\n",
       "      <td>0.000000</td>\n",
       "      <td>0.000000</td>\n",
       "      <td>0.000000</td>\n",
       "      <td>0.000000</td>\n",
       "      <td>0.000000</td>\n",
       "      <td>0.000000</td>\n",
       "      <td>0.000000</td>\n",
       "      <td>0.000000</td>\n",
       "      <td>0.000000</td>\n",
       "      <td>0.000000</td>\n",
       "      <td>0.0</td>\n",
       "      <td>0.000000</td>\n",
       "      <td>0.000000</td>\n",
       "      <td>0.000000</td>\n",
       "      <td>0.000000</td>\n",
       "      <td>0.000000</td>\n",
       "      <td>0.000000</td>\n",
       "      <td>0.000000</td>\n",
       "      <td>0.000000</td>\n",
       "      <td>0.000000</td>\n",
       "      <td>0.000000</td>\n",
       "      <td>0.000000</td>\n",
       "      <td>0.000000</td>\n",
       "      <td>0.000000</td>\n",
       "      <td>0.000000</td>\n",
       "      <td>0.000000</td>\n",
       "      <td>0.000000</td>\n",
       "      <td>0.00000</td>\n",
       "      <td>0.000000e+00</td>\n",
       "      <td>0.000000</td>\n",
       "      <td>0.000000</td>\n",
       "      <td>0.000000</td>\n",
       "      <td>0.000000</td>\n",
       "      <td>0.000000</td>\n",
       "      <td>0.000000</td>\n",
       "      <td>0.0</td>\n",
       "      <td>0.000000</td>\n",
       "      <td>0.000000</td>\n",
       "      <td>0.000000</td>\n",
       "      <td>0.000000</td>\n",
       "      <td>0.000000</td>\n",
       "      <td>0.000000</td>\n",
       "      <td>0.000000</td>\n",
       "      <td>0.000000</td>\n",
       "      <td>0.000000</td>\n",
       "      <td>0.000000</td>\n",
       "      <td>0.000000</td>\n",
       "      <td>0.000000</td>\n",
       "      <td>0.0</td>\n",
       "      <td>0.000000</td>\n",
       "      <td>0.000000</td>\n",
       "      <td>0.000000</td>\n",
       "      <td>0.000000</td>\n",
       "      <td>0.000000</td>\n",
       "      <td>0.000000</td>\n",
       "      <td>0.000000</td>\n",
       "      <td>0.000000</td>\n",
       "      <td>0.000000</td>\n",
       "      <td>0.000000</td>\n",
       "      <td>0.000000</td>\n",
       "      <td>0.000000</td>\n",
       "      <td>0.0</td>\n",
       "      <td>0.000000</td>\n",
       "      <td>0.000000</td>\n",
       "      <td>0.000000</td>\n",
       "      <td>0.000000</td>\n",
       "      <td>0.000000</td>\n",
       "      <td>0.000000</td>\n",
       "      <td>0.000000</td>\n",
       "      <td>0.000000</td>\n",
       "      <td>0.000000</td>\n",
       "      <td>0.000000</td>\n",
       "      <td>0.000000</td>\n",
       "      <td>0.000000</td>\n",
       "      <td>0.000000</td>\n",
       "      <td>0.000000</td>\n",
       "      <td>0.000000</td>\n",
       "      <td>0.000000</td>\n",
       "      <td>0.000000</td>\n",
       "      <td>0.000000</td>\n",
       "      <td>0.000000</td>\n",
       "      <td>0.000000</td>\n",
       "      <td>0.000000</td>\n",
       "      <td>0.000000</td>\n",
       "      <td>1530.000000</td>\n",
       "      <td>12.000000</td>\n",
       "      <td>272.860000</td>\n",
       "      <td>518.000000</td>\n",
       "      <td>15.537500</td>\n",
       "      <td>1901.000000</td>\n",
       "      <td>32.894714</td>\n",
       "      <td>-107.723281</td>\n",
       "      <td>0.963353</td>\n",
       "      <td>1.362937</td>\n",
       "    </tr>\n",
       "    <tr>\n",
       "      <th>max</th>\n",
       "      <td>9.758400</td>\n",
       "      <td>9.758400</td>\n",
       "      <td>4.382100</td>\n",
       "      <td>6.723300</td>\n",
       "      <td>7.326500</td>\n",
       "      <td>0.666200</td>\n",
       "      <td>0.027800</td>\n",
       "      <td>2.900000</td>\n",
       "      <td>4.471900</td>\n",
       "      <td>1.666400</td>\n",
       "      <td>0.034500</td>\n",
       "      <td>0.001700</td>\n",
       "      <td>6.192000</td>\n",
       "      <td>1.292500</td>\n",
       "      <td>0.548700</td>\n",
       "      <td>0.005500</td>\n",
       "      <td>0.486900</td>\n",
       "      <td>0.279700</td>\n",
       "      <td>2.773100</td>\n",
       "      <td>0.092200</td>\n",
       "      <td>0.696600</td>\n",
       "      <td>0.658700</td>\n",
       "      <td>0.344900</td>\n",
       "      <td>0.110900</td>\n",
       "      <td>0.066800</td>\n",
       "      <td>0.212700</td>\n",
       "      <td>2.553300</td>\n",
       "      <td>0.004000</td>\n",
       "      <td>0.656100</td>\n",
       "      <td>0.018500</td>\n",
       "      <td>0.641700</td>\n",
       "      <td>0.002300</td>\n",
       "      <td>0.003700</td>\n",
       "      <td>0.12660</td>\n",
       "      <td>0.006300</td>\n",
       "      <td>0.000500</td>\n",
       "      <td>0.119500</td>\n",
       "      <td>0.006800</td>\n",
       "      <td>1.635300</td>\n",
       "      <td>1.325700</td>\n",
       "      <td>0.006500</td>\n",
       "      <td>0.015200</td>\n",
       "      <td>0.368300</td>\n",
       "      <td>0.033700</td>\n",
       "      <td>0.034300</td>\n",
       "      <td>0.004000</td>\n",
       "      <td>4.643000</td>\n",
       "      <td>0.073700</td>\n",
       "      <td>1.688700</td>\n",
       "      <td>0.022700</td>\n",
       "      <td>0.002300</td>\n",
       "      <td>0.039600</td>\n",
       "      <td>0.206900</td>\n",
       "      <td>0.017500</td>\n",
       "      <td>0.270400</td>\n",
       "      <td>0.002300</td>\n",
       "      <td>0.196900</td>\n",
       "      <td>0.0</td>\n",
       "      <td>0.021000</td>\n",
       "      <td>0.205700</td>\n",
       "      <td>0.066100</td>\n",
       "      <td>0.144400</td>\n",
       "      <td>0.126700</td>\n",
       "      <td>0.488400</td>\n",
       "      <td>0.119500</td>\n",
       "      <td>0.021800</td>\n",
       "      <td>0.092000</td>\n",
       "      <td>0.006500</td>\n",
       "      <td>0.006100</td>\n",
       "      <td>0.024100</td>\n",
       "      <td>0.864800</td>\n",
       "      <td>0.419100</td>\n",
       "      <td>0.766600</td>\n",
       "      <td>0.233100</td>\n",
       "      <td>0.03500</td>\n",
       "      <td>1.000000e-04</td>\n",
       "      <td>1.269600</td>\n",
       "      <td>0.178200</td>\n",
       "      <td>0.011400</td>\n",
       "      <td>4.769700</td>\n",
       "      <td>0.049100</td>\n",
       "      <td>0.004800</td>\n",
       "      <td>0.0</td>\n",
       "      <td>0.040300</td>\n",
       "      <td>0.019300</td>\n",
       "      <td>0.310900</td>\n",
       "      <td>0.000600</td>\n",
       "      <td>0.010300</td>\n",
       "      <td>0.601300</td>\n",
       "      <td>0.181300</td>\n",
       "      <td>0.002500</td>\n",
       "      <td>0.549000</td>\n",
       "      <td>0.594900</td>\n",
       "      <td>0.001700</td>\n",
       "      <td>0.009400</td>\n",
       "      <td>0.0</td>\n",
       "      <td>0.022300</td>\n",
       "      <td>0.013000</td>\n",
       "      <td>0.002800</td>\n",
       "      <td>0.024600</td>\n",
       "      <td>0.018100</td>\n",
       "      <td>0.001600</td>\n",
       "      <td>0.004400</td>\n",
       "      <td>0.124700</td>\n",
       "      <td>0.143600</td>\n",
       "      <td>0.006500</td>\n",
       "      <td>0.046300</td>\n",
       "      <td>0.683000</td>\n",
       "      <td>0.0</td>\n",
       "      <td>0.009200</td>\n",
       "      <td>0.001500</td>\n",
       "      <td>0.189800</td>\n",
       "      <td>1.235500</td>\n",
       "      <td>0.047400</td>\n",
       "      <td>0.017600</td>\n",
       "      <td>0.059400</td>\n",
       "      <td>0.003900</td>\n",
       "      <td>0.008000</td>\n",
       "      <td>0.006600</td>\n",
       "      <td>0.025000</td>\n",
       "      <td>0.018600</td>\n",
       "      <td>0.001200</td>\n",
       "      <td>0.192700</td>\n",
       "      <td>0.007200</td>\n",
       "      <td>0.065500</td>\n",
       "      <td>0.029700</td>\n",
       "      <td>0.074700</td>\n",
       "      <td>0.482800</td>\n",
       "      <td>0.007000</td>\n",
       "      <td>0.154000</td>\n",
       "      <td>0.004100</td>\n",
       "      <td>1700.000000</td>\n",
       "      <td>20.000000</td>\n",
       "      <td>774.840000</td>\n",
       "      <td>620.000000</td>\n",
       "      <td>17.312500</td>\n",
       "      <td>2518.000000</td>\n",
       "      <td>34.037969</td>\n",
       "      <td>-105.354701</td>\n",
       "      <td>2.318525</td>\n",
       "      <td>1.796301</td>\n",
       "    </tr>\n",
       "  </tbody>\n",
       "</table>\n",
       "</div>"
      ],
      "text/plain": [
       "       peso total      Oxalis     Quercus    Cyp.bulb   Phaseolus    Tephoria  \\\n",
       "count  319.000000  319.000000  318.000000  317.000000  319.000000  319.000000   \n",
       "mean     2.084231    0.097181    0.391575    0.194748    0.319146    0.014456   \n",
       "std      1.718818    0.681455    0.873040    0.626539    1.021837    0.054934   \n",
       "min      0.000000    0.000000    0.000000    0.000000    0.000000    0.000000   \n",
       "25%      0.704350    0.000000    0.000000    0.000000    0.000000    0.000000   \n",
       "50%      1.776000    0.000000    0.000000    0.000000    0.000000    0.000000   \n",
       "75%      3.001150    0.000000    0.134650    0.000000    0.091750    0.000000   \n",
       "max      9.758400    9.758400    4.382100    6.723300    7.326500    0.666200   \n",
       "\n",
       "        Caracoles    Insectos    Physalis  Vitis.arizonica     Lupinus  \\\n",
       "count  319.000000  319.000000  319.000000       319.000000  319.000000   \n",
       "mean     0.000230    0.113014    0.035234         0.008553    0.000138   \n",
       "std      0.002218    0.384408    0.303878         0.094990    0.002000   \n",
       "min      0.000000    0.000000    0.000000         0.000000    0.000000   \n",
       "25%      0.000000    0.000000    0.000000         0.000000    0.000000   \n",
       "50%      0.000000    0.000000    0.000000         0.000000    0.000000   \n",
       "75%      0.000000    0.030000    0.000000         0.000000    0.000000   \n",
       "max      0.027800    2.900000    4.471900         1.666400    0.034500   \n",
       "\n",
       "       Lotus.wrightii    Cyp.rizo  Commelina.dianthifolia  \\\n",
       "count      318.000000  319.000000              319.000000   \n",
       "mean         0.000005    0.512206                0.035145   \n",
       "std          0.000095    0.960916                0.130415   \n",
       "min          0.000000    0.000000                0.000000   \n",
       "25%          0.000000    0.000000                0.000000   \n",
       "50%          0.000000    0.000000                0.000000   \n",
       "75%          0.000000    0.695200                0.000000   \n",
       "max          0.001700    6.192000                1.292500   \n",
       "\n",
       "       Kallstroemia.parviflora     Fabacea     Ipomoea   Desmodium  \\\n",
       "count               319.000000  318.000000  319.000000  319.000000   \n",
       "mean                  0.005528    0.000017    0.010252    0.004383   \n",
       "std                   0.042060    0.000308    0.046634    0.023972   \n",
       "min                   0.000000    0.000000    0.000000    0.000000   \n",
       "25%                   0.000000    0.000000    0.000000    0.000000   \n",
       "50%                   0.000000    0.000000    0.000000    0.000000   \n",
       "75%                   0.000000    0.000000    0.000000    0.000000   \n",
       "max                   0.548700    0.005500    0.486900    0.279700   \n",
       "\n",
       "       Euphorbia probably E. bilobata  Talinum.aurantiacum        SP17  \\\n",
       "count                      319.000000           319.000000  319.000000   \n",
       "mean                         0.047299             0.000392    0.008701   \n",
       "std                          0.269442             0.005261    0.066253   \n",
       "min                          0.000000             0.000000    0.000000   \n",
       "25%                          0.000000             0.000000    0.000000   \n",
       "50%                          0.000000             0.000000    0.000000   \n",
       "75%                          0.000000             0.000000    0.000000   \n",
       "max                          2.773100             0.092200    0.696600   \n",
       "\n",
       "       Heterosperma.pinnatum        SP19  Desmanthus cooleyi  \\\n",
       "count             319.000000  319.000000          319.000000   \n",
       "mean                0.002931    0.001678            0.000765   \n",
       "std                 0.039037    0.022028            0.008389   \n",
       "min                 0.000000    0.000000            0.000000   \n",
       "25%                 0.000000    0.000000            0.000000   \n",
       "50%                 0.000000    0.000000            0.000000   \n",
       "75%                 0.000000    0.000000            0.000000   \n",
       "max                 0.658700    0.344900            0.110900   \n",
       "\n",
       "       Celtis.reticulata  Panicum.hirticaule     Setaria    Malvacea  \\\n",
       "count         319.000000          319.000000  319.000000  319.000000   \n",
       "mean            0.000377            0.005072    0.022155    0.000031   \n",
       "std             0.004781            0.022131    0.193490    0.000323   \n",
       "min             0.000000            0.000000    0.000000    0.000000   \n",
       "25%             0.000000            0.000000    0.000000    0.000000   \n",
       "50%             0.000000            0.000000    0.000000    0.000000   \n",
       "75%             0.000000            0.000000    0.000000    0.000000   \n",
       "max             0.066800            0.212700    2.553300    0.004000   \n",
       "\n",
       "       Cyperus.fendlerianus        SP26   Setaria.1        SP28  \\\n",
       "count            319.000000  319.000000  319.000000  319.000000   \n",
       "mean               0.019694    0.000059    0.002730    0.000007   \n",
       "std                0.075140    0.001036    0.037641    0.000129   \n",
       "min                0.000000    0.000000    0.000000    0.000000   \n",
       "25%                0.000000    0.000000    0.000000    0.000000   \n",
       "50%                0.000000    0.000000    0.000000    0.000000   \n",
       "75%                0.000550    0.000000    0.000000    0.000000   \n",
       "max                0.656100    0.018500    0.641700    0.002300   \n",
       "\n",
       "       Cryptantha.cinerea  Sphaeralcea.fendleri  Hymenopappus.flavescens  \\\n",
       "count          319.000000             319.00000               319.000000   \n",
       "mean             0.000012               0.00089                 0.000034   \n",
       "std              0.000207               0.00766                 0.000399   \n",
       "min              0.000000               0.00000                 0.000000   \n",
       "25%              0.000000               0.00000                 0.000000   \n",
       "50%              0.000000               0.00000                 0.000000   \n",
       "75%              0.000000               0.00000                 0.000000   \n",
       "max              0.003700               0.12660                 0.006300   \n",
       "\n",
       "       Solaneaceae   Euphorbia        SP34  Piptochaetium.fimbriatum  \\\n",
       "count   319.000000  319.000000  318.000000                319.000000   \n",
       "mean      0.000002    0.000392    0.000021                  0.027008   \n",
       "std       0.000028    0.006697    0.000381                  0.152136   \n",
       "min       0.000000    0.000000    0.000000                  0.000000   \n",
       "25%       0.000000    0.000000    0.000000                  0.000000   \n",
       "50%       0.000000    0.000000    0.000000                  0.000000   \n",
       "75%       0.000000    0.000000    0.000000                  0.000000   \n",
       "max       0.000500    0.119500    0.006800                  1.635300   \n",
       "\n",
       "       Acalypha.neomexiacana    Fabaceae  Lupinus.neomexicanus  \\\n",
       "count             319.000000  319.000000            319.000000   \n",
       "mean                0.009103    0.000020              0.000110   \n",
       "std                 0.096234    0.000364              0.001157   \n",
       "min                 0.000000    0.000000              0.000000   \n",
       "25%                 0.000000    0.000000              0.000000   \n",
       "50%                 0.000000    0.000000              0.000000   \n",
       "75%                 0.000000    0.000000              0.000000   \n",
       "max                 1.325700    0.006500              0.015200   \n",
       "\n",
       "       Mirabilis.longiflora        SP44  Prunus.virginiana        SP46  \\\n",
       "count            319.000000  319.000000         319.000000  319.000000   \n",
       "mean               0.003145    0.000106           0.000108    0.000013   \n",
       "std                0.027592    0.001887           0.001920    0.000224   \n",
       "min                0.000000    0.000000           0.000000    0.000000   \n",
       "25%                0.000000    0.000000           0.000000    0.000000   \n",
       "50%                0.000000    0.000000           0.000000    0.000000   \n",
       "75%                0.000000    0.000000           0.000000    0.000000   \n",
       "max                0.368300    0.033700           0.034300    0.004000   \n",
       "\n",
       "         Urochloa  Cyperaceae  Pinus.edulis   Fabacea.1        SP51  \\\n",
       "count  319.000000  319.000000    319.000000  319.000000  319.000000   \n",
       "mean     0.039640    0.000679      0.007397    0.000071    0.000007   \n",
       "std      0.343485    0.005939      0.097788    0.001271    0.000129   \n",
       "min      0.000000    0.000000      0.000000    0.000000    0.000000   \n",
       "25%      0.000000    0.000000      0.000000    0.000000    0.000000   \n",
       "50%      0.000000    0.000000      0.000000    0.000000    0.000000   \n",
       "75%      0.000000    0.000000      0.000000    0.000000    0.000000   \n",
       "max      4.643000    0.073700      1.688700    0.022700    0.002300   \n",
       "\n",
       "             SP52  Calliandra.humilis  Fabaceae.1     Solanum  \\\n",
       "count  319.000000          319.000000  319.000000  319.000000   \n",
       "mean     0.000124            0.003862    0.000055    0.001578   \n",
       "std      0.002217            0.020194    0.000980    0.019917   \n",
       "min      0.000000            0.000000    0.000000    0.000000   \n",
       "25%      0.000000            0.000000    0.000000    0.000000   \n",
       "50%      0.000000            0.000000    0.000000    0.000000   \n",
       "75%      0.000000            0.000000    0.000000    0.000000   \n",
       "max      0.039600            0.206900    0.017500    0.270400   \n",
       "\n",
       "       Calliandra.eriophylla  Desmanthus.cooleyi   Sp59  Croton.pottsii  \\\n",
       "count             319.000000          319.000000  319.0      319.000000   \n",
       "mean                0.000007            0.001058    0.0        0.000105   \n",
       "std                 0.000129            0.012879    0.0        0.001369   \n",
       "min                 0.000000            0.000000    0.0        0.000000   \n",
       "25%                 0.000000            0.000000    0.0        0.000000   \n",
       "50%                 0.000000            0.000000    0.0        0.000000   \n",
       "75%                 0.000000            0.000000    0.0        0.000000   \n",
       "max                 0.002300            0.196900    0.0        0.021000   \n",
       "\n",
       "        Lupinus.1  Polygonaceae  Euphorbia.1  Calliandra   Solanum.1  \\\n",
       "count  319.000000    319.000000   319.000000  319.000000  319.000000   \n",
       "mean     0.000668      0.000207     0.000453    0.000397    0.001531   \n",
       "std      0.011523      0.003701     0.008085    0.007094    0.027345   \n",
       "min      0.000000      0.000000     0.000000    0.000000    0.000000   \n",
       "25%      0.000000      0.000000     0.000000    0.000000    0.000000   \n",
       "50%      0.000000      0.000000     0.000000    0.000000    0.000000   \n",
       "75%      0.000000      0.000000     0.000000    0.000000    0.000000   \n",
       "max      0.205700      0.066100     0.144400    0.126700    0.488400   \n",
       "\n",
       "             SPA1        SPA2       Lotus  Bidens.leptocephala        SPA5  \\\n",
       "count  319.000000  319.000000  319.000000           319.000000  319.000000   \n",
       "mean     0.000388    0.000068    0.000679             0.000069    0.000019   \n",
       "std      0.006692    0.001221    0.006065             0.000521    0.000342   \n",
       "min      0.000000    0.000000    0.000000             0.000000    0.000000   \n",
       "25%      0.000000    0.000000    0.000000             0.000000    0.000000   \n",
       "50%      0.000000    0.000000    0.000000             0.000000    0.000000   \n",
       "75%      0.000000    0.000000    0.000000             0.000000    0.000000   \n",
       "max      0.119500    0.021800    0.092000             0.006500    0.006100   \n",
       "\n",
       "             SPA6   Tephrosia  Asteraceae.Uropappus lindleyi        SPA9  \\\n",
       "count  319.000000  319.000000                     319.000000  319.000000   \n",
       "mean     0.000076    0.008066                       0.008287    0.002403   \n",
       "std      0.001349    0.057484                       0.044480    0.042921   \n",
       "min      0.000000    0.000000                       0.000000    0.000000   \n",
       "25%      0.000000    0.000000                       0.000000    0.000000   \n",
       "50%      0.000000    0.000000                       0.000000    0.000000   \n",
       "75%      0.000000    0.000000                       0.000000    0.000000   \n",
       "max      0.024100    0.864800                       0.419100    0.766600   \n",
       "\n",
       "            SPA10  Ziziphus.obtisufolia      Aristida  Diodia.teres  \\\n",
       "count  319.000000             319.00000  3.190000e+02    319.000000   \n",
       "mean     0.000731               0.00011  3.134796e-07      0.006287   \n",
       "std      0.013051               0.00196  5.598925e-06      0.072842   \n",
       "min      0.000000               0.00000  0.000000e+00      0.000000   \n",
       "25%      0.000000               0.00000  0.000000e+00      0.000000   \n",
       "50%      0.000000               0.00000  0.000000e+00      0.000000   \n",
       "75%      0.000000               0.00000  0.000000e+00      0.000000   \n",
       "max      0.233100               0.03500  1.000000e-04      1.269600   \n",
       "\n",
       "       Bothriochloa  Pinus.dulis  Paspalum.distichum       SPA17       SPA18  \\\n",
       "count    319.000000   319.000000          319.000000  319.000000  319.000000   \n",
       "mean       0.001234     0.000036            0.069161    0.000154    0.000015   \n",
       "std        0.013015     0.000638            0.456589    0.002749    0.000269   \n",
       "min        0.000000     0.000000            0.000000    0.000000    0.000000   \n",
       "25%        0.000000     0.000000            0.000000    0.000000    0.000000   \n",
       "50%        0.000000     0.000000            0.000000    0.000000    0.000000   \n",
       "75%        0.000000     0.000000            0.000000    0.000000    0.000000   \n",
       "max        0.178200     0.011400            4.769700    0.049100    0.004800   \n",
       "\n",
       "       SPA19  Euphorbia.exstipulata       SPA21   Asteracea       SPA23  \\\n",
       "count  319.0             319.000000  319.000000  319.000000  319.000000   \n",
       "mean     0.0               0.000184    0.000082    0.004871    0.000002   \n",
       "std      0.0               0.002339    0.001145    0.031324    0.000034   \n",
       "min      0.0               0.000000    0.000000    0.000000    0.000000   \n",
       "25%      0.0               0.000000    0.000000    0.000000    0.000000   \n",
       "50%      0.0               0.000000    0.000000    0.000000    0.000000   \n",
       "75%      0.0               0.000000    0.000000    0.000000    0.000000   \n",
       "max      0.0               0.040300    0.019300    0.310900    0.000600   \n",
       "\n",
       "            SPA24  Chilopsis.linearis  Sorghum.halepense  Amaranthus  \\\n",
       "count  319.000000          319.000000         319.000000  319.000000   \n",
       "mean     0.000032            0.002182           0.000568    0.000008   \n",
       "std      0.000577            0.034066           0.010151    0.000140   \n",
       "min      0.000000            0.000000           0.000000    0.000000   \n",
       "25%      0.000000            0.000000           0.000000    0.000000   \n",
       "50%      0.000000            0.000000           0.000000    0.000000   \n",
       "75%      0.000000            0.000000           0.000000    0.000000   \n",
       "max      0.010300            0.601300           0.181300    0.002500   \n",
       "\n",
       "       Setaria nigricans       SPA29       SPA30       SPA31  SPA32  \\\n",
       "count         319.000000  319.000000  319.000000  319.000000  319.0   \n",
       "mean            0.001721    0.001865    0.000005    0.000029    0.0   \n",
       "std             0.030738    0.033308    0.000095    0.000526    0.0   \n",
       "min             0.000000    0.000000    0.000000    0.000000    0.0   \n",
       "25%             0.000000    0.000000    0.000000    0.000000    0.0   \n",
       "50%             0.000000    0.000000    0.000000    0.000000    0.0   \n",
       "75%             0.000000    0.000000    0.000000    0.000000    0.0   \n",
       "max             0.549000    0.594900    0.001700    0.009400    0.0   \n",
       "\n",
       "            SPA33       SPA34       SPA35       SPA36       SPA37       SPA38  \\\n",
       "count  318.000000  319.000000  319.000000  319.000000  319.000000  319.000000   \n",
       "mean     0.000070    0.000041    0.000009    0.000077    0.000091    0.000005   \n",
       "std      0.001251    0.000728    0.000157    0.001377    0.001178    0.000090   \n",
       "min      0.000000    0.000000    0.000000    0.000000    0.000000    0.000000   \n",
       "25%      0.000000    0.000000    0.000000    0.000000    0.000000    0.000000   \n",
       "50%      0.000000    0.000000    0.000000    0.000000    0.000000    0.000000   \n",
       "75%      0.000000    0.000000    0.000000    0.000000    0.000000    0.000000   \n",
       "max      0.022300    0.013000    0.002800    0.024600    0.018100    0.001600   \n",
       "\n",
       "            SPA39       SPA40  Agave.or.Yucca       SPA42       SPA43  \\\n",
       "count  319.000000  319.000000      319.000000  319.000000  319.000000   \n",
       "mean     0.000014    0.000467        0.000790    0.000020    0.000145   \n",
       "std      0.000246    0.007037        0.008873    0.000364    0.002592   \n",
       "min      0.000000    0.000000        0.000000    0.000000    0.000000   \n",
       "25%      0.000000    0.000000        0.000000    0.000000    0.000000   \n",
       "50%      0.000000    0.000000        0.000000    0.000000    0.000000   \n",
       "75%      0.000000    0.000000        0.000000    0.000000    0.000000   \n",
       "max      0.004400    0.124700        0.143600    0.006500    0.046300   \n",
       "\n",
       "            SPA44   Sida       SPA46       SPA47      Tragia   Lupinus.2  \\\n",
       "count  319.000000  319.0  319.000000  319.000000  319.000000  319.000000   \n",
       "mean     0.002365    0.0    0.000029    0.000005    0.001771    0.012866   \n",
       "std      0.038351    0.0    0.000515    0.000084    0.013947    0.086706   \n",
       "min      0.000000    0.0    0.000000    0.000000    0.000000    0.000000   \n",
       "25%      0.000000    0.0    0.000000    0.000000    0.000000    0.000000   \n",
       "50%      0.000000    0.0    0.000000    0.000000    0.000000    0.000000   \n",
       "75%      0.000000    0.0    0.000000    0.000000    0.000000    0.000000   \n",
       "max      0.683000    0.0    0.009200    0.001500    0.189800    1.235500   \n",
       "\n",
       "            SPA50       SPA51       SPA52       SPA53       SPA54       SPA55  \\\n",
       "count  319.000000  319.000000  319.000000  319.000000  319.000000  317.000000   \n",
       "mean     0.000294    0.000055    0.000221    0.000012    0.000025    0.000021   \n",
       "std      0.003195    0.000985    0.003380    0.000218    0.000448    0.000371   \n",
       "min      0.000000    0.000000    0.000000    0.000000    0.000000    0.000000   \n",
       "25%      0.000000    0.000000    0.000000    0.000000    0.000000    0.000000   \n",
       "50%      0.000000    0.000000    0.000000    0.000000    0.000000    0.000000   \n",
       "75%      0.000000    0.000000    0.000000    0.000000    0.000000    0.000000   \n",
       "max      0.047400    0.017600    0.059400    0.003900    0.008000    0.006600   \n",
       "\n",
       "       Amaranthus.1  Desmodium.1  Bothriochloa.1  Euphorbia.2       SPA60  \\\n",
       "count    319.000000   319.000000      318.000000   319.000000  319.000000   \n",
       "mean       0.000131     0.000086        0.000004     0.002021    0.000029   \n",
       "std        0.001478     0.001151        0.000067     0.015414    0.000418   \n",
       "min        0.000000     0.000000        0.000000     0.000000    0.000000   \n",
       "25%        0.000000     0.000000        0.000000     0.000000    0.000000   \n",
       "50%        0.000000     0.000000        0.000000     0.000000    0.000000   \n",
       "75%        0.000000     0.000000        0.000000     0.000000    0.000000   \n",
       "max        0.025000     0.018600        0.001200     0.192700    0.007200   \n",
       "\n",
       "            SPA61       SPA62  Phaseolus.1       SPA64       SPA65  \\\n",
       "count  319.000000  319.000000   319.000000  319.000000  319.000000   \n",
       "mean     0.000471    0.000219     0.000291    0.001678    0.000022   \n",
       "std      0.004995    0.002126     0.004302    0.027182    0.000392   \n",
       "min      0.000000    0.000000     0.000000    0.000000    0.000000   \n",
       "25%      0.000000    0.000000     0.000000    0.000000    0.000000   \n",
       "50%      0.000000    0.000000     0.000000    0.000000    0.000000   \n",
       "75%      0.000000    0.000000     0.000000    0.000000    0.000000   \n",
       "max      0.065500    0.029700     0.074700    0.482800    0.007000   \n",
       "\n",
       "        Arachnida  Juniperus prob. deppeana         time       covey  \\\n",
       "count  319.000000                319.000000   232.000000  190.000000   \n",
       "mean     0.000483                  0.000013  1327.995690    9.178947   \n",
       "std      0.008622                  0.000230   227.468822    3.779586   \n",
       "min      0.000000                  0.000000   835.000000    1.000000   \n",
       "25%      0.000000                  0.000000  1130.000000    6.000000   \n",
       "50%      0.000000                  0.000000  1365.000000   10.000000   \n",
       "75%      0.000000                  0.000000  1530.000000   12.000000   \n",
       "max      0.154000                  0.004100  1700.000000   20.000000   \n",
       "\n",
       "       dist camino   ppanual17    tmedia17      altitud         lat  \\\n",
       "count   221.000000  221.000000  221.000000   221.000000  221.000000   \n",
       "mean    207.466742  436.755656   13.860351  1709.475113   32.221751   \n",
       "std     178.331358   78.965781    2.093009   224.818989    0.815692   \n",
       "min       6.400000  235.000000    7.054167  1206.000000   31.343850   \n",
       "25%      81.820000  376.000000   12.379167  1567.000000   31.479233   \n",
       "50%     171.920000  422.000000   14.354167  1658.000000   31.791366   \n",
       "75%     272.860000  518.000000   15.537500  1901.000000   32.894714   \n",
       "max     774.840000  620.000000   17.312500  2518.000000   34.037969   \n",
       "\n",
       "              lon       hcrop       hland  \n",
       "count  221.000000  319.000000  220.000000  \n",
       "mean  -108.935298    0.645314    1.044265  \n",
       "std      1.534481    0.528932    0.360545  \n",
       "min   -111.072099    0.000000    0.222691  \n",
       "25%   -110.585248    0.181204    0.783493  \n",
       "50%   -108.940734    0.579030    1.057318  \n",
       "75%   -107.723281    0.963353    1.362937  \n",
       "max   -105.354701    2.318525    1.796301  "
      ]
     },
     "execution_count": 15,
     "metadata": {},
     "output_type": "execute_result"
    }
   ],
   "source": [
    "pd.set_option('display.max_columns', None) # Para mostrar todas las columnas\n",
    "df.describe(include=[np.number])"
   ]
  },
  {
   "cell_type": "code",
   "execution_count": 16,
   "metadata": {},
   "outputs": [
    {
     "data": {
      "text/html": [
       "<div>\n",
       "<style scoped>\n",
       "    .dataframe tbody tr th:only-of-type {\n",
       "        vertical-align: middle;\n",
       "    }\n",
       "\n",
       "    .dataframe tbody tr th {\n",
       "        vertical-align: top;\n",
       "    }\n",
       "\n",
       "    .dataframe thead th {\n",
       "        text-align: right;\n",
       "    }\n",
       "</style>\n",
       "<table border=\"1\" class=\"dataframe\">\n",
       "  <thead>\n",
       "    <tr style=\"text-align: right;\">\n",
       "      <th></th>\n",
       "      <th>peso total</th>\n",
       "      <th>Oxalis</th>\n",
       "      <th>Quercus</th>\n",
       "      <th>Cyp.bulb</th>\n",
       "      <th>Phaseolus</th>\n",
       "      <th>Tephoria</th>\n",
       "      <th>Caracoles</th>\n",
       "      <th>Insectos</th>\n",
       "      <th>Physalis</th>\n",
       "      <th>Vitis.arizonica</th>\n",
       "      <th>Lupinus</th>\n",
       "      <th>Lotus.wrightii</th>\n",
       "      <th>Cyp.rizo</th>\n",
       "      <th>Commelina.dianthifolia</th>\n",
       "      <th>Kallstroemia.parviflora</th>\n",
       "      <th>Fabacea</th>\n",
       "      <th>Ipomoea</th>\n",
       "      <th>Desmodium</th>\n",
       "      <th>Euphorbia probably E. bilobata</th>\n",
       "      <th>Talinum.aurantiacum</th>\n",
       "      <th>SP17</th>\n",
       "      <th>Heterosperma.pinnatum</th>\n",
       "      <th>SP19</th>\n",
       "      <th>Desmanthus cooleyi</th>\n",
       "      <th>Celtis.reticulata</th>\n",
       "      <th>Panicum.hirticaule</th>\n",
       "      <th>Setaria</th>\n",
       "      <th>Malvacea</th>\n",
       "      <th>Cyperus.fendlerianus</th>\n",
       "      <th>SP26</th>\n",
       "      <th>Setaria.1</th>\n",
       "      <th>SP28</th>\n",
       "      <th>Cryptantha.cinerea</th>\n",
       "      <th>Sphaeralcea.fendleri</th>\n",
       "      <th>Hymenopappus.flavescens</th>\n",
       "      <th>Solaneaceae</th>\n",
       "      <th>Euphorbia</th>\n",
       "      <th>SP34</th>\n",
       "      <th>Piptochaetium.fimbriatum</th>\n",
       "      <th>Acalypha.neomexiacana</th>\n",
       "      <th>Fabaceae</th>\n",
       "      <th>Lupinus.neomexicanus</th>\n",
       "      <th>Mirabilis.longiflora</th>\n",
       "      <th>SP44</th>\n",
       "      <th>Prunus.virginiana</th>\n",
       "      <th>SP46</th>\n",
       "      <th>Urochloa</th>\n",
       "      <th>Cyperaceae</th>\n",
       "      <th>Pinus.edulis</th>\n",
       "      <th>Fabacea.1</th>\n",
       "      <th>SP51</th>\n",
       "      <th>SP52</th>\n",
       "      <th>Calliandra.humilis</th>\n",
       "      <th>Fabaceae.1</th>\n",
       "      <th>Solanum</th>\n",
       "      <th>Calliandra.eriophylla</th>\n",
       "      <th>Desmanthus.cooleyi</th>\n",
       "      <th>Sp59</th>\n",
       "      <th>Croton.pottsii</th>\n",
       "      <th>Lupinus.1</th>\n",
       "      <th>Polygonaceae</th>\n",
       "      <th>Euphorbia.1</th>\n",
       "      <th>Calliandra</th>\n",
       "      <th>Solanum.1</th>\n",
       "      <th>SPA1</th>\n",
       "      <th>SPA2</th>\n",
       "      <th>Lotus</th>\n",
       "      <th>Bidens.leptocephala</th>\n",
       "      <th>SPA5</th>\n",
       "      <th>SPA6</th>\n",
       "      <th>Tephrosia</th>\n",
       "      <th>Asteraceae.Uropappus lindleyi</th>\n",
       "      <th>SPA9</th>\n",
       "      <th>SPA10</th>\n",
       "      <th>Ziziphus.obtisufolia</th>\n",
       "      <th>Aristida</th>\n",
       "      <th>Diodia.teres</th>\n",
       "      <th>Bothriochloa</th>\n",
       "      <th>Pinus.dulis</th>\n",
       "      <th>Paspalum.distichum</th>\n",
       "      <th>SPA17</th>\n",
       "      <th>SPA18</th>\n",
       "      <th>SPA19</th>\n",
       "      <th>Euphorbia.exstipulata</th>\n",
       "      <th>SPA21</th>\n",
       "      <th>Asteracea</th>\n",
       "      <th>SPA23</th>\n",
       "      <th>SPA24</th>\n",
       "      <th>Chilopsis.linearis</th>\n",
       "      <th>Sorghum.halepense</th>\n",
       "      <th>Amaranthus</th>\n",
       "      <th>Setaria nigricans</th>\n",
       "      <th>SPA29</th>\n",
       "      <th>SPA30</th>\n",
       "      <th>SPA31</th>\n",
       "      <th>SPA32</th>\n",
       "      <th>SPA33</th>\n",
       "      <th>SPA34</th>\n",
       "      <th>SPA35</th>\n",
       "      <th>SPA36</th>\n",
       "      <th>SPA37</th>\n",
       "      <th>SPA38</th>\n",
       "      <th>SPA39</th>\n",
       "      <th>SPA40</th>\n",
       "      <th>Agave.or.Yucca</th>\n",
       "      <th>SPA42</th>\n",
       "      <th>SPA43</th>\n",
       "      <th>SPA44</th>\n",
       "      <th>Sida</th>\n",
       "      <th>SPA46</th>\n",
       "      <th>SPA47</th>\n",
       "      <th>Tragia</th>\n",
       "      <th>Lupinus.2</th>\n",
       "      <th>SPA50</th>\n",
       "      <th>SPA51</th>\n",
       "      <th>SPA52</th>\n",
       "      <th>SPA53</th>\n",
       "      <th>SPA54</th>\n",
       "      <th>SPA55</th>\n",
       "      <th>Amaranthus.1</th>\n",
       "      <th>Desmodium.1</th>\n",
       "      <th>Bothriochloa.1</th>\n",
       "      <th>Euphorbia.2</th>\n",
       "      <th>SPA60</th>\n",
       "      <th>SPA61</th>\n",
       "      <th>SPA62</th>\n",
       "      <th>Phaseolus.1</th>\n",
       "      <th>SPA64</th>\n",
       "      <th>SPA65</th>\n",
       "      <th>Arachnida</th>\n",
       "      <th>Juniperus prob. deppeana</th>\n",
       "      <th>time</th>\n",
       "      <th>covey</th>\n",
       "      <th>dist camino</th>\n",
       "      <th>ppanual17</th>\n",
       "      <th>tmedia17</th>\n",
       "      <th>altitud</th>\n",
       "      <th>lat</th>\n",
       "      <th>lon</th>\n",
       "      <th>hcrop</th>\n",
       "      <th>hland</th>\n",
       "    </tr>\n",
       "  </thead>\n",
       "  <tbody>\n",
       "    <tr>\n",
       "      <th>0</th>\n",
       "      <td>0.0</td>\n",
       "      <td>0.0</td>\n",
       "      <td>0.0</td>\n",
       "      <td>0.0</td>\n",
       "      <td>0.0</td>\n",
       "      <td>0.0</td>\n",
       "      <td>0.0</td>\n",
       "      <td>0.0</td>\n",
       "      <td>0.0</td>\n",
       "      <td>0.0</td>\n",
       "      <td>0.0</td>\n",
       "      <td>0.0</td>\n",
       "      <td>0.0</td>\n",
       "      <td>0.0</td>\n",
       "      <td>0.0</td>\n",
       "      <td>0.0</td>\n",
       "      <td>0.0</td>\n",
       "      <td>0.0</td>\n",
       "      <td>0.0</td>\n",
       "      <td>0.0</td>\n",
       "      <td>0.0</td>\n",
       "      <td>0.0</td>\n",
       "      <td>0.0</td>\n",
       "      <td>0.0</td>\n",
       "      <td>0.0</td>\n",
       "      <td>0.0</td>\n",
       "      <td>0.0</td>\n",
       "      <td>0.0</td>\n",
       "      <td>0.0</td>\n",
       "      <td>0.0</td>\n",
       "      <td>0.0</td>\n",
       "      <td>0.0</td>\n",
       "      <td>0.0</td>\n",
       "      <td>0.0</td>\n",
       "      <td>0.0</td>\n",
       "      <td>0.0</td>\n",
       "      <td>0.0</td>\n",
       "      <td>0.0</td>\n",
       "      <td>0.0</td>\n",
       "      <td>0.0</td>\n",
       "      <td>0.0</td>\n",
       "      <td>0.0</td>\n",
       "      <td>0.0</td>\n",
       "      <td>0.0</td>\n",
       "      <td>0.0</td>\n",
       "      <td>0.0</td>\n",
       "      <td>0.0</td>\n",
       "      <td>0.0</td>\n",
       "      <td>0.0</td>\n",
       "      <td>0.0</td>\n",
       "      <td>0.0</td>\n",
       "      <td>0.0</td>\n",
       "      <td>0.0</td>\n",
       "      <td>0.0</td>\n",
       "      <td>0.0</td>\n",
       "      <td>0.0</td>\n",
       "      <td>0.0</td>\n",
       "      <td>0.0</td>\n",
       "      <td>0.0</td>\n",
       "      <td>0.0</td>\n",
       "      <td>0.0</td>\n",
       "      <td>0.0</td>\n",
       "      <td>0.0</td>\n",
       "      <td>0.0</td>\n",
       "      <td>0.0</td>\n",
       "      <td>0.0</td>\n",
       "      <td>0.0</td>\n",
       "      <td>0.0</td>\n",
       "      <td>0.0</td>\n",
       "      <td>0.0</td>\n",
       "      <td>0.0</td>\n",
       "      <td>0.0</td>\n",
       "      <td>0.0</td>\n",
       "      <td>0.0</td>\n",
       "      <td>0.0</td>\n",
       "      <td>0.0</td>\n",
       "      <td>0.0</td>\n",
       "      <td>0.0</td>\n",
       "      <td>0.0</td>\n",
       "      <td>0.0</td>\n",
       "      <td>0.0</td>\n",
       "      <td>0.0</td>\n",
       "      <td>0.0</td>\n",
       "      <td>0.0</td>\n",
       "      <td>0.0</td>\n",
       "      <td>0.0</td>\n",
       "      <td>0.0</td>\n",
       "      <td>0.0</td>\n",
       "      <td>0.0</td>\n",
       "      <td>0.0</td>\n",
       "      <td>0.0</td>\n",
       "      <td>0.0</td>\n",
       "      <td>0.0</td>\n",
       "      <td>0.0</td>\n",
       "      <td>0.0</td>\n",
       "      <td>0.0</td>\n",
       "      <td>0.0</td>\n",
       "      <td>0.0</td>\n",
       "      <td>0.0</td>\n",
       "      <td>0.0</td>\n",
       "      <td>0.0</td>\n",
       "      <td>0.0</td>\n",
       "      <td>0.0</td>\n",
       "      <td>0.0</td>\n",
       "      <td>0.0</td>\n",
       "      <td>0.0</td>\n",
       "      <td>0.0</td>\n",
       "      <td>0.0</td>\n",
       "      <td>0.0</td>\n",
       "      <td>0.0</td>\n",
       "      <td>0.0</td>\n",
       "      <td>0.0</td>\n",
       "      <td>0.0</td>\n",
       "      <td>0.0</td>\n",
       "      <td>0.0</td>\n",
       "      <td>0.0</td>\n",
       "      <td>0.0</td>\n",
       "      <td>0.0</td>\n",
       "      <td>0.0</td>\n",
       "      <td>0.0</td>\n",
       "      <td>0.0</td>\n",
       "      <td>0.0</td>\n",
       "      <td>0.0</td>\n",
       "      <td>0.0</td>\n",
       "      <td>0.0</td>\n",
       "      <td>0.0</td>\n",
       "      <td>0.0</td>\n",
       "      <td>0.0</td>\n",
       "      <td>0.0</td>\n",
       "      <td>0.0</td>\n",
       "      <td>0.0</td>\n",
       "      <td>1500.0</td>\n",
       "      <td>10.0</td>\n",
       "      <td>99.93</td>\n",
       "      <td>376.0</td>\n",
       "      <td>12.379167</td>\n",
       "      <td>1591.0</td>\n",
       "      <td>31.391325</td>\n",
       "      <td>-110.602862</td>\n",
       "      <td>0.0</td>\n",
       "      <td>0.222691</td>\n",
       "    </tr>\n",
       "    <tr>\n",
       "      <th>1</th>\n",
       "      <td>NaN</td>\n",
       "      <td>NaN</td>\n",
       "      <td>NaN</td>\n",
       "      <td>NaN</td>\n",
       "      <td>NaN</td>\n",
       "      <td>NaN</td>\n",
       "      <td>NaN</td>\n",
       "      <td>NaN</td>\n",
       "      <td>NaN</td>\n",
       "      <td>NaN</td>\n",
       "      <td>NaN</td>\n",
       "      <td>NaN</td>\n",
       "      <td>NaN</td>\n",
       "      <td>NaN</td>\n",
       "      <td>NaN</td>\n",
       "      <td>NaN</td>\n",
       "      <td>NaN</td>\n",
       "      <td>NaN</td>\n",
       "      <td>NaN</td>\n",
       "      <td>NaN</td>\n",
       "      <td>NaN</td>\n",
       "      <td>NaN</td>\n",
       "      <td>NaN</td>\n",
       "      <td>NaN</td>\n",
       "      <td>NaN</td>\n",
       "      <td>NaN</td>\n",
       "      <td>NaN</td>\n",
       "      <td>NaN</td>\n",
       "      <td>NaN</td>\n",
       "      <td>NaN</td>\n",
       "      <td>NaN</td>\n",
       "      <td>NaN</td>\n",
       "      <td>NaN</td>\n",
       "      <td>NaN</td>\n",
       "      <td>NaN</td>\n",
       "      <td>NaN</td>\n",
       "      <td>NaN</td>\n",
       "      <td>NaN</td>\n",
       "      <td>NaN</td>\n",
       "      <td>NaN</td>\n",
       "      <td>NaN</td>\n",
       "      <td>NaN</td>\n",
       "      <td>NaN</td>\n",
       "      <td>NaN</td>\n",
       "      <td>NaN</td>\n",
       "      <td>NaN</td>\n",
       "      <td>NaN</td>\n",
       "      <td>NaN</td>\n",
       "      <td>NaN</td>\n",
       "      <td>NaN</td>\n",
       "      <td>NaN</td>\n",
       "      <td>NaN</td>\n",
       "      <td>NaN</td>\n",
       "      <td>NaN</td>\n",
       "      <td>NaN</td>\n",
       "      <td>NaN</td>\n",
       "      <td>NaN</td>\n",
       "      <td>NaN</td>\n",
       "      <td>NaN</td>\n",
       "      <td>NaN</td>\n",
       "      <td>NaN</td>\n",
       "      <td>NaN</td>\n",
       "      <td>NaN</td>\n",
       "      <td>NaN</td>\n",
       "      <td>NaN</td>\n",
       "      <td>NaN</td>\n",
       "      <td>NaN</td>\n",
       "      <td>NaN</td>\n",
       "      <td>NaN</td>\n",
       "      <td>NaN</td>\n",
       "      <td>NaN</td>\n",
       "      <td>NaN</td>\n",
       "      <td>NaN</td>\n",
       "      <td>NaN</td>\n",
       "      <td>NaN</td>\n",
       "      <td>NaN</td>\n",
       "      <td>NaN</td>\n",
       "      <td>NaN</td>\n",
       "      <td>NaN</td>\n",
       "      <td>NaN</td>\n",
       "      <td>NaN</td>\n",
       "      <td>NaN</td>\n",
       "      <td>NaN</td>\n",
       "      <td>NaN</td>\n",
       "      <td>NaN</td>\n",
       "      <td>NaN</td>\n",
       "      <td>NaN</td>\n",
       "      <td>NaN</td>\n",
       "      <td>NaN</td>\n",
       "      <td>NaN</td>\n",
       "      <td>NaN</td>\n",
       "      <td>NaN</td>\n",
       "      <td>NaN</td>\n",
       "      <td>NaN</td>\n",
       "      <td>NaN</td>\n",
       "      <td>NaN</td>\n",
       "      <td>NaN</td>\n",
       "      <td>NaN</td>\n",
       "      <td>NaN</td>\n",
       "      <td>NaN</td>\n",
       "      <td>NaN</td>\n",
       "      <td>NaN</td>\n",
       "      <td>NaN</td>\n",
       "      <td>NaN</td>\n",
       "      <td>NaN</td>\n",
       "      <td>NaN</td>\n",
       "      <td>NaN</td>\n",
       "      <td>NaN</td>\n",
       "      <td>NaN</td>\n",
       "      <td>NaN</td>\n",
       "      <td>NaN</td>\n",
       "      <td>NaN</td>\n",
       "      <td>NaN</td>\n",
       "      <td>NaN</td>\n",
       "      <td>NaN</td>\n",
       "      <td>NaN</td>\n",
       "      <td>NaN</td>\n",
       "      <td>NaN</td>\n",
       "      <td>NaN</td>\n",
       "      <td>NaN</td>\n",
       "      <td>NaN</td>\n",
       "      <td>NaN</td>\n",
       "      <td>NaN</td>\n",
       "      <td>NaN</td>\n",
       "      <td>NaN</td>\n",
       "      <td>NaN</td>\n",
       "      <td>NaN</td>\n",
       "      <td>NaN</td>\n",
       "      <td>NaN</td>\n",
       "      <td>NaN</td>\n",
       "      <td>NaN</td>\n",
       "      <td>1600.0</td>\n",
       "      <td>NaN</td>\n",
       "      <td>111.82</td>\n",
       "      <td>NaN</td>\n",
       "      <td>14.354167</td>\n",
       "      <td>2023.0</td>\n",
       "      <td>31.479233</td>\n",
       "      <td>-110.594791</td>\n",
       "      <td>NaN</td>\n",
       "      <td>0.272215</td>\n",
       "    </tr>\n",
       "    <tr>\n",
       "      <th>2</th>\n",
       "      <td>NaN</td>\n",
       "      <td>NaN</td>\n",
       "      <td>NaN</td>\n",
       "      <td>NaN</td>\n",
       "      <td>NaN</td>\n",
       "      <td>NaN</td>\n",
       "      <td>NaN</td>\n",
       "      <td>NaN</td>\n",
       "      <td>NaN</td>\n",
       "      <td>NaN</td>\n",
       "      <td>NaN</td>\n",
       "      <td>NaN</td>\n",
       "      <td>NaN</td>\n",
       "      <td>NaN</td>\n",
       "      <td>NaN</td>\n",
       "      <td>NaN</td>\n",
       "      <td>NaN</td>\n",
       "      <td>NaN</td>\n",
       "      <td>NaN</td>\n",
       "      <td>NaN</td>\n",
       "      <td>NaN</td>\n",
       "      <td>NaN</td>\n",
       "      <td>NaN</td>\n",
       "      <td>NaN</td>\n",
       "      <td>NaN</td>\n",
       "      <td>NaN</td>\n",
       "      <td>NaN</td>\n",
       "      <td>NaN</td>\n",
       "      <td>NaN</td>\n",
       "      <td>NaN</td>\n",
       "      <td>NaN</td>\n",
       "      <td>NaN</td>\n",
       "      <td>NaN</td>\n",
       "      <td>NaN</td>\n",
       "      <td>NaN</td>\n",
       "      <td>NaN</td>\n",
       "      <td>NaN</td>\n",
       "      <td>NaN</td>\n",
       "      <td>NaN</td>\n",
       "      <td>NaN</td>\n",
       "      <td>NaN</td>\n",
       "      <td>NaN</td>\n",
       "      <td>NaN</td>\n",
       "      <td>NaN</td>\n",
       "      <td>NaN</td>\n",
       "      <td>NaN</td>\n",
       "      <td>NaN</td>\n",
       "      <td>NaN</td>\n",
       "      <td>NaN</td>\n",
       "      <td>NaN</td>\n",
       "      <td>NaN</td>\n",
       "      <td>NaN</td>\n",
       "      <td>NaN</td>\n",
       "      <td>NaN</td>\n",
       "      <td>NaN</td>\n",
       "      <td>NaN</td>\n",
       "      <td>NaN</td>\n",
       "      <td>NaN</td>\n",
       "      <td>NaN</td>\n",
       "      <td>NaN</td>\n",
       "      <td>NaN</td>\n",
       "      <td>NaN</td>\n",
       "      <td>NaN</td>\n",
       "      <td>NaN</td>\n",
       "      <td>NaN</td>\n",
       "      <td>NaN</td>\n",
       "      <td>NaN</td>\n",
       "      <td>NaN</td>\n",
       "      <td>NaN</td>\n",
       "      <td>NaN</td>\n",
       "      <td>NaN</td>\n",
       "      <td>NaN</td>\n",
       "      <td>NaN</td>\n",
       "      <td>NaN</td>\n",
       "      <td>NaN</td>\n",
       "      <td>NaN</td>\n",
       "      <td>NaN</td>\n",
       "      <td>NaN</td>\n",
       "      <td>NaN</td>\n",
       "      <td>NaN</td>\n",
       "      <td>NaN</td>\n",
       "      <td>NaN</td>\n",
       "      <td>NaN</td>\n",
       "      <td>NaN</td>\n",
       "      <td>NaN</td>\n",
       "      <td>NaN</td>\n",
       "      <td>NaN</td>\n",
       "      <td>NaN</td>\n",
       "      <td>NaN</td>\n",
       "      <td>NaN</td>\n",
       "      <td>NaN</td>\n",
       "      <td>NaN</td>\n",
       "      <td>NaN</td>\n",
       "      <td>NaN</td>\n",
       "      <td>NaN</td>\n",
       "      <td>NaN</td>\n",
       "      <td>NaN</td>\n",
       "      <td>NaN</td>\n",
       "      <td>NaN</td>\n",
       "      <td>NaN</td>\n",
       "      <td>NaN</td>\n",
       "      <td>NaN</td>\n",
       "      <td>NaN</td>\n",
       "      <td>NaN</td>\n",
       "      <td>NaN</td>\n",
       "      <td>NaN</td>\n",
       "      <td>NaN</td>\n",
       "      <td>NaN</td>\n",
       "      <td>NaN</td>\n",
       "      <td>NaN</td>\n",
       "      <td>NaN</td>\n",
       "      <td>NaN</td>\n",
       "      <td>NaN</td>\n",
       "      <td>NaN</td>\n",
       "      <td>NaN</td>\n",
       "      <td>NaN</td>\n",
       "      <td>NaN</td>\n",
       "      <td>NaN</td>\n",
       "      <td>NaN</td>\n",
       "      <td>NaN</td>\n",
       "      <td>NaN</td>\n",
       "      <td>NaN</td>\n",
       "      <td>NaN</td>\n",
       "      <td>NaN</td>\n",
       "      <td>NaN</td>\n",
       "      <td>NaN</td>\n",
       "      <td>NaN</td>\n",
       "      <td>NaN</td>\n",
       "      <td>NaN</td>\n",
       "      <td>NaN</td>\n",
       "      <td>NaN</td>\n",
       "      <td>NaN</td>\n",
       "      <td>NaN</td>\n",
       "      <td>171.92</td>\n",
       "      <td>NaN</td>\n",
       "      <td>15.537500</td>\n",
       "      <td>NaN</td>\n",
       "      <td>31.484718</td>\n",
       "      <td>-110.464206</td>\n",
       "      <td>NaN</td>\n",
       "      <td>1.395863</td>\n",
       "    </tr>\n",
       "    <tr>\n",
       "      <th>3</th>\n",
       "      <td>NaN</td>\n",
       "      <td>NaN</td>\n",
       "      <td>NaN</td>\n",
       "      <td>NaN</td>\n",
       "      <td>NaN</td>\n",
       "      <td>NaN</td>\n",
       "      <td>NaN</td>\n",
       "      <td>NaN</td>\n",
       "      <td>NaN</td>\n",
       "      <td>NaN</td>\n",
       "      <td>NaN</td>\n",
       "      <td>NaN</td>\n",
       "      <td>NaN</td>\n",
       "      <td>NaN</td>\n",
       "      <td>NaN</td>\n",
       "      <td>NaN</td>\n",
       "      <td>NaN</td>\n",
       "      <td>NaN</td>\n",
       "      <td>NaN</td>\n",
       "      <td>NaN</td>\n",
       "      <td>NaN</td>\n",
       "      <td>NaN</td>\n",
       "      <td>NaN</td>\n",
       "      <td>NaN</td>\n",
       "      <td>NaN</td>\n",
       "      <td>NaN</td>\n",
       "      <td>NaN</td>\n",
       "      <td>NaN</td>\n",
       "      <td>NaN</td>\n",
       "      <td>NaN</td>\n",
       "      <td>NaN</td>\n",
       "      <td>NaN</td>\n",
       "      <td>NaN</td>\n",
       "      <td>NaN</td>\n",
       "      <td>NaN</td>\n",
       "      <td>NaN</td>\n",
       "      <td>NaN</td>\n",
       "      <td>NaN</td>\n",
       "      <td>NaN</td>\n",
       "      <td>NaN</td>\n",
       "      <td>NaN</td>\n",
       "      <td>NaN</td>\n",
       "      <td>NaN</td>\n",
       "      <td>NaN</td>\n",
       "      <td>NaN</td>\n",
       "      <td>NaN</td>\n",
       "      <td>NaN</td>\n",
       "      <td>NaN</td>\n",
       "      <td>NaN</td>\n",
       "      <td>NaN</td>\n",
       "      <td>NaN</td>\n",
       "      <td>NaN</td>\n",
       "      <td>NaN</td>\n",
       "      <td>NaN</td>\n",
       "      <td>NaN</td>\n",
       "      <td>NaN</td>\n",
       "      <td>NaN</td>\n",
       "      <td>NaN</td>\n",
       "      <td>NaN</td>\n",
       "      <td>NaN</td>\n",
       "      <td>NaN</td>\n",
       "      <td>NaN</td>\n",
       "      <td>NaN</td>\n",
       "      <td>NaN</td>\n",
       "      <td>NaN</td>\n",
       "      <td>NaN</td>\n",
       "      <td>NaN</td>\n",
       "      <td>NaN</td>\n",
       "      <td>NaN</td>\n",
       "      <td>NaN</td>\n",
       "      <td>NaN</td>\n",
       "      <td>NaN</td>\n",
       "      <td>NaN</td>\n",
       "      <td>NaN</td>\n",
       "      <td>NaN</td>\n",
       "      <td>NaN</td>\n",
       "      <td>NaN</td>\n",
       "      <td>NaN</td>\n",
       "      <td>NaN</td>\n",
       "      <td>NaN</td>\n",
       "      <td>NaN</td>\n",
       "      <td>NaN</td>\n",
       "      <td>NaN</td>\n",
       "      <td>NaN</td>\n",
       "      <td>NaN</td>\n",
       "      <td>NaN</td>\n",
       "      <td>NaN</td>\n",
       "      <td>NaN</td>\n",
       "      <td>NaN</td>\n",
       "      <td>NaN</td>\n",
       "      <td>NaN</td>\n",
       "      <td>NaN</td>\n",
       "      <td>NaN</td>\n",
       "      <td>NaN</td>\n",
       "      <td>NaN</td>\n",
       "      <td>NaN</td>\n",
       "      <td>NaN</td>\n",
       "      <td>NaN</td>\n",
       "      <td>NaN</td>\n",
       "      <td>NaN</td>\n",
       "      <td>NaN</td>\n",
       "      <td>NaN</td>\n",
       "      <td>NaN</td>\n",
       "      <td>NaN</td>\n",
       "      <td>NaN</td>\n",
       "      <td>NaN</td>\n",
       "      <td>NaN</td>\n",
       "      <td>NaN</td>\n",
       "      <td>NaN</td>\n",
       "      <td>NaN</td>\n",
       "      <td>NaN</td>\n",
       "      <td>NaN</td>\n",
       "      <td>NaN</td>\n",
       "      <td>NaN</td>\n",
       "      <td>NaN</td>\n",
       "      <td>NaN</td>\n",
       "      <td>NaN</td>\n",
       "      <td>NaN</td>\n",
       "      <td>NaN</td>\n",
       "      <td>NaN</td>\n",
       "      <td>NaN</td>\n",
       "      <td>NaN</td>\n",
       "      <td>NaN</td>\n",
       "      <td>NaN</td>\n",
       "      <td>NaN</td>\n",
       "      <td>NaN</td>\n",
       "      <td>NaN</td>\n",
       "      <td>NaN</td>\n",
       "      <td>NaN</td>\n",
       "      <td>NaN</td>\n",
       "      <td>NaN</td>\n",
       "      <td>NaN</td>\n",
       "      <td>NaN</td>\n",
       "      <td>272.86</td>\n",
       "      <td>NaN</td>\n",
       "      <td>NaN</td>\n",
       "      <td>NaN</td>\n",
       "      <td>31.513011</td>\n",
       "      <td>-108.940734</td>\n",
       "      <td>NaN</td>\n",
       "      <td>1.434210</td>\n",
       "    </tr>\n",
       "    <tr>\n",
       "      <th>4</th>\n",
       "      <td>NaN</td>\n",
       "      <td>NaN</td>\n",
       "      <td>NaN</td>\n",
       "      <td>NaN</td>\n",
       "      <td>NaN</td>\n",
       "      <td>NaN</td>\n",
       "      <td>NaN</td>\n",
       "      <td>NaN</td>\n",
       "      <td>NaN</td>\n",
       "      <td>NaN</td>\n",
       "      <td>NaN</td>\n",
       "      <td>NaN</td>\n",
       "      <td>NaN</td>\n",
       "      <td>NaN</td>\n",
       "      <td>NaN</td>\n",
       "      <td>NaN</td>\n",
       "      <td>NaN</td>\n",
       "      <td>NaN</td>\n",
       "      <td>NaN</td>\n",
       "      <td>NaN</td>\n",
       "      <td>NaN</td>\n",
       "      <td>NaN</td>\n",
       "      <td>NaN</td>\n",
       "      <td>NaN</td>\n",
       "      <td>NaN</td>\n",
       "      <td>NaN</td>\n",
       "      <td>NaN</td>\n",
       "      <td>NaN</td>\n",
       "      <td>NaN</td>\n",
       "      <td>NaN</td>\n",
       "      <td>NaN</td>\n",
       "      <td>NaN</td>\n",
       "      <td>NaN</td>\n",
       "      <td>NaN</td>\n",
       "      <td>NaN</td>\n",
       "      <td>NaN</td>\n",
       "      <td>NaN</td>\n",
       "      <td>NaN</td>\n",
       "      <td>NaN</td>\n",
       "      <td>NaN</td>\n",
       "      <td>NaN</td>\n",
       "      <td>NaN</td>\n",
       "      <td>NaN</td>\n",
       "      <td>NaN</td>\n",
       "      <td>NaN</td>\n",
       "      <td>NaN</td>\n",
       "      <td>NaN</td>\n",
       "      <td>NaN</td>\n",
       "      <td>NaN</td>\n",
       "      <td>NaN</td>\n",
       "      <td>NaN</td>\n",
       "      <td>NaN</td>\n",
       "      <td>NaN</td>\n",
       "      <td>NaN</td>\n",
       "      <td>NaN</td>\n",
       "      <td>NaN</td>\n",
       "      <td>NaN</td>\n",
       "      <td>NaN</td>\n",
       "      <td>NaN</td>\n",
       "      <td>NaN</td>\n",
       "      <td>NaN</td>\n",
       "      <td>NaN</td>\n",
       "      <td>NaN</td>\n",
       "      <td>NaN</td>\n",
       "      <td>NaN</td>\n",
       "      <td>NaN</td>\n",
       "      <td>NaN</td>\n",
       "      <td>NaN</td>\n",
       "      <td>NaN</td>\n",
       "      <td>NaN</td>\n",
       "      <td>NaN</td>\n",
       "      <td>NaN</td>\n",
       "      <td>NaN</td>\n",
       "      <td>NaN</td>\n",
       "      <td>NaN</td>\n",
       "      <td>NaN</td>\n",
       "      <td>NaN</td>\n",
       "      <td>NaN</td>\n",
       "      <td>NaN</td>\n",
       "      <td>NaN</td>\n",
       "      <td>NaN</td>\n",
       "      <td>NaN</td>\n",
       "      <td>NaN</td>\n",
       "      <td>NaN</td>\n",
       "      <td>NaN</td>\n",
       "      <td>NaN</td>\n",
       "      <td>NaN</td>\n",
       "      <td>NaN</td>\n",
       "      <td>NaN</td>\n",
       "      <td>NaN</td>\n",
       "      <td>NaN</td>\n",
       "      <td>NaN</td>\n",
       "      <td>NaN</td>\n",
       "      <td>NaN</td>\n",
       "      <td>NaN</td>\n",
       "      <td>NaN</td>\n",
       "      <td>NaN</td>\n",
       "      <td>NaN</td>\n",
       "      <td>NaN</td>\n",
       "      <td>NaN</td>\n",
       "      <td>NaN</td>\n",
       "      <td>NaN</td>\n",
       "      <td>NaN</td>\n",
       "      <td>NaN</td>\n",
       "      <td>NaN</td>\n",
       "      <td>NaN</td>\n",
       "      <td>NaN</td>\n",
       "      <td>NaN</td>\n",
       "      <td>NaN</td>\n",
       "      <td>NaN</td>\n",
       "      <td>NaN</td>\n",
       "      <td>NaN</td>\n",
       "      <td>NaN</td>\n",
       "      <td>NaN</td>\n",
       "      <td>NaN</td>\n",
       "      <td>NaN</td>\n",
       "      <td>NaN</td>\n",
       "      <td>NaN</td>\n",
       "      <td>NaN</td>\n",
       "      <td>NaN</td>\n",
       "      <td>NaN</td>\n",
       "      <td>NaN</td>\n",
       "      <td>NaN</td>\n",
       "      <td>NaN</td>\n",
       "      <td>NaN</td>\n",
       "      <td>NaN</td>\n",
       "      <td>NaN</td>\n",
       "      <td>NaN</td>\n",
       "      <td>NaN</td>\n",
       "      <td>NaN</td>\n",
       "      <td>NaN</td>\n",
       "      <td>NaN</td>\n",
       "      <td>NaN</td>\n",
       "      <td>287.93</td>\n",
       "      <td>NaN</td>\n",
       "      <td>NaN</td>\n",
       "      <td>NaN</td>\n",
       "      <td>33.207120</td>\n",
       "      <td>-107.723281</td>\n",
       "      <td>NaN</td>\n",
       "      <td>1.481312</td>\n",
       "    </tr>\n",
       "  </tbody>\n",
       "</table>\n",
       "</div>"
      ],
      "text/plain": [
       "   peso total  Oxalis  Quercus  Cyp.bulb  Phaseolus  Tephoria  Caracoles  \\\n",
       "0         0.0     0.0      0.0       0.0        0.0       0.0        0.0   \n",
       "1         NaN     NaN      NaN       NaN        NaN       NaN        NaN   \n",
       "2         NaN     NaN      NaN       NaN        NaN       NaN        NaN   \n",
       "3         NaN     NaN      NaN       NaN        NaN       NaN        NaN   \n",
       "4         NaN     NaN      NaN       NaN        NaN       NaN        NaN   \n",
       "\n",
       "   Insectos  Physalis  Vitis.arizonica  Lupinus  Lotus.wrightii  Cyp.rizo  \\\n",
       "0       0.0       0.0              0.0      0.0             0.0       0.0   \n",
       "1       NaN       NaN              NaN      NaN             NaN       NaN   \n",
       "2       NaN       NaN              NaN      NaN             NaN       NaN   \n",
       "3       NaN       NaN              NaN      NaN             NaN       NaN   \n",
       "4       NaN       NaN              NaN      NaN             NaN       NaN   \n",
       "\n",
       "   Commelina.dianthifolia  Kallstroemia.parviflora  Fabacea  Ipomoea  \\\n",
       "0                     0.0                      0.0      0.0      0.0   \n",
       "1                     NaN                      NaN      NaN      NaN   \n",
       "2                     NaN                      NaN      NaN      NaN   \n",
       "3                     NaN                      NaN      NaN      NaN   \n",
       "4                     NaN                      NaN      NaN      NaN   \n",
       "\n",
       "   Desmodium  Euphorbia probably E. bilobata  Talinum.aurantiacum  SP17  \\\n",
       "0        0.0                             0.0                  0.0   0.0   \n",
       "1        NaN                             NaN                  NaN   NaN   \n",
       "2        NaN                             NaN                  NaN   NaN   \n",
       "3        NaN                             NaN                  NaN   NaN   \n",
       "4        NaN                             NaN                  NaN   NaN   \n",
       "\n",
       "   Heterosperma.pinnatum  SP19  Desmanthus cooleyi  Celtis.reticulata  \\\n",
       "0                    0.0   0.0                 0.0                0.0   \n",
       "1                    NaN   NaN                 NaN                NaN   \n",
       "2                    NaN   NaN                 NaN                NaN   \n",
       "3                    NaN   NaN                 NaN                NaN   \n",
       "4                    NaN   NaN                 NaN                NaN   \n",
       "\n",
       "   Panicum.hirticaule  Setaria  Malvacea  Cyperus.fendlerianus  SP26  \\\n",
       "0                 0.0      0.0       0.0                   0.0   0.0   \n",
       "1                 NaN      NaN       NaN                   NaN   NaN   \n",
       "2                 NaN      NaN       NaN                   NaN   NaN   \n",
       "3                 NaN      NaN       NaN                   NaN   NaN   \n",
       "4                 NaN      NaN       NaN                   NaN   NaN   \n",
       "\n",
       "   Setaria.1  SP28  Cryptantha.cinerea  Sphaeralcea.fendleri  \\\n",
       "0        0.0   0.0                 0.0                   0.0   \n",
       "1        NaN   NaN                 NaN                   NaN   \n",
       "2        NaN   NaN                 NaN                   NaN   \n",
       "3        NaN   NaN                 NaN                   NaN   \n",
       "4        NaN   NaN                 NaN                   NaN   \n",
       "\n",
       "   Hymenopappus.flavescens  Solaneaceae  Euphorbia  SP34  \\\n",
       "0                      0.0          0.0        0.0   0.0   \n",
       "1                      NaN          NaN        NaN   NaN   \n",
       "2                      NaN          NaN        NaN   NaN   \n",
       "3                      NaN          NaN        NaN   NaN   \n",
       "4                      NaN          NaN        NaN   NaN   \n",
       "\n",
       "   Piptochaetium.fimbriatum  Acalypha.neomexiacana  Fabaceae  \\\n",
       "0                       0.0                    0.0       0.0   \n",
       "1                       NaN                    NaN       NaN   \n",
       "2                       NaN                    NaN       NaN   \n",
       "3                       NaN                    NaN       NaN   \n",
       "4                       NaN                    NaN       NaN   \n",
       "\n",
       "   Lupinus.neomexicanus  Mirabilis.longiflora  SP44  Prunus.virginiana  SP46  \\\n",
       "0                   0.0                   0.0   0.0                0.0   0.0   \n",
       "1                   NaN                   NaN   NaN                NaN   NaN   \n",
       "2                   NaN                   NaN   NaN                NaN   NaN   \n",
       "3                   NaN                   NaN   NaN                NaN   NaN   \n",
       "4                   NaN                   NaN   NaN                NaN   NaN   \n",
       "\n",
       "   Urochloa  Cyperaceae  Pinus.edulis  Fabacea.1  SP51  SP52  \\\n",
       "0       0.0         0.0           0.0        0.0   0.0   0.0   \n",
       "1       NaN         NaN           NaN        NaN   NaN   NaN   \n",
       "2       NaN         NaN           NaN        NaN   NaN   NaN   \n",
       "3       NaN         NaN           NaN        NaN   NaN   NaN   \n",
       "4       NaN         NaN           NaN        NaN   NaN   NaN   \n",
       "\n",
       "   Calliandra.humilis  Fabaceae.1  Solanum  Calliandra.eriophylla  \\\n",
       "0                 0.0         0.0      0.0                    0.0   \n",
       "1                 NaN         NaN      NaN                    NaN   \n",
       "2                 NaN         NaN      NaN                    NaN   \n",
       "3                 NaN         NaN      NaN                    NaN   \n",
       "4                 NaN         NaN      NaN                    NaN   \n",
       "\n",
       "   Desmanthus.cooleyi  Sp59  Croton.pottsii  Lupinus.1  Polygonaceae  \\\n",
       "0                 0.0   0.0             0.0        0.0           0.0   \n",
       "1                 NaN   NaN             NaN        NaN           NaN   \n",
       "2                 NaN   NaN             NaN        NaN           NaN   \n",
       "3                 NaN   NaN             NaN        NaN           NaN   \n",
       "4                 NaN   NaN             NaN        NaN           NaN   \n",
       "\n",
       "   Euphorbia.1  Calliandra  Solanum.1  SPA1  SPA2  Lotus  Bidens.leptocephala  \\\n",
       "0          0.0         0.0        0.0   0.0   0.0    0.0                  0.0   \n",
       "1          NaN         NaN        NaN   NaN   NaN    NaN                  NaN   \n",
       "2          NaN         NaN        NaN   NaN   NaN    NaN                  NaN   \n",
       "3          NaN         NaN        NaN   NaN   NaN    NaN                  NaN   \n",
       "4          NaN         NaN        NaN   NaN   NaN    NaN                  NaN   \n",
       "\n",
       "   SPA5  SPA6  Tephrosia  Asteraceae.Uropappus lindleyi  SPA9  SPA10  \\\n",
       "0   0.0   0.0        0.0                            0.0   0.0    0.0   \n",
       "1   NaN   NaN        NaN                            NaN   NaN    NaN   \n",
       "2   NaN   NaN        NaN                            NaN   NaN    NaN   \n",
       "3   NaN   NaN        NaN                            NaN   NaN    NaN   \n",
       "4   NaN   NaN        NaN                            NaN   NaN    NaN   \n",
       "\n",
       "   Ziziphus.obtisufolia  Aristida  Diodia.teres  Bothriochloa  Pinus.dulis  \\\n",
       "0                   0.0       0.0           0.0           0.0          0.0   \n",
       "1                   NaN       NaN           NaN           NaN          NaN   \n",
       "2                   NaN       NaN           NaN           NaN          NaN   \n",
       "3                   NaN       NaN           NaN           NaN          NaN   \n",
       "4                   NaN       NaN           NaN           NaN          NaN   \n",
       "\n",
       "   Paspalum.distichum  SPA17  SPA18  SPA19  Euphorbia.exstipulata  SPA21  \\\n",
       "0                 0.0    0.0    0.0    0.0                    0.0    0.0   \n",
       "1                 NaN    NaN    NaN    NaN                    NaN    NaN   \n",
       "2                 NaN    NaN    NaN    NaN                    NaN    NaN   \n",
       "3                 NaN    NaN    NaN    NaN                    NaN    NaN   \n",
       "4                 NaN    NaN    NaN    NaN                    NaN    NaN   \n",
       "\n",
       "   Asteracea  SPA23  SPA24  Chilopsis.linearis  Sorghum.halepense  Amaranthus  \\\n",
       "0        0.0    0.0    0.0                 0.0                0.0         0.0   \n",
       "1        NaN    NaN    NaN                 NaN                NaN         NaN   \n",
       "2        NaN    NaN    NaN                 NaN                NaN         NaN   \n",
       "3        NaN    NaN    NaN                 NaN                NaN         NaN   \n",
       "4        NaN    NaN    NaN                 NaN                NaN         NaN   \n",
       "\n",
       "   Setaria nigricans  SPA29  SPA30  SPA31  SPA32  SPA33  SPA34  SPA35  SPA36  \\\n",
       "0                0.0    0.0    0.0    0.0    0.0    0.0    0.0    0.0    0.0   \n",
       "1                NaN    NaN    NaN    NaN    NaN    NaN    NaN    NaN    NaN   \n",
       "2                NaN    NaN    NaN    NaN    NaN    NaN    NaN    NaN    NaN   \n",
       "3                NaN    NaN    NaN    NaN    NaN    NaN    NaN    NaN    NaN   \n",
       "4                NaN    NaN    NaN    NaN    NaN    NaN    NaN    NaN    NaN   \n",
       "\n",
       "   SPA37  SPA38  SPA39  SPA40  Agave.or.Yucca  SPA42  SPA43  SPA44  Sida  \\\n",
       "0    0.0    0.0    0.0    0.0             0.0    0.0    0.0    0.0   0.0   \n",
       "1    NaN    NaN    NaN    NaN             NaN    NaN    NaN    NaN   NaN   \n",
       "2    NaN    NaN    NaN    NaN             NaN    NaN    NaN    NaN   NaN   \n",
       "3    NaN    NaN    NaN    NaN             NaN    NaN    NaN    NaN   NaN   \n",
       "4    NaN    NaN    NaN    NaN             NaN    NaN    NaN    NaN   NaN   \n",
       "\n",
       "   SPA46  SPA47  Tragia  Lupinus.2  SPA50  SPA51  SPA52  SPA53  SPA54  SPA55  \\\n",
       "0    0.0    0.0     0.0        0.0    0.0    0.0    0.0    0.0    0.0    0.0   \n",
       "1    NaN    NaN     NaN        NaN    NaN    NaN    NaN    NaN    NaN    NaN   \n",
       "2    NaN    NaN     NaN        NaN    NaN    NaN    NaN    NaN    NaN    NaN   \n",
       "3    NaN    NaN     NaN        NaN    NaN    NaN    NaN    NaN    NaN    NaN   \n",
       "4    NaN    NaN     NaN        NaN    NaN    NaN    NaN    NaN    NaN    NaN   \n",
       "\n",
       "   Amaranthus.1  Desmodium.1  Bothriochloa.1  Euphorbia.2  SPA60  SPA61  \\\n",
       "0           0.0          0.0             0.0          0.0    0.0    0.0   \n",
       "1           NaN          NaN             NaN          NaN    NaN    NaN   \n",
       "2           NaN          NaN             NaN          NaN    NaN    NaN   \n",
       "3           NaN          NaN             NaN          NaN    NaN    NaN   \n",
       "4           NaN          NaN             NaN          NaN    NaN    NaN   \n",
       "\n",
       "   SPA62  Phaseolus.1  SPA64  SPA65  Arachnida  Juniperus prob. deppeana  \\\n",
       "0    0.0          0.0    0.0    0.0        0.0                       0.0   \n",
       "1    NaN          NaN    NaN    NaN        NaN                       NaN   \n",
       "2    NaN          NaN    NaN    NaN        NaN                       NaN   \n",
       "3    NaN          NaN    NaN    NaN        NaN                       NaN   \n",
       "4    NaN          NaN    NaN    NaN        NaN                       NaN   \n",
       "\n",
       "     time  covey  dist camino  ppanual17   tmedia17  altitud        lat  \\\n",
       "0  1500.0   10.0        99.93      376.0  12.379167   1591.0  31.391325   \n",
       "1  1600.0    NaN       111.82        NaN  14.354167   2023.0  31.479233   \n",
       "2     NaN    NaN       171.92        NaN  15.537500      NaN  31.484718   \n",
       "3     NaN    NaN       272.86        NaN        NaN      NaN  31.513011   \n",
       "4     NaN    NaN       287.93        NaN        NaN      NaN  33.207120   \n",
       "\n",
       "          lon  hcrop     hland  \n",
       "0 -110.602862    0.0  0.222691  \n",
       "1 -110.594791    NaN  0.272215  \n",
       "2 -110.464206    NaN  1.395863  \n",
       "3 -108.940734    NaN  1.434210  \n",
       "4 -107.723281    NaN  1.481312  "
      ]
     },
     "execution_count": 16,
     "metadata": {},
     "output_type": "execute_result"
    }
   ],
   "source": [
    "pd.set_option('display.max_columns', None) # Para mostrar todas las columnas\n",
    "numeric_columns = df.select_dtypes(include=[np.number]).columns\n",
    "mode_df = df[numeric_columns].mode()\n",
    "mode_df\n"
   ]
  },
  {
   "cell_type": "markdown",
   "metadata": {},
   "source": [
    "### EDA Automatizado: Generación y visualización de reporte usando YData Profiling.\n",
    "Se utiliza la herramienta de YData Profiling (antes Pandas Profiling) para ver rápidamente un EDA básico de los datos."
   ]
  },
  {
   "cell_type": "code",
   "execution_count": 5,
   "metadata": {},
   "outputs": [],
   "source": [
    "# Se crea el reporte\n",
    "profile = ProfileReport(df, title=\"EDA básico de los datos de la dieta de la codorniz moctezuma\")\n",
    "\n",
    "# Se visualiza el reporte\n",
    "#profile.to_notebook_iframe()\n",
    "\n",
    "# Se guarda el reporte en archivo HTML\n",
    "profile.to_file(\"reporte.html\")"
   ]
  },
  {
   "cell_type": "code",
   "execution_count": 5,
   "metadata": {},
   "outputs": [
    {
     "data": {
      "application/vnd.plotly.v1+json": {
       "config": {
        "plotlyServerURL": "https://plot.ly"
       },
       "data": [
        {
         "alignmentgroup": "True",
         "boxpoints": "all",
         "hovertemplate": "sexo=Female<br>edad=%{x}<br>peso total=%{y}<extra></extra>",
         "legendgroup": "Female",
         "marker": {
          "color": "#636efa"
         },
         "name": "Female",
         "notched": false,
         "offsetgroup": "Female",
         "orientation": "v",
         "showlegend": true,
         "type": "box",
         "x": [
          "J",
          "A",
          "J",
          "J",
          "J",
          "J",
          null,
          null,
          null,
          "J",
          "J",
          null,
          null,
          "J",
          null,
          "A",
          null,
          null,
          null,
          "J",
          "A",
          null,
          "J",
          "A",
          null,
          null,
          null,
          null,
          "J",
          "A",
          "J",
          "J",
          "J",
          "J",
          "J",
          "J",
          "A",
          "J",
          "A",
          "J",
          "A",
          "A",
          "A",
          "J",
          "J",
          null,
          null,
          "J",
          null,
          "A",
          null,
          "J",
          "J",
          "A",
          "J",
          "J",
          "J",
          "J",
          "J",
          "A",
          "J",
          "J",
          "J",
          "J",
          "J",
          "J",
          "J",
          "J",
          "A",
          "J",
          "J",
          "J",
          "J",
          "J",
          "A",
          "J",
          "A",
          "A",
          "J",
          "J",
          "A",
          "A",
          "J",
          "J",
          "J",
          "J",
          "A",
          "A",
          "A",
          "J",
          "A",
          "J",
          "A",
          "A",
          "A",
          "J",
          "J",
          "J",
          "J",
          "J",
          "A",
          "J",
          "J",
          "J"
         ],
         "x0": " ",
         "xaxis": "x",
         "y": [
          9.7584,
          5.4562,
          4.4976,
          1.9804,
          0.8497,
          1.4469,
          3.8346,
          1.7639,
          3.1238,
          3.7792,
          3.87369,
          2.9144,
          2.6018,
          1.7465,
          3.642,
          1.0585,
          4.4281,
          1.2121,
          5.466,
          2.1907,
          3.31671,
          0.778,
          0.8625,
          1.3401,
          0.452,
          0.7365,
          0.6414,
          0,
          0.0231,
          4.4758,
          0.0347,
          0,
          2.4767,
          3.3761,
          2.4006,
          4.0792,
          2.9569,
          0.6404,
          2.1708,
          0.6212,
          0.5485,
          0.3335,
          1.2828,
          0,
          2.4759,
          0.7165,
          6.5043,
          2.2263,
          4.4749,
          2.0097,
          1.0018,
          1.776,
          0.6811,
          2.0469,
          1.3453,
          0.2408,
          0.1441,
          1.3789,
          0.3116,
          0.4589,
          0.8383,
          1.1194,
          2.2642,
          5.1753,
          0,
          3.14619,
          1.0891,
          3.5366,
          0.4775,
          0.7392,
          2.5163,
          2.49009,
          2.44859,
          0.09329,
          4.9347,
          3.4158,
          4.4623,
          0.2927,
          1.5109,
          2.5646,
          2.0904,
          0.4312,
          2.1685,
          0.0375,
          1.3462,
          0.0716,
          1.0829,
          2.0185,
          0,
          0.0072,
          0.0131,
          2.0458,
          1.5802,
          1.3161,
          0.8306,
          5.7312,
          1.537,
          0.5029,
          1.7113,
          0.6328,
          0.3501,
          0.1977,
          2.6084,
          5.975
         ],
         "y0": " ",
         "yaxis": "y"
        },
        {
         "alignmentgroup": "True",
         "boxpoints": "all",
         "hovertemplate": "sexo=Male<br>edad=%{x}<br>peso total=%{y}<extra></extra>",
         "legendgroup": "Male",
         "marker": {
          "color": "#EF553B"
         },
         "name": "Male",
         "notched": false,
         "offsetgroup": "Male",
         "orientation": "v",
         "showlegend": true,
         "type": "box",
         "x": [
          "J",
          "J",
          "J",
          "J",
          "J",
          null,
          "J",
          "J",
          "J",
          "A",
          "J",
          null,
          "A",
          "J",
          null,
          null,
          "A",
          "J",
          null,
          null,
          null,
          null,
          "J",
          "J",
          "J",
          "J",
          null,
          null,
          "J",
          null,
          "J",
          "J",
          null,
          null,
          "J",
          "J",
          "A",
          "J",
          null,
          "J",
          "A",
          "J",
          null,
          "J",
          "J",
          "A",
          "J",
          null,
          null,
          "J",
          "J",
          null,
          null,
          null,
          "J",
          "J",
          "J",
          "A",
          "A",
          "A",
          "J",
          "J",
          "A",
          "J",
          "J",
          "A",
          "J",
          "J",
          "J",
          "J",
          "J",
          "J",
          "J",
          "J",
          "J",
          "J",
          "J",
          "J",
          "J",
          "J",
          "A",
          "J",
          "J",
          "J",
          "A",
          "A",
          "J",
          "J",
          "J",
          "A",
          "A",
          null,
          null,
          null,
          null,
          "A",
          null,
          null,
          null,
          "A",
          "J",
          "J",
          "J",
          "J",
          "J",
          "J",
          "J",
          "J",
          "J",
          "J",
          "J",
          "J",
          "A",
          "A",
          "J",
          "A",
          "J",
          "A",
          "J",
          "J",
          "A",
          "A",
          "J",
          "J",
          "J",
          "A",
          "J",
          "J",
          "J",
          "A",
          "A",
          "A",
          "A",
          "A",
          "J",
          "J",
          "A",
          "J",
          "J",
          "A",
          "J",
          "A",
          "J",
          "J",
          "A",
          "J",
          "J",
          "J",
          "J",
          "A",
          "J",
          "A",
          "J",
          "J",
          "J",
          "J",
          "J",
          "J",
          "A",
          "J",
          "A",
          "J",
          "J",
          "J",
          "J",
          "J",
          "J",
          "J",
          "J",
          "A",
          "A"
         ],
         "x0": " ",
         "xaxis": "x",
         "y": [
          3.9632,
          5.463,
          2.47819,
          0.5726,
          3.4975,
          1.6274,
          0.277,
          0.6935,
          2.0724,
          1.1172,
          3.0839,
          5.0298,
          2.9797,
          0.5128,
          1.9846,
          2.1677,
          0.4268,
          1.1292,
          4.6132,
          3.7537,
          3.6701,
          4.5531,
          4.3793,
          4.5002,
          3.57851,
          5.1593,
          2.6344,
          6.4436,
          3.9955,
          3.0502,
          2.4675,
          2.1698,
          2.0939,
          1.4989,
          1.815,
          3.0461,
          1.5812,
          1.3044,
          1.7082,
          1.4358,
          3.4511,
          1.2086,
          3.4198,
          1.48979,
          2.5986,
          5.0299,
          2.1203,
          1.9898,
          4.8636,
          0.7155,
          1.6413,
          2.1106,
          4.9483,
          5.8639,
          1.8369,
          2.69,
          0.1467,
          0.5609,
          2.6786,
          5.1539,
          0.50259,
          1.3657,
          6.3018,
          5.76069,
          0.027,
          0,
          0.0705,
          1.2642,
          0.1923,
          3.9676,
          3.9705,
          0.5567,
          2.6547,
          1.5096,
          3.2824,
          0.1466,
          1.348,
          0.5417,
          0.149,
          0.0534,
          1.2528,
          2.5376,
          2.8309,
          2.0328,
          0.7033,
          0.0734,
          0.8579,
          0.9873,
          0.8214,
          2.1978,
          2.0307,
          0.1431,
          0.878,
          1.0221,
          3.2502,
          2.5398,
          1.2307,
          2.0201,
          2.4256,
          3.3387,
          1.7874,
          1.66329,
          2.6223,
          0,
          0.0931,
          0.4628,
          0.4701,
          0.6988,
          0.2014,
          0,
          1.2356,
          5.6758,
          2.1954,
          0,
          1.33299,
          1.0033,
          2.5207,
          4.62849,
          1.85459,
          0.7054,
          0.9422,
          2.999,
          4.5783,
          3.44129,
          4.97309,
          1.53029,
          0.8293,
          3.2908,
          2.60119,
          0,
          0,
          0.3094,
          3.0033,
          2.5728,
          0.3853,
          0.58439,
          6.7389,
          3.98529,
          2.27289,
          3.8149,
          1.3913,
          2.7436,
          1.5907,
          2.3225,
          1,
          0.3551,
          2.3693,
          6.9003,
          6.0859,
          2.8601,
          4.4719,
          0.9161,
          3.5445,
          1.3487,
          1.5321,
          0.0092,
          3.1919,
          3.4345,
          2.41219,
          3.279,
          0.2035,
          2.7868,
          1.9138,
          0.7094,
          0.0409,
          0.9168,
          2.1258,
          7.4866,
          6.6341,
          2.592,
          7.3265
         ],
         "y0": " ",
         "yaxis": "y"
        },
        {
         "alignmentgroup": "True",
         "boxpoints": "all",
         "hovertemplate": "sexo=male<br>edad=%{x}<br>peso total=%{y}<extra></extra>",
         "legendgroup": "male",
         "marker": {
          "color": "#ab63fa"
         },
         "name": "male",
         "notched": false,
         "offsetgroup": "male",
         "orientation": "v",
         "showlegend": true,
         "type": "box",
         "x": [
          "J"
         ],
         "x0": " ",
         "xaxis": "x",
         "y": [
          0.6617
         ],
         "y0": " ",
         "yaxis": "y"
        },
        {
         "alignmentgroup": "True",
         "boxpoints": "all",
         "hovertemplate": "sexo=Male <br>edad=%{x}<br>peso total=%{y}<extra></extra>",
         "legendgroup": "Male ",
         "marker": {
          "color": "#FFA15A"
         },
         "name": "Male ",
         "notched": false,
         "offsetgroup": "Male ",
         "orientation": "v",
         "showlegend": true,
         "type": "box",
         "x": [
          "J"
         ],
         "x0": " ",
         "xaxis": "x",
         "y": [
          2.2666
         ],
         "y0": " ",
         "yaxis": "y"
        }
       ],
       "layout": {
        "boxmode": "group",
        "legend": {
         "title": {
          "text": "sexo"
         },
         "tracegroupgap": 0
        },
        "template": {
         "data": {
          "bar": [
           {
            "error_x": {
             "color": "#2a3f5f"
            },
            "error_y": {
             "color": "#2a3f5f"
            },
            "marker": {
             "line": {
              "color": "#E5ECF6",
              "width": 0.5
             },
             "pattern": {
              "fillmode": "overlay",
              "size": 10,
              "solidity": 0.2
             }
            },
            "type": "bar"
           }
          ],
          "barpolar": [
           {
            "marker": {
             "line": {
              "color": "#E5ECF6",
              "width": 0.5
             },
             "pattern": {
              "fillmode": "overlay",
              "size": 10,
              "solidity": 0.2
             }
            },
            "type": "barpolar"
           }
          ],
          "carpet": [
           {
            "aaxis": {
             "endlinecolor": "#2a3f5f",
             "gridcolor": "white",
             "linecolor": "white",
             "minorgridcolor": "white",
             "startlinecolor": "#2a3f5f"
            },
            "baxis": {
             "endlinecolor": "#2a3f5f",
             "gridcolor": "white",
             "linecolor": "white",
             "minorgridcolor": "white",
             "startlinecolor": "#2a3f5f"
            },
            "type": "carpet"
           }
          ],
          "choropleth": [
           {
            "colorbar": {
             "outlinewidth": 0,
             "ticks": ""
            },
            "type": "choropleth"
           }
          ],
          "contour": [
           {
            "colorbar": {
             "outlinewidth": 0,
             "ticks": ""
            },
            "colorscale": [
             [
              0,
              "#0d0887"
             ],
             [
              0.1111111111111111,
              "#46039f"
             ],
             [
              0.2222222222222222,
              "#7201a8"
             ],
             [
              0.3333333333333333,
              "#9c179e"
             ],
             [
              0.4444444444444444,
              "#bd3786"
             ],
             [
              0.5555555555555556,
              "#d8576b"
             ],
             [
              0.6666666666666666,
              "#ed7953"
             ],
             [
              0.7777777777777778,
              "#fb9f3a"
             ],
             [
              0.8888888888888888,
              "#fdca26"
             ],
             [
              1,
              "#f0f921"
             ]
            ],
            "type": "contour"
           }
          ],
          "contourcarpet": [
           {
            "colorbar": {
             "outlinewidth": 0,
             "ticks": ""
            },
            "type": "contourcarpet"
           }
          ],
          "heatmap": [
           {
            "colorbar": {
             "outlinewidth": 0,
             "ticks": ""
            },
            "colorscale": [
             [
              0,
              "#0d0887"
             ],
             [
              0.1111111111111111,
              "#46039f"
             ],
             [
              0.2222222222222222,
              "#7201a8"
             ],
             [
              0.3333333333333333,
              "#9c179e"
             ],
             [
              0.4444444444444444,
              "#bd3786"
             ],
             [
              0.5555555555555556,
              "#d8576b"
             ],
             [
              0.6666666666666666,
              "#ed7953"
             ],
             [
              0.7777777777777778,
              "#fb9f3a"
             ],
             [
              0.8888888888888888,
              "#fdca26"
             ],
             [
              1,
              "#f0f921"
             ]
            ],
            "type": "heatmap"
           }
          ],
          "heatmapgl": [
           {
            "colorbar": {
             "outlinewidth": 0,
             "ticks": ""
            },
            "colorscale": [
             [
              0,
              "#0d0887"
             ],
             [
              0.1111111111111111,
              "#46039f"
             ],
             [
              0.2222222222222222,
              "#7201a8"
             ],
             [
              0.3333333333333333,
              "#9c179e"
             ],
             [
              0.4444444444444444,
              "#bd3786"
             ],
             [
              0.5555555555555556,
              "#d8576b"
             ],
             [
              0.6666666666666666,
              "#ed7953"
             ],
             [
              0.7777777777777778,
              "#fb9f3a"
             ],
             [
              0.8888888888888888,
              "#fdca26"
             ],
             [
              1,
              "#f0f921"
             ]
            ],
            "type": "heatmapgl"
           }
          ],
          "histogram": [
           {
            "marker": {
             "pattern": {
              "fillmode": "overlay",
              "size": 10,
              "solidity": 0.2
             }
            },
            "type": "histogram"
           }
          ],
          "histogram2d": [
           {
            "colorbar": {
             "outlinewidth": 0,
             "ticks": ""
            },
            "colorscale": [
             [
              0,
              "#0d0887"
             ],
             [
              0.1111111111111111,
              "#46039f"
             ],
             [
              0.2222222222222222,
              "#7201a8"
             ],
             [
              0.3333333333333333,
              "#9c179e"
             ],
             [
              0.4444444444444444,
              "#bd3786"
             ],
             [
              0.5555555555555556,
              "#d8576b"
             ],
             [
              0.6666666666666666,
              "#ed7953"
             ],
             [
              0.7777777777777778,
              "#fb9f3a"
             ],
             [
              0.8888888888888888,
              "#fdca26"
             ],
             [
              1,
              "#f0f921"
             ]
            ],
            "type": "histogram2d"
           }
          ],
          "histogram2dcontour": [
           {
            "colorbar": {
             "outlinewidth": 0,
             "ticks": ""
            },
            "colorscale": [
             [
              0,
              "#0d0887"
             ],
             [
              0.1111111111111111,
              "#46039f"
             ],
             [
              0.2222222222222222,
              "#7201a8"
             ],
             [
              0.3333333333333333,
              "#9c179e"
             ],
             [
              0.4444444444444444,
              "#bd3786"
             ],
             [
              0.5555555555555556,
              "#d8576b"
             ],
             [
              0.6666666666666666,
              "#ed7953"
             ],
             [
              0.7777777777777778,
              "#fb9f3a"
             ],
             [
              0.8888888888888888,
              "#fdca26"
             ],
             [
              1,
              "#f0f921"
             ]
            ],
            "type": "histogram2dcontour"
           }
          ],
          "mesh3d": [
           {
            "colorbar": {
             "outlinewidth": 0,
             "ticks": ""
            },
            "type": "mesh3d"
           }
          ],
          "parcoords": [
           {
            "line": {
             "colorbar": {
              "outlinewidth": 0,
              "ticks": ""
             }
            },
            "type": "parcoords"
           }
          ],
          "pie": [
           {
            "automargin": true,
            "type": "pie"
           }
          ],
          "scatter": [
           {
            "fillpattern": {
             "fillmode": "overlay",
             "size": 10,
             "solidity": 0.2
            },
            "type": "scatter"
           }
          ],
          "scatter3d": [
           {
            "line": {
             "colorbar": {
              "outlinewidth": 0,
              "ticks": ""
             }
            },
            "marker": {
             "colorbar": {
              "outlinewidth": 0,
              "ticks": ""
             }
            },
            "type": "scatter3d"
           }
          ],
          "scattercarpet": [
           {
            "marker": {
             "colorbar": {
              "outlinewidth": 0,
              "ticks": ""
             }
            },
            "type": "scattercarpet"
           }
          ],
          "scattergeo": [
           {
            "marker": {
             "colorbar": {
              "outlinewidth": 0,
              "ticks": ""
             }
            },
            "type": "scattergeo"
           }
          ],
          "scattergl": [
           {
            "marker": {
             "colorbar": {
              "outlinewidth": 0,
              "ticks": ""
             }
            },
            "type": "scattergl"
           }
          ],
          "scattermapbox": [
           {
            "marker": {
             "colorbar": {
              "outlinewidth": 0,
              "ticks": ""
             }
            },
            "type": "scattermapbox"
           }
          ],
          "scatterpolar": [
           {
            "marker": {
             "colorbar": {
              "outlinewidth": 0,
              "ticks": ""
             }
            },
            "type": "scatterpolar"
           }
          ],
          "scatterpolargl": [
           {
            "marker": {
             "colorbar": {
              "outlinewidth": 0,
              "ticks": ""
             }
            },
            "type": "scatterpolargl"
           }
          ],
          "scatterternary": [
           {
            "marker": {
             "colorbar": {
              "outlinewidth": 0,
              "ticks": ""
             }
            },
            "type": "scatterternary"
           }
          ],
          "surface": [
           {
            "colorbar": {
             "outlinewidth": 0,
             "ticks": ""
            },
            "colorscale": [
             [
              0,
              "#0d0887"
             ],
             [
              0.1111111111111111,
              "#46039f"
             ],
             [
              0.2222222222222222,
              "#7201a8"
             ],
             [
              0.3333333333333333,
              "#9c179e"
             ],
             [
              0.4444444444444444,
              "#bd3786"
             ],
             [
              0.5555555555555556,
              "#d8576b"
             ],
             [
              0.6666666666666666,
              "#ed7953"
             ],
             [
              0.7777777777777778,
              "#fb9f3a"
             ],
             [
              0.8888888888888888,
              "#fdca26"
             ],
             [
              1,
              "#f0f921"
             ]
            ],
            "type": "surface"
           }
          ],
          "table": [
           {
            "cells": {
             "fill": {
              "color": "#EBF0F8"
             },
             "line": {
              "color": "white"
             }
            },
            "header": {
             "fill": {
              "color": "#C8D4E3"
             },
             "line": {
              "color": "white"
             }
            },
            "type": "table"
           }
          ]
         },
         "layout": {
          "annotationdefaults": {
           "arrowcolor": "#2a3f5f",
           "arrowhead": 0,
           "arrowwidth": 1
          },
          "autotypenumbers": "strict",
          "coloraxis": {
           "colorbar": {
            "outlinewidth": 0,
            "ticks": ""
           }
          },
          "colorscale": {
           "diverging": [
            [
             0,
             "#8e0152"
            ],
            [
             0.1,
             "#c51b7d"
            ],
            [
             0.2,
             "#de77ae"
            ],
            [
             0.3,
             "#f1b6da"
            ],
            [
             0.4,
             "#fde0ef"
            ],
            [
             0.5,
             "#f7f7f7"
            ],
            [
             0.6,
             "#e6f5d0"
            ],
            [
             0.7,
             "#b8e186"
            ],
            [
             0.8,
             "#7fbc41"
            ],
            [
             0.9,
             "#4d9221"
            ],
            [
             1,
             "#276419"
            ]
           ],
           "sequential": [
            [
             0,
             "#0d0887"
            ],
            [
             0.1111111111111111,
             "#46039f"
            ],
            [
             0.2222222222222222,
             "#7201a8"
            ],
            [
             0.3333333333333333,
             "#9c179e"
            ],
            [
             0.4444444444444444,
             "#bd3786"
            ],
            [
             0.5555555555555556,
             "#d8576b"
            ],
            [
             0.6666666666666666,
             "#ed7953"
            ],
            [
             0.7777777777777778,
             "#fb9f3a"
            ],
            [
             0.8888888888888888,
             "#fdca26"
            ],
            [
             1,
             "#f0f921"
            ]
           ],
           "sequentialminus": [
            [
             0,
             "#0d0887"
            ],
            [
             0.1111111111111111,
             "#46039f"
            ],
            [
             0.2222222222222222,
             "#7201a8"
            ],
            [
             0.3333333333333333,
             "#9c179e"
            ],
            [
             0.4444444444444444,
             "#bd3786"
            ],
            [
             0.5555555555555556,
             "#d8576b"
            ],
            [
             0.6666666666666666,
             "#ed7953"
            ],
            [
             0.7777777777777778,
             "#fb9f3a"
            ],
            [
             0.8888888888888888,
             "#fdca26"
            ],
            [
             1,
             "#f0f921"
            ]
           ]
          },
          "colorway": [
           "#636efa",
           "#EF553B",
           "#00cc96",
           "#ab63fa",
           "#FFA15A",
           "#19d3f3",
           "#FF6692",
           "#B6E880",
           "#FF97FF",
           "#FECB52"
          ],
          "font": {
           "color": "#2a3f5f"
          },
          "geo": {
           "bgcolor": "white",
           "lakecolor": "white",
           "landcolor": "#E5ECF6",
           "showlakes": true,
           "showland": true,
           "subunitcolor": "white"
          },
          "hoverlabel": {
           "align": "left"
          },
          "hovermode": "closest",
          "mapbox": {
           "style": "light"
          },
          "paper_bgcolor": "white",
          "plot_bgcolor": "#E5ECF6",
          "polar": {
           "angularaxis": {
            "gridcolor": "white",
            "linecolor": "white",
            "ticks": ""
           },
           "bgcolor": "#E5ECF6",
           "radialaxis": {
            "gridcolor": "white",
            "linecolor": "white",
            "ticks": ""
           }
          },
          "scene": {
           "xaxis": {
            "backgroundcolor": "#E5ECF6",
            "gridcolor": "white",
            "gridwidth": 2,
            "linecolor": "white",
            "showbackground": true,
            "ticks": "",
            "zerolinecolor": "white"
           },
           "yaxis": {
            "backgroundcolor": "#E5ECF6",
            "gridcolor": "white",
            "gridwidth": 2,
            "linecolor": "white",
            "showbackground": true,
            "ticks": "",
            "zerolinecolor": "white"
           },
           "zaxis": {
            "backgroundcolor": "#E5ECF6",
            "gridcolor": "white",
            "gridwidth": 2,
            "linecolor": "white",
            "showbackground": true,
            "ticks": "",
            "zerolinecolor": "white"
           }
          },
          "shapedefaults": {
           "line": {
            "color": "#2a3f5f"
           }
          },
          "ternary": {
           "aaxis": {
            "gridcolor": "white",
            "linecolor": "white",
            "ticks": ""
           },
           "baxis": {
            "gridcolor": "white",
            "linecolor": "white",
            "ticks": ""
           },
           "bgcolor": "#E5ECF6",
           "caxis": {
            "gridcolor": "white",
            "linecolor": "white",
            "ticks": ""
           }
          },
          "title": {
           "x": 0.05
          },
          "xaxis": {
           "automargin": true,
           "gridcolor": "white",
           "linecolor": "white",
           "ticks": "",
           "title": {
            "standoff": 15
           },
           "zerolinecolor": "white",
           "zerolinewidth": 2
          },
          "yaxis": {
           "automargin": true,
           "gridcolor": "white",
           "linecolor": "white",
           "ticks": "",
           "title": {
            "standoff": 15
           },
           "zerolinecolor": "white",
           "zerolinewidth": 2
          }
         }
        },
        "title": {
         "text": "Peso Total del Buche según Edad y Sexo"
        },
        "xaxis": {
         "anchor": "y",
         "domain": [
          0,
          1
         ],
         "title": {
          "text": "edad"
         }
        },
        "yaxis": {
         "anchor": "x",
         "domain": [
          0,
          1
         ],
         "title": {
          "text": "peso total"
         }
        }
       }
      }
     },
     "metadata": {},
     "output_type": "display_data"
    }
   ],
   "source": [
    "# Boxplot de Peso Total del Buche según la Edad y el Sexo\n",
    "fig1 = px.box(df, x='edad', y='peso total', color='sexo', points='all',\n",
    "              title='Peso Total del Buche según Edad y Sexo')\n",
    "fig1.show()"
   ]
  },
  {
   "cell_type": "code",
   "execution_count": 6,
   "metadata": {},
   "outputs": [
    {
     "data": {
      "application/vnd.plotly.v1+json": {
       "config": {
        "plotlyServerURL": "https://plot.ly"
       },
       "data": [
        {
         "hovertemplate": "edad=J<br>tmedia17=%{x}<br>altitud=%{y}<br>gap=%{z}<extra></extra>",
         "legendgroup": "J",
         "marker": {
          "color": "#636efa",
          "symbol": "circle"
         },
         "mode": "markers",
         "name": "J",
         "scene": "scene",
         "showlegend": true,
         "type": "scatter3d",
         "x": [
          7.054166541,
          7.054166541,
          10.97916659,
          16.13333316,
          17.03750003,
          9.98749993,
          15.67500008,
          15.67500008,
          9.98749993,
          16.13333316,
          15.7916667,
          16.04583315,
          14.42083335,
          17,
          15.7916667,
          15.67500008,
          17.28750016,
          14.41666657,
          15.78750026,
          11.68333335,
          15.37083332,
          null,
          15.57916671,
          15.37083332,
          12.72916666,
          15.37083332,
          15.68750011,
          15.78750026,
          12.1416666,
          null,
          15.77916652,
          15.68750011,
          12.1416666,
          15.71666638,
          12.1416666,
          15.77916652,
          15.07500002,
          15.47500012,
          12.72916666,
          12.72916666,
          12.89583324,
          15.72083351,
          14.35416671,
          null,
          15.5375,
          15.59583343,
          15.59583343,
          15.71666638,
          15.72083351,
          15.67500008,
          15.92083329,
          15.92083329,
          15.56250009,
          15.56250009,
          15.56250009,
          15.56250009,
          15.41249979,
          15.41249979,
          15.47500012,
          15.37083332,
          15.5375,
          15.5375,
          15.5375,
          15.92083329,
          16.03749978,
          16.03749978,
          16.03749978,
          17.31250004,
          17.31250004,
          15.20833329,
          15.20833329,
          15.07500002,
          16.97499997,
          16.97499997,
          15.41249979,
          14.4125,
          15.43333321,
          null,
          11.2333334,
          14.45416652,
          14.45416652,
          14.45416652,
          10.58333338,
          10.97916659,
          10.97916659,
          10.97500005,
          10.97500005,
          11.23333326,
          10.58333338,
          11.34166674,
          11.34166674,
          14.37499982,
          13.78750004,
          13.78750004,
          14.05833329,
          12.72916666,
          11.05833333,
          12.72916666,
          10.58333338,
          14.22083333,
          10.58333338,
          16.65416667,
          11.11250002,
          11.11250002,
          11.11250002,
          11.18750006,
          11.07083346,
          14.39166665,
          11.07083346,
          12.3791667,
          12.3791667,
          12.3791667,
          12.3791667,
          12.51249996,
          14.35416671,
          14.63749994,
          14.63749994,
          14.63749994,
          12.51249996,
          12.51249996,
          14.02083332,
          14.02083332,
          14.35416671,
          9.262499967,
          11.07083346,
          12.3791667,
          10.58333338,
          12.3791667,
          10.97500005,
          9.98749993,
          9.262499967,
          14.47500001,
          10.97916659,
          null,
          null,
          null,
          null,
          14.47916663,
          14.12499985,
          14.12499985,
          14.12499985,
          12.84999985,
          11.17499996,
          14.35416671,
          14.35416671,
          14.35416671,
          14.17916676,
          12.62916664,
          12.62916664,
          12.62916664,
          12.62916664,
          14.22083333,
          14.22083333,
          14.22500003,
          14.22500003,
          14.22500003,
          14.22500003,
          14.22500003,
          14.22500003,
          12.42083339,
          14.38333327,
          14.38333327,
          11.17499996,
          14.45833322,
          14.22499999
         ],
         "y": [
          2518,
          2518,
          1952,
          1507,
          1306,
          1993,
          1546,
          1546,
          1993,
          1507,
          1481,
          1408,
          1746,
          1226,
          1481,
          1546,
          1206,
          1777,
          1572,
          2134,
          1608,
          null,
          1542,
          1608,
          1901,
          1608,
          1597,
          1572,
          1817,
          null,
          1591,
          1597,
          1817,
          1530,
          1817,
          1591,
          1587,
          1578,
          1901,
          1901,
          1916,
          1510,
          1688,
          null,
          1567,
          1559,
          1559,
          1579,
          1510,
          1546,
          1578,
          1578,
          1616,
          1616,
          1616,
          1616,
          1655,
          1655,
          1578,
          1608,
          1558,
          1558,
          1558,
          1578,
          1528,
          1528,
          1528,
          1207,
          1207,
          1561,
          1561,
          1587,
          1290,
          1290,
          1655,
          1763,
          1662,
          null,
          1922,
          1514,
          1591,
          1591,
          2023,
          1985,
          1952,
          1951,
          1951,
          1921,
          2023,
          1885,
          1885,
          1665,
          1641,
          1641,
          1617,
          1901,
          1947,
          1889,
          2023,
          1694,
          2023,
          1947,
          1947,
          1947,
          1947,
          1952,
          2027,
          1658,
          2027,
          1828,
          1789,
          1789,
          1789,
          1915,
          1665,
          1625,
          1625,
          1625,
          1915,
          1789,
          1643,
          1643,
          1665,
          2066,
          2027,
          1828,
          2023,
          1828,
          1951,
          1993,
          2066,
          1665,
          1952,
          null,
          null,
          null,
          null,
          1696,
          1696,
          1696,
          1696,
          2011,
          2023,
          1694,
          1694,
          1694,
          1697,
          1963,
          1963,
          1963,
          1963,
          1694,
          1694,
          1658,
          1658,
          1658,
          1684,
          1684,
          1684,
          1794,
          1639,
          1639,
          2023,
          1543,
          1560
         ],
         "z": [
          "Rocky Mountain Ponderosa Pine Woodland",
          "Rocky Mountain Ponderosa Pine Woodland",
          "Colorado Plateau Pinyon-Juniper Woodland",
          "Apacherian-Chihuahuan Mesquite Upland Scrub",
          "Chihuahuan Creosotebush, Mixed Desert and Thorn Scrub",
          "Rocky Mountain Ponderosa Pine Woodland",
          "Chihuahuan Creosotebush, Mixed Desert and Thorn Scrub",
          "North American Warm Desert Wash",
          "Rocky Mountain Ponderosa Pine Woodland",
          "Apacherian-Chihuahuan Mesquite Upland Scrub",
          "Madrean Encinal",
          "Madrean Encinal",
          "Madrean Pinyon-Juniper Woodland",
          "Madrean Encinal",
          "Madrean Encinal",
          "North American Warm Desert Wash",
          "Madrean Encinal",
          "Madrean Pinyon-Juniper Woodland",
          "Apacherian-Chihuahuan Piedmont Semi-Desert Grassland and Steppe",
          "Rocky Mountain Gambel Oak-Mixed Montane Shrubland",
          "Mogollon Chaparral",
          null,
          "Apacherian-Chihuahuan Piedmont Semi-Desert Grassland and Steppe",
          "Mogollon Chaparral",
          "Madrean Pinyon-Juniper Woodland",
          "Mogollon Chaparral",
          "Apacherian-Chihuahuan Piedmont Semi-Desert Grassland and Steppe",
          "Apacherian-Chihuahuan Mesquite Upland Scrub",
          "Apacherian-Chihuahuan Piedmont Semi-Desert Grassland and Steppe",
          null,
          "Apacherian-Chihuahuan Piedmont Semi-Desert Grassland and Steppe",
          "Apacherian-Chihuahuan Piedmont Semi-Desert Grassland and Steppe",
          "Apacherian-Chihuahuan Piedmont Semi-Desert Grassland and Steppe",
          "Madrean Encinal",
          "Apacherian-Chihuahuan Piedmont Semi-Desert Grassland and Steppe",
          "Apacherian-Chihuahuan Piedmont Semi-Desert Grassland and Steppe",
          "Madrean Pinyon-Juniper Woodland",
          "Apacherian-Chihuahuan Piedmont Semi-Desert Grassland and Steppe",
          "Madrean Pinyon-Juniper Woodland",
          "Madrean Pinyon-Juniper Woodland",
          "Madrean Pinyon-Juniper Woodland",
          "Apacherian-Chihuahuan Mesquite Upland Scrub",
          "Apacherian-Chihuahuan Piedmont Semi-Desert Grassland and Steppe",
          null,
          "Apacherian-Chihuahuan Mesquite Upland Scrub",
          "Apacherian-Chihuahuan Mesquite Upland Scrub",
          "Apacherian-Chihuahuan Mesquite Upland Scrub",
          "Madrean Encinal",
          "Apacherian-Chihuahuan Mesquite Upland Scrub",
          "North American Warm Desert Wash",
          "Madrean Encinal",
          "Madrean Encinal",
          "Apacherian-Chihuahuan Piedmont Semi-Desert Grassland and Steppe",
          "Apacherian-Chihuahuan Piedmont Semi-Desert Grassland and Steppe",
          "Apacherian-Chihuahuan Piedmont Semi-Desert Grassland and Steppe",
          "Apacherian-Chihuahuan Piedmont Semi-Desert Grassland and Steppe",
          "Chihuahuan Creosotebush, Mixed Desert and Thorn Scrub",
          "Chihuahuan Creosotebush, Mixed Desert and Thorn Scrub",
          "Apacherian-Chihuahuan Piedmont Semi-Desert Grassland and Steppe",
          "Mogollon Chaparral",
          "Apacherian-Chihuahuan Mesquite Upland Scrub",
          "Apacherian-Chihuahuan Mesquite Upland Scrub",
          "Apacherian-Chihuahuan Mesquite Upland Scrub",
          "Apacherian-Chihuahuan Piedmont Semi-Desert Grassland and Steppe",
          "Madrean Encinal",
          "Madrean Encinal",
          "Chihuahuan Creosotebush, Mixed Desert and Thorn Scrub",
          "Madrean Encinal",
          "Madrean Encinal",
          "Apacherian-Chihuahuan Piedmont Semi-Desert Grassland and Steppe",
          "Apacherian-Chihuahuan Piedmont Semi-Desert Grassland and Steppe",
          "Madrean Encinal",
          "Chihuahuan Mixed Salt Desert Scrub",
          "Chihuahuan Mixed Salt Desert Scrub",
          "Chihuahuan Creosotebush, Mixed Desert and Thorn Scrub",
          "Madrean Encinal",
          "Mogollon Chaparral",
          null,
          "Colorado Plateau Pinyon-Juniper Woodland",
          "Apacherian-Chihuahuan Piedmont Semi-Desert Grassland and Steppe",
          "Apacherian-Chihuahuan Piedmont Semi-Desert Grassland and Steppe",
          "Apacherian-Chihuahuan Piedmont Semi-Desert Grassland and Steppe",
          "Colorado Plateau Pinyon-Juniper Woodland",
          "Colorado Plateau Pinyon-Juniper Woodland",
          "Madrean Pinyon-Juniper Woodland",
          "Colorado Plateau Pinyon-Juniper Woodland",
          "Colorado Plateau Pinyon-Juniper Woodland",
          "Colorado Plateau Pinyon-Juniper Woodland",
          "Colorado Plateau Pinyon-Juniper Woodland",
          "Madrean Pinyon-Juniper Woodland",
          "Madrean Pinyon-Juniper Woodland",
          "Apacherian-Chihuahuan Piedmont Semi-Desert Grassland and Steppe",
          "Madrean Pinyon-Juniper Woodland",
          "Madrean Pinyon-Juniper Woodland",
          "Apacherian-Chihuahuan Piedmont Semi-Desert Grassland and Steppe",
          "Madrean Pinyon-Juniper Woodland",
          "Colorado Plateau Pinyon-Juniper Woodland",
          "Madrean Pinyon-Juniper Woodland",
          "Rocky Mountain Ponderosa Pine Woodland",
          "Apacherian-Chihuahuan Piedmont Semi-Desert Grassland and Steppe",
          "Rocky Mountain Ponderosa Pine Woodland",
          "Colorado Plateau Pinyon-Juniper Woodland",
          "Colorado Plateau Pinyon-Juniper Woodland",
          "Colorado Plateau Pinyon-Juniper Woodland",
          "Colorado Plateau Pinyon-Juniper Woodland",
          "Colorado Plateau Pinyon-Juniper Woodland",
          "Rocky Mountain Ponderosa Pine Woodland",
          "Apacherian-Chihuahuan Piedmont Semi-Desert Grassland and Steppe",
          "Rocky Mountain Ponderosa Pine Woodland",
          "Madrean Pinyon-Juniper Woodland",
          "Madrean Pinyon-Juniper Woodland",
          "Madrean Pinyon-Juniper Woodland",
          "Madrean Pinyon-Juniper Woodland",
          "Madrean Pinyon-Juniper Woodland",
          "Madrean Juniper Savanna",
          "Apacherian-Chihuahuan Piedmont Semi-Desert Grassland and Steppe",
          "Apacherian-Chihuahuan Piedmont Semi-Desert Grassland and Steppe",
          "Apacherian-Chihuahuan Piedmont Semi-Desert Grassland and Steppe",
          "Madrean Pinyon-Juniper Woodland",
          "Madrean Pinyon-Juniper Woodland",
          "Apacherian-Chihuahuan Piedmont Semi-Desert Grassland and Steppe",
          "Apacherian-Chihuahuan Piedmont Semi-Desert Grassland and Steppe",
          "Madrean Juniper Savanna",
          "Colorado Plateau Pinyon-Juniper Woodland",
          "Rocky Mountain Ponderosa Pine Woodland",
          "Madrean Pinyon-Juniper Woodland",
          "Colorado Plateau Pinyon-Juniper Woodland",
          "Madrean Pinyon-Juniper Woodland",
          "Colorado Plateau Pinyon-Juniper Woodland",
          "Rocky Mountain Ponderosa Pine Woodland",
          "Colorado Plateau Pinyon-Juniper Woodland",
          "Apacherian-Chihuahuan Piedmont Semi-Desert Grassland and Steppe",
          "Madrean Pinyon-Juniper Woodland",
          null,
          null,
          null,
          null,
          "Madrean Pinyon-Juniper Woodland",
          "Madrean Pinyon-Juniper Woodland",
          "Madrean Pinyon-Juniper Woodland",
          "Madrean Pinyon-Juniper Woodland",
          "Southern Rocky Mountain Pinyon-Juniper Woodland",
          "Colorado Plateau Pinyon-Juniper Woodland",
          "Apacherian-Chihuahuan Piedmont Semi-Desert Grassland and Steppe",
          "Madrean Encinal",
          "Madrean Encinal",
          "Apacherian-Chihuahuan Piedmont Semi-Desert Grassland and Steppe",
          "Southern Rocky Mountain Pinyon-Juniper Woodland",
          "Southern Rocky Mountain Pinyon-Juniper Woodland",
          "Madrean Pinyon-Juniper Woodland",
          "Madrean Pinyon-Juniper Woodland",
          "Apacherian-Chihuahuan Piedmont Semi-Desert Grassland and Steppe",
          "Apacherian-Chihuahuan Piedmont Semi-Desert Grassland and Steppe",
          "Madrean Juniper Savanna",
          "Madrean Juniper Savanna",
          "Madrean Juniper Savanna",
          "Madrean Juniper Savanna",
          "Madrean Juniper Savanna",
          "Madrean Juniper Savanna",
          "Madrean Pinyon-Juniper Woodland",
          "Madrean Pinyon-Juniper Woodland",
          "Madrean Pinyon-Juniper Woodland",
          "North American Warm Desert Bedrock Cliff and Outcrop",
          "Apacherian-Chihuahuan Piedmont Semi-Desert Grassland and Steppe",
          "Madrean Pinyon-Juniper Woodland"
         ]
        },
        {
         "hovertemplate": "edad=A<br>tmedia17=%{x}<br>altitud=%{y}<br>gap=%{z}<extra></extra>",
         "legendgroup": "A",
         "marker": {
          "color": "#EF553B",
          "symbol": "circle"
         },
         "mode": "markers",
         "name": "A",
         "scene": "scene",
         "showlegend": true,
         "type": "scatter3d",
         "x": [
          15.95416654,
          14.30416672,
          17.11250008,
          15.5375,
          11.68333335,
          15.57916671,
          16.13333331,
          15.57916671,
          15.57916671,
          17.31250004,
          15.47500012,
          17.21666679,
          14.22499999,
          15.5375,
          15.5375,
          15.59583343,
          15.37083332,
          15.37083332,
          15.07500002,
          17.11250008,
          17.2958334,
          16.97499997,
          15.37500002,
          17.21666679,
          17.31250004,
          15.14999989,
          null,
          null,
          14.22083333,
          14.45416652,
          11.34166674,
          12.72916666,
          11.2333334,
          11.11250002,
          11.18750006,
          12.07083339,
          12.3791667,
          12.38333342,
          12.38333342,
          14.63749994,
          14.37499982,
          12.51249996,
          14.02083332,
          14.6041668,
          11.90833339,
          11.90833339,
          11.84166666,
          11.07083346,
          11.07083346,
          11.07083346,
          9.895833368,
          9.262499967,
          14.35416671,
          14.47500001,
          13.47499989,
          14.58333344,
          14.58333344,
          null,
          14.58333344,
          null,
          11.17499996,
          12.84999985,
          12.62916664,
          12.42083339,
          14.22499999,
          14.45833322,
          14.22499999
         ],
         "y": [
          1527,
          1856,
          1308,
          1558,
          2093,
          1542,
          1504,
          1542,
          1542,
          1207,
          1578,
          1239,
          1560,
          1567,
          1567,
          1559,
          1608,
          1608,
          1587,
          1308,
          1232,
          1290,
          1531,
          1239,
          1207,
          1569,
          null,
          null,
          1694,
          1591,
          1885,
          1889,
          1922,
          1947,
          1952,
          1869,
          1789,
          1785,
          1785,
          1625,
          1688,
          1915,
          1643,
          1621,
          1869,
          1869,
          1872,
          2075,
          2027,
          2027,
          2046,
          2066,
          1658,
          1665,
          1553,
          1591,
          1591,
          null,
          1591,
          null,
          2023,
          2011,
          1963,
          1794,
          1566,
          1543,
          1560
         ],
         "z": [
          "Madrean Encinal",
          "Madrean Pinyon-Juniper Woodland",
          "Chihuahuan Creosotebush, Mixed Desert and Thorn Scrub",
          "Apacherian-Chihuahuan Mesquite Upland Scrub",
          "Rocky Mountain Gambel Oak-Mixed Montane Shrubland",
          "Apacherian-Chihuahuan Piedmont Semi-Desert Grassland and Steppe",
          "Apacherian-Chihuahuan Piedmont Semi-Desert Grassland and Steppe",
          "Apacherian-Chihuahuan Piedmont Semi-Desert Grassland and Steppe",
          "Apacherian-Chihuahuan Mesquite Upland Scrub",
          "Madrean Encinal",
          "Apacherian-Chihuahuan Piedmont Semi-Desert Grassland and Steppe",
          "Madrean Encinal",
          "Madrean Pinyon-Juniper Woodland",
          "Apacherian-Chihuahuan Mesquite Upland Scrub",
          "Apacherian-Chihuahuan Mesquite Upland Scrub",
          "Apacherian-Chihuahuan Mesquite Upland Scrub",
          "Mogollon Chaparral",
          "Mogollon Chaparral",
          "Madrean Encinal",
          "Apacherian-Chihuahuan Mesquite Upland Scrub",
          "Madrean Encinal",
          "Chihuahuan Mixed Salt Desert Scrub",
          "Apacherian-Chihuahuan Piedmont Semi-Desert Grassland and Steppe",
          "Madrean Encinal",
          "Madrean Encinal",
          "Apacherian-Chihuahuan Piedmont Semi-Desert Grassland and Steppe",
          null,
          null,
          "Apacherian-Chihuahuan Piedmont Semi-Desert Grassland and Steppe",
          "Apacherian-Chihuahuan Piedmont Semi-Desert Grassland and Steppe",
          "Madrean Pinyon-Juniper Woodland",
          "Madrean Pinyon-Juniper Woodland",
          "Colorado Plateau Pinyon-Juniper Woodland",
          "Colorado Plateau Pinyon-Juniper Woodland",
          "Colorado Plateau Pinyon-Juniper Woodland",
          "Madrean Pinyon-Juniper Woodland",
          "Madrean Pinyon-Juniper Woodland",
          "Madrean Pinyon-Juniper Woodland",
          "Madrean Pinyon-Juniper Woodland",
          "Apacherian-Chihuahuan Piedmont Semi-Desert Grassland and Steppe",
          "Madrean Encinal",
          "Madrean Pinyon-Juniper Woodland",
          "Apacherian-Chihuahuan Piedmont Semi-Desert Grassland and Steppe",
          "Madrean Pinyon-Juniper Woodland",
          "Madrean Pinyon-Juniper Woodland",
          "Madrean Pinyon-Juniper Woodland",
          "Madrean Pinyon-Juniper Woodland",
          "Colorado Plateau Pinyon-Juniper Woodland",
          "Rocky Mountain Ponderosa Pine Woodland",
          "Rocky Mountain Ponderosa Pine Woodland",
          "Colorado Plateau Pinyon-Juniper Woodland",
          "Colorado Plateau Pinyon-Juniper Woodland",
          "Madrean Encinal",
          "Apacherian-Chihuahuan Piedmont Semi-Desert Grassland and Steppe",
          "Madrean Pinyon-Juniper Woodland",
          "Apacherian-Chihuahuan Piedmont Semi-Desert Grassland and Steppe",
          "Apacherian-Chihuahuan Piedmont Semi-Desert Grassland and Steppe",
          null,
          "Apacherian-Chihuahuan Piedmont Semi-Desert Grassland and Steppe",
          null,
          "Colorado Plateau Pinyon-Juniper Woodland",
          "Southern Rocky Mountain Pinyon-Juniper Woodland",
          "Southern Rocky Mountain Pinyon-Juniper Woodland",
          "Madrean Pinyon-Juniper Woodland",
          "Madrean Pinyon-Juniper Woodland",
          "Apacherian-Chihuahuan Piedmont Semi-Desert Grassland and Steppe",
          "Madrean Pinyon-Juniper Woodland"
         ]
        }
       ],
       "layout": {
        "legend": {
         "title": {
          "text": "edad"
         },
         "tracegroupgap": 0
        },
        "scene": {
         "domain": {
          "x": [
           0,
           1
          ],
          "y": [
           0,
           1
          ]
         },
         "xaxis": {
          "title": {
           "text": "tmedia17"
          }
         },
         "yaxis": {
          "title": {
           "text": "altitud"
          }
         },
         "zaxis": {
          "title": {
           "text": "gap"
          }
         }
        },
        "template": {
         "data": {
          "bar": [
           {
            "error_x": {
             "color": "#2a3f5f"
            },
            "error_y": {
             "color": "#2a3f5f"
            },
            "marker": {
             "line": {
              "color": "#E5ECF6",
              "width": 0.5
             },
             "pattern": {
              "fillmode": "overlay",
              "size": 10,
              "solidity": 0.2
             }
            },
            "type": "bar"
           }
          ],
          "barpolar": [
           {
            "marker": {
             "line": {
              "color": "#E5ECF6",
              "width": 0.5
             },
             "pattern": {
              "fillmode": "overlay",
              "size": 10,
              "solidity": 0.2
             }
            },
            "type": "barpolar"
           }
          ],
          "carpet": [
           {
            "aaxis": {
             "endlinecolor": "#2a3f5f",
             "gridcolor": "white",
             "linecolor": "white",
             "minorgridcolor": "white",
             "startlinecolor": "#2a3f5f"
            },
            "baxis": {
             "endlinecolor": "#2a3f5f",
             "gridcolor": "white",
             "linecolor": "white",
             "minorgridcolor": "white",
             "startlinecolor": "#2a3f5f"
            },
            "type": "carpet"
           }
          ],
          "choropleth": [
           {
            "colorbar": {
             "outlinewidth": 0,
             "ticks": ""
            },
            "type": "choropleth"
           }
          ],
          "contour": [
           {
            "colorbar": {
             "outlinewidth": 0,
             "ticks": ""
            },
            "colorscale": [
             [
              0,
              "#0d0887"
             ],
             [
              0.1111111111111111,
              "#46039f"
             ],
             [
              0.2222222222222222,
              "#7201a8"
             ],
             [
              0.3333333333333333,
              "#9c179e"
             ],
             [
              0.4444444444444444,
              "#bd3786"
             ],
             [
              0.5555555555555556,
              "#d8576b"
             ],
             [
              0.6666666666666666,
              "#ed7953"
             ],
             [
              0.7777777777777778,
              "#fb9f3a"
             ],
             [
              0.8888888888888888,
              "#fdca26"
             ],
             [
              1,
              "#f0f921"
             ]
            ],
            "type": "contour"
           }
          ],
          "contourcarpet": [
           {
            "colorbar": {
             "outlinewidth": 0,
             "ticks": ""
            },
            "type": "contourcarpet"
           }
          ],
          "heatmap": [
           {
            "colorbar": {
             "outlinewidth": 0,
             "ticks": ""
            },
            "colorscale": [
             [
              0,
              "#0d0887"
             ],
             [
              0.1111111111111111,
              "#46039f"
             ],
             [
              0.2222222222222222,
              "#7201a8"
             ],
             [
              0.3333333333333333,
              "#9c179e"
             ],
             [
              0.4444444444444444,
              "#bd3786"
             ],
             [
              0.5555555555555556,
              "#d8576b"
             ],
             [
              0.6666666666666666,
              "#ed7953"
             ],
             [
              0.7777777777777778,
              "#fb9f3a"
             ],
             [
              0.8888888888888888,
              "#fdca26"
             ],
             [
              1,
              "#f0f921"
             ]
            ],
            "type": "heatmap"
           }
          ],
          "heatmapgl": [
           {
            "colorbar": {
             "outlinewidth": 0,
             "ticks": ""
            },
            "colorscale": [
             [
              0,
              "#0d0887"
             ],
             [
              0.1111111111111111,
              "#46039f"
             ],
             [
              0.2222222222222222,
              "#7201a8"
             ],
             [
              0.3333333333333333,
              "#9c179e"
             ],
             [
              0.4444444444444444,
              "#bd3786"
             ],
             [
              0.5555555555555556,
              "#d8576b"
             ],
             [
              0.6666666666666666,
              "#ed7953"
             ],
             [
              0.7777777777777778,
              "#fb9f3a"
             ],
             [
              0.8888888888888888,
              "#fdca26"
             ],
             [
              1,
              "#f0f921"
             ]
            ],
            "type": "heatmapgl"
           }
          ],
          "histogram": [
           {
            "marker": {
             "pattern": {
              "fillmode": "overlay",
              "size": 10,
              "solidity": 0.2
             }
            },
            "type": "histogram"
           }
          ],
          "histogram2d": [
           {
            "colorbar": {
             "outlinewidth": 0,
             "ticks": ""
            },
            "colorscale": [
             [
              0,
              "#0d0887"
             ],
             [
              0.1111111111111111,
              "#46039f"
             ],
             [
              0.2222222222222222,
              "#7201a8"
             ],
             [
              0.3333333333333333,
              "#9c179e"
             ],
             [
              0.4444444444444444,
              "#bd3786"
             ],
             [
              0.5555555555555556,
              "#d8576b"
             ],
             [
              0.6666666666666666,
              "#ed7953"
             ],
             [
              0.7777777777777778,
              "#fb9f3a"
             ],
             [
              0.8888888888888888,
              "#fdca26"
             ],
             [
              1,
              "#f0f921"
             ]
            ],
            "type": "histogram2d"
           }
          ],
          "histogram2dcontour": [
           {
            "colorbar": {
             "outlinewidth": 0,
             "ticks": ""
            },
            "colorscale": [
             [
              0,
              "#0d0887"
             ],
             [
              0.1111111111111111,
              "#46039f"
             ],
             [
              0.2222222222222222,
              "#7201a8"
             ],
             [
              0.3333333333333333,
              "#9c179e"
             ],
             [
              0.4444444444444444,
              "#bd3786"
             ],
             [
              0.5555555555555556,
              "#d8576b"
             ],
             [
              0.6666666666666666,
              "#ed7953"
             ],
             [
              0.7777777777777778,
              "#fb9f3a"
             ],
             [
              0.8888888888888888,
              "#fdca26"
             ],
             [
              1,
              "#f0f921"
             ]
            ],
            "type": "histogram2dcontour"
           }
          ],
          "mesh3d": [
           {
            "colorbar": {
             "outlinewidth": 0,
             "ticks": ""
            },
            "type": "mesh3d"
           }
          ],
          "parcoords": [
           {
            "line": {
             "colorbar": {
              "outlinewidth": 0,
              "ticks": ""
             }
            },
            "type": "parcoords"
           }
          ],
          "pie": [
           {
            "automargin": true,
            "type": "pie"
           }
          ],
          "scatter": [
           {
            "fillpattern": {
             "fillmode": "overlay",
             "size": 10,
             "solidity": 0.2
            },
            "type": "scatter"
           }
          ],
          "scatter3d": [
           {
            "line": {
             "colorbar": {
              "outlinewidth": 0,
              "ticks": ""
             }
            },
            "marker": {
             "colorbar": {
              "outlinewidth": 0,
              "ticks": ""
             }
            },
            "type": "scatter3d"
           }
          ],
          "scattercarpet": [
           {
            "marker": {
             "colorbar": {
              "outlinewidth": 0,
              "ticks": ""
             }
            },
            "type": "scattercarpet"
           }
          ],
          "scattergeo": [
           {
            "marker": {
             "colorbar": {
              "outlinewidth": 0,
              "ticks": ""
             }
            },
            "type": "scattergeo"
           }
          ],
          "scattergl": [
           {
            "marker": {
             "colorbar": {
              "outlinewidth": 0,
              "ticks": ""
             }
            },
            "type": "scattergl"
           }
          ],
          "scattermapbox": [
           {
            "marker": {
             "colorbar": {
              "outlinewidth": 0,
              "ticks": ""
             }
            },
            "type": "scattermapbox"
           }
          ],
          "scatterpolar": [
           {
            "marker": {
             "colorbar": {
              "outlinewidth": 0,
              "ticks": ""
             }
            },
            "type": "scatterpolar"
           }
          ],
          "scatterpolargl": [
           {
            "marker": {
             "colorbar": {
              "outlinewidth": 0,
              "ticks": ""
             }
            },
            "type": "scatterpolargl"
           }
          ],
          "scatterternary": [
           {
            "marker": {
             "colorbar": {
              "outlinewidth": 0,
              "ticks": ""
             }
            },
            "type": "scatterternary"
           }
          ],
          "surface": [
           {
            "colorbar": {
             "outlinewidth": 0,
             "ticks": ""
            },
            "colorscale": [
             [
              0,
              "#0d0887"
             ],
             [
              0.1111111111111111,
              "#46039f"
             ],
             [
              0.2222222222222222,
              "#7201a8"
             ],
             [
              0.3333333333333333,
              "#9c179e"
             ],
             [
              0.4444444444444444,
              "#bd3786"
             ],
             [
              0.5555555555555556,
              "#d8576b"
             ],
             [
              0.6666666666666666,
              "#ed7953"
             ],
             [
              0.7777777777777778,
              "#fb9f3a"
             ],
             [
              0.8888888888888888,
              "#fdca26"
             ],
             [
              1,
              "#f0f921"
             ]
            ],
            "type": "surface"
           }
          ],
          "table": [
           {
            "cells": {
             "fill": {
              "color": "#EBF0F8"
             },
             "line": {
              "color": "white"
             }
            },
            "header": {
             "fill": {
              "color": "#C8D4E3"
             },
             "line": {
              "color": "white"
             }
            },
            "type": "table"
           }
          ]
         },
         "layout": {
          "annotationdefaults": {
           "arrowcolor": "#2a3f5f",
           "arrowhead": 0,
           "arrowwidth": 1
          },
          "autotypenumbers": "strict",
          "coloraxis": {
           "colorbar": {
            "outlinewidth": 0,
            "ticks": ""
           }
          },
          "colorscale": {
           "diverging": [
            [
             0,
             "#8e0152"
            ],
            [
             0.1,
             "#c51b7d"
            ],
            [
             0.2,
             "#de77ae"
            ],
            [
             0.3,
             "#f1b6da"
            ],
            [
             0.4,
             "#fde0ef"
            ],
            [
             0.5,
             "#f7f7f7"
            ],
            [
             0.6,
             "#e6f5d0"
            ],
            [
             0.7,
             "#b8e186"
            ],
            [
             0.8,
             "#7fbc41"
            ],
            [
             0.9,
             "#4d9221"
            ],
            [
             1,
             "#276419"
            ]
           ],
           "sequential": [
            [
             0,
             "#0d0887"
            ],
            [
             0.1111111111111111,
             "#46039f"
            ],
            [
             0.2222222222222222,
             "#7201a8"
            ],
            [
             0.3333333333333333,
             "#9c179e"
            ],
            [
             0.4444444444444444,
             "#bd3786"
            ],
            [
             0.5555555555555556,
             "#d8576b"
            ],
            [
             0.6666666666666666,
             "#ed7953"
            ],
            [
             0.7777777777777778,
             "#fb9f3a"
            ],
            [
             0.8888888888888888,
             "#fdca26"
            ],
            [
             1,
             "#f0f921"
            ]
           ],
           "sequentialminus": [
            [
             0,
             "#0d0887"
            ],
            [
             0.1111111111111111,
             "#46039f"
            ],
            [
             0.2222222222222222,
             "#7201a8"
            ],
            [
             0.3333333333333333,
             "#9c179e"
            ],
            [
             0.4444444444444444,
             "#bd3786"
            ],
            [
             0.5555555555555556,
             "#d8576b"
            ],
            [
             0.6666666666666666,
             "#ed7953"
            ],
            [
             0.7777777777777778,
             "#fb9f3a"
            ],
            [
             0.8888888888888888,
             "#fdca26"
            ],
            [
             1,
             "#f0f921"
            ]
           ]
          },
          "colorway": [
           "#636efa",
           "#EF553B",
           "#00cc96",
           "#ab63fa",
           "#FFA15A",
           "#19d3f3",
           "#FF6692",
           "#B6E880",
           "#FF97FF",
           "#FECB52"
          ],
          "font": {
           "color": "#2a3f5f"
          },
          "geo": {
           "bgcolor": "white",
           "lakecolor": "white",
           "landcolor": "#E5ECF6",
           "showlakes": true,
           "showland": true,
           "subunitcolor": "white"
          },
          "hoverlabel": {
           "align": "left"
          },
          "hovermode": "closest",
          "mapbox": {
           "style": "light"
          },
          "paper_bgcolor": "white",
          "plot_bgcolor": "#E5ECF6",
          "polar": {
           "angularaxis": {
            "gridcolor": "white",
            "linecolor": "white",
            "ticks": ""
           },
           "bgcolor": "#E5ECF6",
           "radialaxis": {
            "gridcolor": "white",
            "linecolor": "white",
            "ticks": ""
           }
          },
          "scene": {
           "xaxis": {
            "backgroundcolor": "#E5ECF6",
            "gridcolor": "white",
            "gridwidth": 2,
            "linecolor": "white",
            "showbackground": true,
            "ticks": "",
            "zerolinecolor": "white"
           },
           "yaxis": {
            "backgroundcolor": "#E5ECF6",
            "gridcolor": "white",
            "gridwidth": 2,
            "linecolor": "white",
            "showbackground": true,
            "ticks": "",
            "zerolinecolor": "white"
           },
           "zaxis": {
            "backgroundcolor": "#E5ECF6",
            "gridcolor": "white",
            "gridwidth": 2,
            "linecolor": "white",
            "showbackground": true,
            "ticks": "",
            "zerolinecolor": "white"
           }
          },
          "shapedefaults": {
           "line": {
            "color": "#2a3f5f"
           }
          },
          "ternary": {
           "aaxis": {
            "gridcolor": "white",
            "linecolor": "white",
            "ticks": ""
           },
           "baxis": {
            "gridcolor": "white",
            "linecolor": "white",
            "ticks": ""
           },
           "bgcolor": "#E5ECF6",
           "caxis": {
            "gridcolor": "white",
            "linecolor": "white",
            "ticks": ""
           }
          },
          "title": {
           "x": 0.05
          },
          "xaxis": {
           "automargin": true,
           "gridcolor": "white",
           "linecolor": "white",
           "ticks": "",
           "title": {
            "standoff": 15
           },
           "zerolinecolor": "white",
           "zerolinewidth": 2
          },
          "yaxis": {
           "automargin": true,
           "gridcolor": "white",
           "linecolor": "white",
           "ticks": "",
           "title": {
            "standoff": 15
           },
           "zerolinecolor": "white",
           "zerolinewidth": 2
          }
         }
        },
        "title": {
         "text": "Relación respecto al Tipo de Vegetación, Temperatura y Altitud"
        }
       }
      }
     },
     "metadata": {},
     "output_type": "display_data"
    }
   ],
   "source": [
    "# Scatterplot 3D de Tipo de Vegetación, Temperatura y Altitud\n",
    "fig2 = px.scatter_3d(df, x='tmedia17', y='altitud', z='gap',\n",
    "                    color='edad', title='Relación respecto al Tipo de Vegetación, Temperatura y Altitud', hover_data={'gap': True})\n",
    "\n",
    "fig2.show()"
   ]
  },
  {
   "cell_type": "code",
   "execution_count": 7,
   "metadata": {},
   "outputs": [
    {
     "data": {
      "application/vnd.plotly.v1+json": {
       "config": {
        "plotlyServerURL": "https://plot.ly"
       },
       "data": [
        {
         "alignmentgroup": "True",
         "bingroup": "x",
         "hovertemplate": "edad=J<br>dist camino=%{x}<br>count=%{y}<extra></extra>",
         "legendgroup": "J",
         "marker": {
          "color": "#636efa",
          "pattern": {
           "shape": ""
          }
         },
         "name": "J",
         "offsetgroup": "J",
         "orientation": "v",
         "showlegend": true,
         "type": "histogram",
         "x": [
          251.86,
          251.86,
          23.07,
          236.76,
          144.68,
          190.95,
          26.67,
          26.67,
          190.95,
          236.76,
          67.3,
          191.66,
          248.39,
          57.94,
          67.3,
          26.67,
          204.37,
          271.02,
          278.67,
          204.52,
          85.38,
          null,
          43.47,
          85.38,
          25.21,
          85.38,
          161.8,
          222.73,
          55.79,
          null,
          223.21,
          161.8,
          55.79,
          49.79,
          55.79,
          223.21,
          42.51,
          108.04,
          25.21,
          25.21,
          142.51,
          50.52,
          113.61,
          null,
          451.6,
          272.86,
          272.86,
          97.65,
          50.52,
          101.64,
          211.01,
          211.01,
          171.92,
          171.92,
          171.92,
          171.92,
          230.06,
          230.06,
          108.04,
          161.74,
          111.82,
          111.82,
          111.82,
          247.41,
          199.39,
          111.6,
          251.24,
          207.95,
          109.61,
          187.92,
          187.92,
          211.97,
          110.14,
          110.14,
          230.06,
          46.74,
          51.77,
          null,
          23.73,
          401.45,
          536.78,
          536.78,
          191.63,
          61.01,
          96.82,
          222.86,
          552.46,
          191.08,
          191.63,
          398.94,
          398.94,
          235.44,
          253.42,
          253.42,
          121.27,
          43.73,
          201.5,
          43.73,
          86.84,
          66.79,
          86.84,
          201.5,
          99.93,
          99.93,
          99.93,
          51.51,
          6.4,
          89.12,
          6.4,
          124.09,
          33.84,
          65.39,
          65.39,
          326.56,
          375.79,
          287.93,
          287.93,
          287.93,
          194.27,
          136.4,
          611.16,
          611.16,
          375.79,
          316.65,
          6.4,
          213.92,
          191.63,
          213.92,
          369.88,
          190.95,
          316.65,
          198.04,
          96.82,
          null,
          null,
          null,
          null,
          413.73,
          633.63,
          633.63,
          633.63,
          325.2,
          32.66,
          89.31,
          83.99,
          83.99,
          143.15,
          139.03,
          139.03,
          42.77,
          42.77,
          84.69,
          84.69,
          239.32,
          239.32,
          239.32,
          376.44,
          376.44,
          376.44,
          408.37,
          715.3,
          715.3,
          127.25,
          86.99,
          763.38
         ],
         "xaxis": "x",
         "yaxis": "y"
        },
        {
         "alignmentgroup": "True",
         "bingroup": "x",
         "hovertemplate": "edad=A<br>dist camino=%{x}<br>count=%{y}<extra></extra>",
         "legendgroup": "A",
         "marker": {
          "color": "#EF553B",
          "pattern": {
           "shape": ""
          }
         },
         "name": "A",
         "offsetgroup": "A",
         "orientation": "v",
         "showlegend": true,
         "type": "histogram",
         "x": [
          574.06,
          293.82,
          23.14,
          111.82,
          189.52,
          43.47,
          12.36,
          43.47,
          7.49,
          7.96,
          108.04,
          313.92,
          763.38,
          451.6,
          451.6,
          272.86,
          161.74,
          161.74,
          198.58,
          20.21,
          168.93,
          110.14,
          30.91,
          313.92,
          7.96,
          302.62,
          null,
          null,
          97.11,
          536.78,
          398.94,
          43.73,
          219.49,
          99.93,
          51.51,
          100.72,
          65.39,
          19.95,
          19.95,
          287.93,
          325.59,
          194.27,
          611.16,
          774.84,
          19.25,
          19.25,
          75.23,
          176.64,
          35.21,
          35.21,
          81.82,
          316.65,
          154.03,
          198.04,
          595.64,
          469.21,
          469.21,
          null,
          469.21,
          null,
          32.66,
          325.2,
          139.03,
          408.37,
          767.98,
          86.99,
          763.38
         ],
         "xaxis": "x",
         "yaxis": "y"
        }
       ],
       "layout": {
        "barmode": "relative",
        "legend": {
         "title": {
          "text": "edad"
         },
         "tracegroupgap": 0
        },
        "template": {
         "data": {
          "bar": [
           {
            "error_x": {
             "color": "#2a3f5f"
            },
            "error_y": {
             "color": "#2a3f5f"
            },
            "marker": {
             "line": {
              "color": "#E5ECF6",
              "width": 0.5
             },
             "pattern": {
              "fillmode": "overlay",
              "size": 10,
              "solidity": 0.2
             }
            },
            "type": "bar"
           }
          ],
          "barpolar": [
           {
            "marker": {
             "line": {
              "color": "#E5ECF6",
              "width": 0.5
             },
             "pattern": {
              "fillmode": "overlay",
              "size": 10,
              "solidity": 0.2
             }
            },
            "type": "barpolar"
           }
          ],
          "carpet": [
           {
            "aaxis": {
             "endlinecolor": "#2a3f5f",
             "gridcolor": "white",
             "linecolor": "white",
             "minorgridcolor": "white",
             "startlinecolor": "#2a3f5f"
            },
            "baxis": {
             "endlinecolor": "#2a3f5f",
             "gridcolor": "white",
             "linecolor": "white",
             "minorgridcolor": "white",
             "startlinecolor": "#2a3f5f"
            },
            "type": "carpet"
           }
          ],
          "choropleth": [
           {
            "colorbar": {
             "outlinewidth": 0,
             "ticks": ""
            },
            "type": "choropleth"
           }
          ],
          "contour": [
           {
            "colorbar": {
             "outlinewidth": 0,
             "ticks": ""
            },
            "colorscale": [
             [
              0,
              "#0d0887"
             ],
             [
              0.1111111111111111,
              "#46039f"
             ],
             [
              0.2222222222222222,
              "#7201a8"
             ],
             [
              0.3333333333333333,
              "#9c179e"
             ],
             [
              0.4444444444444444,
              "#bd3786"
             ],
             [
              0.5555555555555556,
              "#d8576b"
             ],
             [
              0.6666666666666666,
              "#ed7953"
             ],
             [
              0.7777777777777778,
              "#fb9f3a"
             ],
             [
              0.8888888888888888,
              "#fdca26"
             ],
             [
              1,
              "#f0f921"
             ]
            ],
            "type": "contour"
           }
          ],
          "contourcarpet": [
           {
            "colorbar": {
             "outlinewidth": 0,
             "ticks": ""
            },
            "type": "contourcarpet"
           }
          ],
          "heatmap": [
           {
            "colorbar": {
             "outlinewidth": 0,
             "ticks": ""
            },
            "colorscale": [
             [
              0,
              "#0d0887"
             ],
             [
              0.1111111111111111,
              "#46039f"
             ],
             [
              0.2222222222222222,
              "#7201a8"
             ],
             [
              0.3333333333333333,
              "#9c179e"
             ],
             [
              0.4444444444444444,
              "#bd3786"
             ],
             [
              0.5555555555555556,
              "#d8576b"
             ],
             [
              0.6666666666666666,
              "#ed7953"
             ],
             [
              0.7777777777777778,
              "#fb9f3a"
             ],
             [
              0.8888888888888888,
              "#fdca26"
             ],
             [
              1,
              "#f0f921"
             ]
            ],
            "type": "heatmap"
           }
          ],
          "heatmapgl": [
           {
            "colorbar": {
             "outlinewidth": 0,
             "ticks": ""
            },
            "colorscale": [
             [
              0,
              "#0d0887"
             ],
             [
              0.1111111111111111,
              "#46039f"
             ],
             [
              0.2222222222222222,
              "#7201a8"
             ],
             [
              0.3333333333333333,
              "#9c179e"
             ],
             [
              0.4444444444444444,
              "#bd3786"
             ],
             [
              0.5555555555555556,
              "#d8576b"
             ],
             [
              0.6666666666666666,
              "#ed7953"
             ],
             [
              0.7777777777777778,
              "#fb9f3a"
             ],
             [
              0.8888888888888888,
              "#fdca26"
             ],
             [
              1,
              "#f0f921"
             ]
            ],
            "type": "heatmapgl"
           }
          ],
          "histogram": [
           {
            "marker": {
             "pattern": {
              "fillmode": "overlay",
              "size": 10,
              "solidity": 0.2
             }
            },
            "type": "histogram"
           }
          ],
          "histogram2d": [
           {
            "colorbar": {
             "outlinewidth": 0,
             "ticks": ""
            },
            "colorscale": [
             [
              0,
              "#0d0887"
             ],
             [
              0.1111111111111111,
              "#46039f"
             ],
             [
              0.2222222222222222,
              "#7201a8"
             ],
             [
              0.3333333333333333,
              "#9c179e"
             ],
             [
              0.4444444444444444,
              "#bd3786"
             ],
             [
              0.5555555555555556,
              "#d8576b"
             ],
             [
              0.6666666666666666,
              "#ed7953"
             ],
             [
              0.7777777777777778,
              "#fb9f3a"
             ],
             [
              0.8888888888888888,
              "#fdca26"
             ],
             [
              1,
              "#f0f921"
             ]
            ],
            "type": "histogram2d"
           }
          ],
          "histogram2dcontour": [
           {
            "colorbar": {
             "outlinewidth": 0,
             "ticks": ""
            },
            "colorscale": [
             [
              0,
              "#0d0887"
             ],
             [
              0.1111111111111111,
              "#46039f"
             ],
             [
              0.2222222222222222,
              "#7201a8"
             ],
             [
              0.3333333333333333,
              "#9c179e"
             ],
             [
              0.4444444444444444,
              "#bd3786"
             ],
             [
              0.5555555555555556,
              "#d8576b"
             ],
             [
              0.6666666666666666,
              "#ed7953"
             ],
             [
              0.7777777777777778,
              "#fb9f3a"
             ],
             [
              0.8888888888888888,
              "#fdca26"
             ],
             [
              1,
              "#f0f921"
             ]
            ],
            "type": "histogram2dcontour"
           }
          ],
          "mesh3d": [
           {
            "colorbar": {
             "outlinewidth": 0,
             "ticks": ""
            },
            "type": "mesh3d"
           }
          ],
          "parcoords": [
           {
            "line": {
             "colorbar": {
              "outlinewidth": 0,
              "ticks": ""
             }
            },
            "type": "parcoords"
           }
          ],
          "pie": [
           {
            "automargin": true,
            "type": "pie"
           }
          ],
          "scatter": [
           {
            "fillpattern": {
             "fillmode": "overlay",
             "size": 10,
             "solidity": 0.2
            },
            "type": "scatter"
           }
          ],
          "scatter3d": [
           {
            "line": {
             "colorbar": {
              "outlinewidth": 0,
              "ticks": ""
             }
            },
            "marker": {
             "colorbar": {
              "outlinewidth": 0,
              "ticks": ""
             }
            },
            "type": "scatter3d"
           }
          ],
          "scattercarpet": [
           {
            "marker": {
             "colorbar": {
              "outlinewidth": 0,
              "ticks": ""
             }
            },
            "type": "scattercarpet"
           }
          ],
          "scattergeo": [
           {
            "marker": {
             "colorbar": {
              "outlinewidth": 0,
              "ticks": ""
             }
            },
            "type": "scattergeo"
           }
          ],
          "scattergl": [
           {
            "marker": {
             "colorbar": {
              "outlinewidth": 0,
              "ticks": ""
             }
            },
            "type": "scattergl"
           }
          ],
          "scattermapbox": [
           {
            "marker": {
             "colorbar": {
              "outlinewidth": 0,
              "ticks": ""
             }
            },
            "type": "scattermapbox"
           }
          ],
          "scatterpolar": [
           {
            "marker": {
             "colorbar": {
              "outlinewidth": 0,
              "ticks": ""
             }
            },
            "type": "scatterpolar"
           }
          ],
          "scatterpolargl": [
           {
            "marker": {
             "colorbar": {
              "outlinewidth": 0,
              "ticks": ""
             }
            },
            "type": "scatterpolargl"
           }
          ],
          "scatterternary": [
           {
            "marker": {
             "colorbar": {
              "outlinewidth": 0,
              "ticks": ""
             }
            },
            "type": "scatterternary"
           }
          ],
          "surface": [
           {
            "colorbar": {
             "outlinewidth": 0,
             "ticks": ""
            },
            "colorscale": [
             [
              0,
              "#0d0887"
             ],
             [
              0.1111111111111111,
              "#46039f"
             ],
             [
              0.2222222222222222,
              "#7201a8"
             ],
             [
              0.3333333333333333,
              "#9c179e"
             ],
             [
              0.4444444444444444,
              "#bd3786"
             ],
             [
              0.5555555555555556,
              "#d8576b"
             ],
             [
              0.6666666666666666,
              "#ed7953"
             ],
             [
              0.7777777777777778,
              "#fb9f3a"
             ],
             [
              0.8888888888888888,
              "#fdca26"
             ],
             [
              1,
              "#f0f921"
             ]
            ],
            "type": "surface"
           }
          ],
          "table": [
           {
            "cells": {
             "fill": {
              "color": "#EBF0F8"
             },
             "line": {
              "color": "white"
             }
            },
            "header": {
             "fill": {
              "color": "#C8D4E3"
             },
             "line": {
              "color": "white"
             }
            },
            "type": "table"
           }
          ]
         },
         "layout": {
          "annotationdefaults": {
           "arrowcolor": "#2a3f5f",
           "arrowhead": 0,
           "arrowwidth": 1
          },
          "autotypenumbers": "strict",
          "coloraxis": {
           "colorbar": {
            "outlinewidth": 0,
            "ticks": ""
           }
          },
          "colorscale": {
           "diverging": [
            [
             0,
             "#8e0152"
            ],
            [
             0.1,
             "#c51b7d"
            ],
            [
             0.2,
             "#de77ae"
            ],
            [
             0.3,
             "#f1b6da"
            ],
            [
             0.4,
             "#fde0ef"
            ],
            [
             0.5,
             "#f7f7f7"
            ],
            [
             0.6,
             "#e6f5d0"
            ],
            [
             0.7,
             "#b8e186"
            ],
            [
             0.8,
             "#7fbc41"
            ],
            [
             0.9,
             "#4d9221"
            ],
            [
             1,
             "#276419"
            ]
           ],
           "sequential": [
            [
             0,
             "#0d0887"
            ],
            [
             0.1111111111111111,
             "#46039f"
            ],
            [
             0.2222222222222222,
             "#7201a8"
            ],
            [
             0.3333333333333333,
             "#9c179e"
            ],
            [
             0.4444444444444444,
             "#bd3786"
            ],
            [
             0.5555555555555556,
             "#d8576b"
            ],
            [
             0.6666666666666666,
             "#ed7953"
            ],
            [
             0.7777777777777778,
             "#fb9f3a"
            ],
            [
             0.8888888888888888,
             "#fdca26"
            ],
            [
             1,
             "#f0f921"
            ]
           ],
           "sequentialminus": [
            [
             0,
             "#0d0887"
            ],
            [
             0.1111111111111111,
             "#46039f"
            ],
            [
             0.2222222222222222,
             "#7201a8"
            ],
            [
             0.3333333333333333,
             "#9c179e"
            ],
            [
             0.4444444444444444,
             "#bd3786"
            ],
            [
             0.5555555555555556,
             "#d8576b"
            ],
            [
             0.6666666666666666,
             "#ed7953"
            ],
            [
             0.7777777777777778,
             "#fb9f3a"
            ],
            [
             0.8888888888888888,
             "#fdca26"
            ],
            [
             1,
             "#f0f921"
            ]
           ]
          },
          "colorway": [
           "#636efa",
           "#EF553B",
           "#00cc96",
           "#ab63fa",
           "#FFA15A",
           "#19d3f3",
           "#FF6692",
           "#B6E880",
           "#FF97FF",
           "#FECB52"
          ],
          "font": {
           "color": "#2a3f5f"
          },
          "geo": {
           "bgcolor": "white",
           "lakecolor": "white",
           "landcolor": "#E5ECF6",
           "showlakes": true,
           "showland": true,
           "subunitcolor": "white"
          },
          "hoverlabel": {
           "align": "left"
          },
          "hovermode": "closest",
          "mapbox": {
           "style": "light"
          },
          "paper_bgcolor": "white",
          "plot_bgcolor": "#E5ECF6",
          "polar": {
           "angularaxis": {
            "gridcolor": "white",
            "linecolor": "white",
            "ticks": ""
           },
           "bgcolor": "#E5ECF6",
           "radialaxis": {
            "gridcolor": "white",
            "linecolor": "white",
            "ticks": ""
           }
          },
          "scene": {
           "xaxis": {
            "backgroundcolor": "#E5ECF6",
            "gridcolor": "white",
            "gridwidth": 2,
            "linecolor": "white",
            "showbackground": true,
            "ticks": "",
            "zerolinecolor": "white"
           },
           "yaxis": {
            "backgroundcolor": "#E5ECF6",
            "gridcolor": "white",
            "gridwidth": 2,
            "linecolor": "white",
            "showbackground": true,
            "ticks": "",
            "zerolinecolor": "white"
           },
           "zaxis": {
            "backgroundcolor": "#E5ECF6",
            "gridcolor": "white",
            "gridwidth": 2,
            "linecolor": "white",
            "showbackground": true,
            "ticks": "",
            "zerolinecolor": "white"
           }
          },
          "shapedefaults": {
           "line": {
            "color": "#2a3f5f"
           }
          },
          "ternary": {
           "aaxis": {
            "gridcolor": "white",
            "linecolor": "white",
            "ticks": ""
           },
           "baxis": {
            "gridcolor": "white",
            "linecolor": "white",
            "ticks": ""
           },
           "bgcolor": "#E5ECF6",
           "caxis": {
            "gridcolor": "white",
            "linecolor": "white",
            "ticks": ""
           }
          },
          "title": {
           "x": 0.05
          },
          "xaxis": {
           "automargin": true,
           "gridcolor": "white",
           "linecolor": "white",
           "ticks": "",
           "title": {
            "standoff": 15
           },
           "zerolinecolor": "white",
           "zerolinewidth": 2
          },
          "yaxis": {
           "automargin": true,
           "gridcolor": "white",
           "linecolor": "white",
           "ticks": "",
           "title": {
            "standoff": 15
           },
           "zerolinecolor": "white",
           "zerolinewidth": 2
          }
         }
        },
        "title": {
         "text": "Histograma de Distancia al Camino más Cercano"
        },
        "xaxis": {
         "anchor": "y",
         "domain": [
          0,
          1
         ],
         "title": {
          "text": "dist camino"
         }
        },
        "yaxis": {
         "anchor": "x",
         "domain": [
          0,
          1
         ],
         "title": {
          "text": "count"
         }
        }
       }
      }
     },
     "metadata": {},
     "output_type": "display_data"
    }
   ],
   "source": [
    "# Histograma de la Distancia al Camino más Cercano\n",
    "fig3 = px.histogram(df, x='dist camino', color='edad', title='Histograma de Distancia al Camino más Cercano')\n",
    "fig3.show()"
   ]
  }
 ],
 "metadata": {
  "kernelspec": {
   "display_name": "Python 3",
   "language": "python",
   "name": "python3"
  },
  "language_info": {
   "codemirror_mode": {
    "name": "ipython",
    "version": 3
   },
   "file_extension": ".py",
   "mimetype": "text/x-python",
   "name": "python",
   "nbconvert_exporter": "python",
   "pygments_lexer": "ipython3",
   "version": "3.11.3"
  }
 },
 "nbformat": 4,
 "nbformat_minor": 2
}
